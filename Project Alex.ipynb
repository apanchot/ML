{
 "cells": [
  {
   "cell_type": "code",
   "execution_count": 746,
   "metadata": {},
   "outputs": [],
   "source": [
    "import warnings\n",
    "warnings.filterwarnings('ignore')\n",
    "import pandas as pd\n",
    "import numpy as np\n",
    "import matplotlib.pyplot as plt\n",
    "import seaborn as sns\n",
    "import re\n",
    "from collections import Counter\n",
    "from sklearn.model_selection import GridSearchCV, RandomizedSearchCV, train_test_split, cross_val_score\n",
    "from sklearn.feature_selection import RFECV, SelectKBest, chi2, f_classif\n",
    "from sklearn.neural_network import MLPClassifier\n",
    "from sklearn.metrics import confusion_matrix, classification_report, accuracy_score, f1_score\n",
    "from sklearn.ensemble import RandomForestClassifier, AdaBoostClassifier, VotingClassifier, BaggingClassifier\n",
    "from sklearn.preprocessing import MinMaxScaler, StandardScaler, RobustScaler, PowerTransformer, LabelEncoder\n",
    "from sklearn.linear_model import LogisticRegression\n",
    "from sklearn.pipeline import Pipeline, FeatureUnion\n",
    "from sklearn.neighbors import KNeighborsClassifier\n",
    "from sklearn.impute import KNNImputer, SimpleImputer, MissingIndicator\n",
    "from sklearn.naive_bayes import GaussianNB\n",
    "from tqdm import tqdm\n",
    "from imblearn.over_sampling import SMOTE, RandomOverSampler\n",
    "from imblearn.under_sampling import RandomUnderSampler\n",
    "from imblearn.pipeline import Pipeline\n",
    "from sklearn.discriminant_analysis import LinearDiscriminantAnalysis\n",
    "from xgboost import XGBClassifier"
   ]
  },
  {
   "cell_type": "markdown",
   "metadata": {},
   "source": [
    "- Importing files:"
   ]
  },
  {
   "cell_type": "code",
   "execution_count": 771,
   "metadata": {},
   "outputs": [],
   "source": [
    "df_train = pd.read_csv(r'train.csv')"
   ]
  },
  {
   "cell_type": "code",
   "execution_count": 772,
   "metadata": {},
   "outputs": [],
   "source": [
    "df_test = pd.read_csv(r'test.csv')"
   ]
  },
  {
   "cell_type": "code",
   "execution_count": 773,
   "metadata": {},
   "outputs": [
    {
     "data": {
      "text/html": [
       "<div>\n",
       "<style scoped>\n",
       "    .dataframe tbody tr th:only-of-type {\n",
       "        vertical-align: middle;\n",
       "    }\n",
       "\n",
       "    .dataframe tbody tr th {\n",
       "        vertical-align: top;\n",
       "    }\n",
       "\n",
       "    .dataframe thead th {\n",
       "        text-align: right;\n",
       "    }\n",
       "</style>\n",
       "<table border=\"1\" class=\"dataframe\">\n",
       "  <thead>\n",
       "    <tr style=\"text-align: right;\">\n",
       "      <th></th>\n",
       "      <th>Patient_ID</th>\n",
       "      <th>Family_Case_ID</th>\n",
       "      <th>Severity</th>\n",
       "      <th>Name</th>\n",
       "      <th>Birthday_year</th>\n",
       "      <th>Parents or siblings infected</th>\n",
       "      <th>Wife/Husband or children infected</th>\n",
       "      <th>Medical_Expenses_Family</th>\n",
       "      <th>Medical_Tent</th>\n",
       "      <th>City</th>\n",
       "      <th>Deceased</th>\n",
       "    </tr>\n",
       "  </thead>\n",
       "  <tbody>\n",
       "    <tr>\n",
       "      <th>0</th>\n",
       "      <td>1</td>\n",
       "      <td>4696</td>\n",
       "      <td>3</td>\n",
       "      <td>Miss Linda Betty</td>\n",
       "      <td>NaN</td>\n",
       "      <td>0</td>\n",
       "      <td>0</td>\n",
       "      <td>225</td>\n",
       "      <td>NaN</td>\n",
       "      <td>Santa Fe</td>\n",
       "      <td>1</td>\n",
       "    </tr>\n",
       "    <tr>\n",
       "      <th>1</th>\n",
       "      <td>2</td>\n",
       "      <td>21436</td>\n",
       "      <td>1</td>\n",
       "      <td>Ms. Ramona Elvira</td>\n",
       "      <td>1966.0</td>\n",
       "      <td>0</td>\n",
       "      <td>1</td>\n",
       "      <td>1663</td>\n",
       "      <td>NaN</td>\n",
       "      <td>Albuquerque</td>\n",
       "      <td>0</td>\n",
       "    </tr>\n",
       "    <tr>\n",
       "      <th>2</th>\n",
       "      <td>3</td>\n",
       "      <td>7273</td>\n",
       "      <td>3</td>\n",
       "      <td>Mr. Mario Vernon</td>\n",
       "      <td>1982.0</td>\n",
       "      <td>0</td>\n",
       "      <td>0</td>\n",
       "      <td>221</td>\n",
       "      <td>NaN</td>\n",
       "      <td>Santa Fe</td>\n",
       "      <td>1</td>\n",
       "    </tr>\n",
       "    <tr>\n",
       "      <th>3</th>\n",
       "      <td>4</td>\n",
       "      <td>8226</td>\n",
       "      <td>3</td>\n",
       "      <td>Mr. Hector Joe</td>\n",
       "      <td>1997.0</td>\n",
       "      <td>0</td>\n",
       "      <td>0</td>\n",
       "      <td>220</td>\n",
       "      <td>NaN</td>\n",
       "      <td>Santa Fe</td>\n",
       "      <td>1</td>\n",
       "    </tr>\n",
       "    <tr>\n",
       "      <th>4</th>\n",
       "      <td>5</td>\n",
       "      <td>19689</td>\n",
       "      <td>3</td>\n",
       "      <td>Ms. Jennie Debra</td>\n",
       "      <td>1994.0</td>\n",
       "      <td>0</td>\n",
       "      <td>0</td>\n",
       "      <td>222</td>\n",
       "      <td>NaN</td>\n",
       "      <td>Santa Fe</td>\n",
       "      <td>0</td>\n",
       "    </tr>\n",
       "    <tr>\n",
       "      <th>...</th>\n",
       "      <td>...</td>\n",
       "      <td>...</td>\n",
       "      <td>...</td>\n",
       "      <td>...</td>\n",
       "      <td>...</td>\n",
       "      <td>...</td>\n",
       "      <td>...</td>\n",
       "      <td>...</td>\n",
       "      <td>...</td>\n",
       "      <td>...</td>\n",
       "      <td>...</td>\n",
       "    </tr>\n",
       "    <tr>\n",
       "      <th>895</th>\n",
       "      <td>896</td>\n",
       "      <td>6253</td>\n",
       "      <td>3</td>\n",
       "      <td>Ms. Linda Wilcox</td>\n",
       "      <td>1998.0</td>\n",
       "      <td>1</td>\n",
       "      <td>1</td>\n",
       "      <td>344</td>\n",
       "      <td>NaN</td>\n",
       "      <td>Santa Fe</td>\n",
       "      <td>0</td>\n",
       "    </tr>\n",
       "    <tr>\n",
       "      <th>896</th>\n",
       "      <td>897</td>\n",
       "      <td>6483</td>\n",
       "      <td>3</td>\n",
       "      <td>Mr. Haiden Vance</td>\n",
       "      <td>2006.0</td>\n",
       "      <td>0</td>\n",
       "      <td>0</td>\n",
       "      <td>258</td>\n",
       "      <td>NaN</td>\n",
       "      <td>Santa Fe</td>\n",
       "      <td>0</td>\n",
       "    </tr>\n",
       "    <tr>\n",
       "      <th>897</th>\n",
       "      <td>898</td>\n",
       "      <td>981</td>\n",
       "      <td>3</td>\n",
       "      <td>Miss Anaiya Love</td>\n",
       "      <td>1990.0</td>\n",
       "      <td>0</td>\n",
       "      <td>0</td>\n",
       "      <td>214</td>\n",
       "      <td>NaN</td>\n",
       "      <td>Taos</td>\n",
       "      <td>1</td>\n",
       "    </tr>\n",
       "    <tr>\n",
       "      <th>898</th>\n",
       "      <td>899</td>\n",
       "      <td>16418</td>\n",
       "      <td>2</td>\n",
       "      <td>Mr. Robert Williams</td>\n",
       "      <td>1994.0</td>\n",
       "      <td>1</td>\n",
       "      <td>1</td>\n",
       "      <td>812</td>\n",
       "      <td>NaN</td>\n",
       "      <td>Santa Fe</td>\n",
       "      <td>0</td>\n",
       "    </tr>\n",
       "    <tr>\n",
       "      <th>899</th>\n",
       "      <td>900</td>\n",
       "      <td>3782</td>\n",
       "      <td>3</td>\n",
       "      <td>Ms. Marjorie Hays</td>\n",
       "      <td>2002.0</td>\n",
       "      <td>0</td>\n",
       "      <td>0</td>\n",
       "      <td>202</td>\n",
       "      <td>C</td>\n",
       "      <td>Albuquerque</td>\n",
       "      <td>0</td>\n",
       "    </tr>\n",
       "  </tbody>\n",
       "</table>\n",
       "<p>900 rows × 11 columns</p>\n",
       "</div>"
      ],
      "text/plain": [
       "     Patient_ID  Family_Case_ID  Severity                 Name  Birthday_year  \\\n",
       "0             1            4696         3     Miss Linda Betty            NaN   \n",
       "1             2           21436         1    Ms. Ramona Elvira         1966.0   \n",
       "2             3            7273         3     Mr. Mario Vernon         1982.0   \n",
       "3             4            8226         3       Mr. Hector Joe         1997.0   \n",
       "4             5           19689         3     Ms. Jennie Debra         1994.0   \n",
       "..          ...             ...       ...                  ...            ...   \n",
       "895         896            6253         3     Ms. Linda Wilcox         1998.0   \n",
       "896         897            6483         3     Mr. Haiden Vance         2006.0   \n",
       "897         898             981         3     Miss Anaiya Love         1990.0   \n",
       "898         899           16418         2  Mr. Robert Williams         1994.0   \n",
       "899         900            3782         3    Ms. Marjorie Hays         2002.0   \n",
       "\n",
       "     Parents or siblings infected  Wife/Husband or children infected  \\\n",
       "0                               0                                  0   \n",
       "1                               0                                  1   \n",
       "2                               0                                  0   \n",
       "3                               0                                  0   \n",
       "4                               0                                  0   \n",
       "..                            ...                                ...   \n",
       "895                             1                                  1   \n",
       "896                             0                                  0   \n",
       "897                             0                                  0   \n",
       "898                             1                                  1   \n",
       "899                             0                                  0   \n",
       "\n",
       "     Medical_Expenses_Family Medical_Tent         City  Deceased  \n",
       "0                        225          NaN     Santa Fe         1  \n",
       "1                       1663          NaN  Albuquerque         0  \n",
       "2                        221          NaN     Santa Fe         1  \n",
       "3                        220          NaN     Santa Fe         1  \n",
       "4                        222          NaN     Santa Fe         0  \n",
       "..                       ...          ...          ...       ...  \n",
       "895                      344          NaN     Santa Fe         0  \n",
       "896                      258          NaN     Santa Fe         0  \n",
       "897                      214          NaN         Taos         1  \n",
       "898                      812          NaN     Santa Fe         0  \n",
       "899                      202            C  Albuquerque         0  \n",
       "\n",
       "[900 rows x 11 columns]"
      ]
     },
     "execution_count": 773,
     "metadata": {},
     "output_type": "execute_result"
    }
   ],
   "source": [
    "df_train"
   ]
  },
  {
   "cell_type": "markdown",
   "metadata": {},
   "source": [
    "- Splitting title, first and last names:"
   ]
  },
  {
   "cell_type": "code",
   "execution_count": 774,
   "metadata": {},
   "outputs": [],
   "source": [
    "df_train.loc[:, 'Title'] = df_train.loc[:,'Name'].apply(lambda x: re.search(r\"(.+?)\\s(.+?)\\s(.+)\", x).group(1))\n",
    "df_train.loc[:, 'First_Name'] = df_train.loc[:,'Name'].apply(lambda x: re.search(r\"(.+?)\\s(.+?)\\s(.+)\", x).group(2))\n",
    "df_train.loc[:, 'Last_Name'] = df_train.loc[:,'Name'].apply(lambda x: re.search(r\"(.+?)\\s(.+?)\\s(.+)\", x).group(3))"
   ]
  },
  {
   "cell_type": "code",
   "execution_count": 775,
   "metadata": {},
   "outputs": [],
   "source": [
    "df_test.loc[:, 'Title'] = df_test.loc[:,'Name'].apply(lambda x: re.search(r\"(.+?)\\s(.+?)\\s(.+)\", x).group(1))\n",
    "df_test.loc[:, 'First_Name'] = df_test.loc[:,'Name'].apply(lambda x: re.search(r\"(.+?)\\s(.+?)\\s(.+)\", x).group(2))\n",
    "df_test.loc[:, 'Last_Name'] = df_test.loc[:,'Name'].apply(lambda x: re.search(r\"(.+?)\\s(.+?)\\s(.+)\", x).group(3))"
   ]
  },
  {
   "cell_type": "markdown",
   "metadata": {},
   "source": [
    "- Creating gender:"
   ]
  },
  {
   "cell_type": "code",
   "execution_count": 776,
   "metadata": {},
   "outputs": [],
   "source": [
    "gender_dictionary ={'Miss' : 'F', 'Ms.' : 'F', 'Mr.' : 'M', 'Master' : 'M'} \n",
    "df_train.loc[:,'gender'] = df_train.loc[:,'Title'].map(gender_dictionary) "
   ]
  },
  {
   "cell_type": "code",
   "execution_count": 777,
   "metadata": {},
   "outputs": [],
   "source": [
    "gender_dictionary ={'Miss' : 'F', 'Mrs.' : 'F', 'Mr.' : 'M', 'Master' : 'M'} \n",
    "df_test.loc[:,'gender'] = df_test.loc[:,'Title'].map(gender_dictionary) "
   ]
  },
  {
   "cell_type": "markdown",
   "metadata": {},
   "source": [
    "- Filling missing values:\n",
    "\n",
    "__Medical_tent__"
   ]
  },
  {
   "cell_type": "code",
   "execution_count": 778,
   "metadata": {},
   "outputs": [],
   "source": [
    "df_train.Medical_Tent = df_train.Medical_Tent.fillna('No_tent')"
   ]
  },
  {
   "cell_type": "code",
   "execution_count": 779,
   "metadata": {},
   "outputs": [],
   "source": [
    "df_test.Medical_Tent = df_test.Medical_Tent.fillna('No_tent')"
   ]
  },
  {
   "cell_type": "markdown",
   "metadata": {},
   "source": [
    "__Birthday_year__"
   ]
  },
  {
   "cell_type": "code",
   "execution_count": 780,
   "metadata": {},
   "outputs": [],
   "source": [
    "imputer = SimpleImputer(strategy='mean')\n",
    "imputer.fit(df_train.loc[:,['Birthday_year']])\n",
    "df_train.loc[:,'Birthday_year'] = imputer.transform(df_train.loc[:,['Birthday_year']]).astype(int)"
   ]
  },
  {
   "cell_type": "code",
   "execution_count": 781,
   "metadata": {},
   "outputs": [],
   "source": [
    "df_test.loc[:,'Birthday_year'] = imputer.transform(df_test.loc[:,['Birthday_year']]).astype(int)"
   ]
  },
  {
   "cell_type": "markdown",
   "metadata": {},
   "source": [
    "__City__"
   ]
  },
  {
   "cell_type": "code",
   "execution_count": 782,
   "metadata": {},
   "outputs": [],
   "source": [
    "df_train.loc[:,'City'] = df_train.loc[:,'City'].fillna('Santa Fe')"
   ]
  },
  {
   "cell_type": "markdown",
   "metadata": {},
   "source": [
    "- Encoding:"
   ]
  },
  {
   "cell_type": "code",
   "execution_count": 783,
   "metadata": {},
   "outputs": [],
   "source": [
    "for feature in ['Medical_Tent', 'City', 'gender']:\n",
    "    encoder = LabelEncoder()\n",
    "    encoder.fit(df_train.loc[:, feature])\n",
    "    df_train.loc[:, feature] = encoder.transform(df_train.loc[:, feature])\n",
    "    df_test.loc[:, feature] = encoder.transform(df_test.loc[:, feature])"
   ]
  },
  {
   "cell_type": "markdown",
   "metadata": {},
   "source": [
    "- Creating expenses per capita from medical_expenses_family:"
   ]
  },
  {
   "cell_type": "code",
   "execution_count": 784,
   "metadata": {},
   "outputs": [],
   "source": [
    "df_train.loc[:,'Expenses_per_capita'] = df_train.loc[:,'Medical_Expenses_Family']/(df_train.loc[:,'Parents or siblings infected']+df_train.loc[:,'Wife/Husband or children infected']+1)"
   ]
  },
  {
   "cell_type": "code",
   "execution_count": 785,
   "metadata": {},
   "outputs": [],
   "source": [
    "df_test.loc[:,'Expenses_per_capita'] = df_test.loc[:,'Medical_Expenses_Family']/(df_test.loc[:,'Parents or siblings infected']+df_test.loc[:,'Wife/Husband or children infected']+1)"
   ]
  },
  {
   "cell_type": "code",
   "execution_count": 786,
   "metadata": {},
   "outputs": [
    {
     "data": {
      "text/html": [
       "<div>\n",
       "<style scoped>\n",
       "    .dataframe tbody tr th:only-of-type {\n",
       "        vertical-align: middle;\n",
       "    }\n",
       "\n",
       "    .dataframe tbody tr th {\n",
       "        vertical-align: top;\n",
       "    }\n",
       "\n",
       "    .dataframe thead th {\n",
       "        text-align: right;\n",
       "    }\n",
       "</style>\n",
       "<table border=\"1\" class=\"dataframe\">\n",
       "  <thead>\n",
       "    <tr style=\"text-align: right;\">\n",
       "      <th></th>\n",
       "      <th>Patient_ID</th>\n",
       "      <th>Family_Case_ID</th>\n",
       "      <th>Severity</th>\n",
       "      <th>Name</th>\n",
       "      <th>Birthday_year</th>\n",
       "      <th>Parents or siblings infected</th>\n",
       "      <th>Wife/Husband or children infected</th>\n",
       "      <th>Medical_Expenses_Family</th>\n",
       "      <th>Medical_Tent</th>\n",
       "      <th>City</th>\n",
       "      <th>Deceased</th>\n",
       "      <th>Title</th>\n",
       "      <th>First_Name</th>\n",
       "      <th>Last_Name</th>\n",
       "      <th>gender</th>\n",
       "      <th>Expenses_per_capita</th>\n",
       "    </tr>\n",
       "  </thead>\n",
       "  <tbody>\n",
       "    <tr>\n",
       "      <th>0</th>\n",
       "      <td>1</td>\n",
       "      <td>4696</td>\n",
       "      <td>3</td>\n",
       "      <td>Miss Linda Betty</td>\n",
       "      <td>1990</td>\n",
       "      <td>0</td>\n",
       "      <td>0</td>\n",
       "      <td>225</td>\n",
       "      <td>7</td>\n",
       "      <td>1</td>\n",
       "      <td>1</td>\n",
       "      <td>Miss</td>\n",
       "      <td>Linda</td>\n",
       "      <td>Betty</td>\n",
       "      <td>0</td>\n",
       "      <td>225.000000</td>\n",
       "    </tr>\n",
       "    <tr>\n",
       "      <th>1</th>\n",
       "      <td>2</td>\n",
       "      <td>21436</td>\n",
       "      <td>1</td>\n",
       "      <td>Ms. Ramona Elvira</td>\n",
       "      <td>1966</td>\n",
       "      <td>0</td>\n",
       "      <td>1</td>\n",
       "      <td>1663</td>\n",
       "      <td>7</td>\n",
       "      <td>0</td>\n",
       "      <td>0</td>\n",
       "      <td>Ms.</td>\n",
       "      <td>Ramona</td>\n",
       "      <td>Elvira</td>\n",
       "      <td>0</td>\n",
       "      <td>831.500000</td>\n",
       "    </tr>\n",
       "    <tr>\n",
       "      <th>2</th>\n",
       "      <td>3</td>\n",
       "      <td>7273</td>\n",
       "      <td>3</td>\n",
       "      <td>Mr. Mario Vernon</td>\n",
       "      <td>1982</td>\n",
       "      <td>0</td>\n",
       "      <td>0</td>\n",
       "      <td>221</td>\n",
       "      <td>7</td>\n",
       "      <td>1</td>\n",
       "      <td>1</td>\n",
       "      <td>Mr.</td>\n",
       "      <td>Mario</td>\n",
       "      <td>Vernon</td>\n",
       "      <td>1</td>\n",
       "      <td>221.000000</td>\n",
       "    </tr>\n",
       "    <tr>\n",
       "      <th>3</th>\n",
       "      <td>4</td>\n",
       "      <td>8226</td>\n",
       "      <td>3</td>\n",
       "      <td>Mr. Hector Joe</td>\n",
       "      <td>1997</td>\n",
       "      <td>0</td>\n",
       "      <td>0</td>\n",
       "      <td>220</td>\n",
       "      <td>7</td>\n",
       "      <td>1</td>\n",
       "      <td>1</td>\n",
       "      <td>Mr.</td>\n",
       "      <td>Hector</td>\n",
       "      <td>Joe</td>\n",
       "      <td>1</td>\n",
       "      <td>220.000000</td>\n",
       "    </tr>\n",
       "    <tr>\n",
       "      <th>4</th>\n",
       "      <td>5</td>\n",
       "      <td>19689</td>\n",
       "      <td>3</td>\n",
       "      <td>Ms. Jennie Debra</td>\n",
       "      <td>1994</td>\n",
       "      <td>0</td>\n",
       "      <td>0</td>\n",
       "      <td>222</td>\n",
       "      <td>7</td>\n",
       "      <td>1</td>\n",
       "      <td>0</td>\n",
       "      <td>Ms.</td>\n",
       "      <td>Jennie</td>\n",
       "      <td>Debra</td>\n",
       "      <td>0</td>\n",
       "      <td>222.000000</td>\n",
       "    </tr>\n",
       "    <tr>\n",
       "      <th>...</th>\n",
       "      <td>...</td>\n",
       "      <td>...</td>\n",
       "      <td>...</td>\n",
       "      <td>...</td>\n",
       "      <td>...</td>\n",
       "      <td>...</td>\n",
       "      <td>...</td>\n",
       "      <td>...</td>\n",
       "      <td>...</td>\n",
       "      <td>...</td>\n",
       "      <td>...</td>\n",
       "      <td>...</td>\n",
       "      <td>...</td>\n",
       "      <td>...</td>\n",
       "      <td>...</td>\n",
       "      <td>...</td>\n",
       "    </tr>\n",
       "    <tr>\n",
       "      <th>895</th>\n",
       "      <td>896</td>\n",
       "      <td>6253</td>\n",
       "      <td>3</td>\n",
       "      <td>Ms. Linda Wilcox</td>\n",
       "      <td>1998</td>\n",
       "      <td>1</td>\n",
       "      <td>1</td>\n",
       "      <td>344</td>\n",
       "      <td>7</td>\n",
       "      <td>1</td>\n",
       "      <td>0</td>\n",
       "      <td>Ms.</td>\n",
       "      <td>Linda</td>\n",
       "      <td>Wilcox</td>\n",
       "      <td>0</td>\n",
       "      <td>114.666667</td>\n",
       "    </tr>\n",
       "    <tr>\n",
       "      <th>896</th>\n",
       "      <td>897</td>\n",
       "      <td>6483</td>\n",
       "      <td>3</td>\n",
       "      <td>Mr. Haiden Vance</td>\n",
       "      <td>2006</td>\n",
       "      <td>0</td>\n",
       "      <td>0</td>\n",
       "      <td>258</td>\n",
       "      <td>7</td>\n",
       "      <td>1</td>\n",
       "      <td>0</td>\n",
       "      <td>Mr.</td>\n",
       "      <td>Haiden</td>\n",
       "      <td>Vance</td>\n",
       "      <td>1</td>\n",
       "      <td>258.000000</td>\n",
       "    </tr>\n",
       "    <tr>\n",
       "      <th>897</th>\n",
       "      <td>898</td>\n",
       "      <td>981</td>\n",
       "      <td>3</td>\n",
       "      <td>Miss Anaiya Love</td>\n",
       "      <td>1990</td>\n",
       "      <td>0</td>\n",
       "      <td>0</td>\n",
       "      <td>214</td>\n",
       "      <td>7</td>\n",
       "      <td>2</td>\n",
       "      <td>1</td>\n",
       "      <td>Miss</td>\n",
       "      <td>Anaiya</td>\n",
       "      <td>Love</td>\n",
       "      <td>0</td>\n",
       "      <td>214.000000</td>\n",
       "    </tr>\n",
       "    <tr>\n",
       "      <th>898</th>\n",
       "      <td>899</td>\n",
       "      <td>16418</td>\n",
       "      <td>2</td>\n",
       "      <td>Mr. Robert Williams</td>\n",
       "      <td>1994</td>\n",
       "      <td>1</td>\n",
       "      <td>1</td>\n",
       "      <td>812</td>\n",
       "      <td>7</td>\n",
       "      <td>1</td>\n",
       "      <td>0</td>\n",
       "      <td>Mr.</td>\n",
       "      <td>Robert</td>\n",
       "      <td>Williams</td>\n",
       "      <td>1</td>\n",
       "      <td>270.666667</td>\n",
       "    </tr>\n",
       "    <tr>\n",
       "      <th>899</th>\n",
       "      <td>900</td>\n",
       "      <td>3782</td>\n",
       "      <td>3</td>\n",
       "      <td>Ms. Marjorie Hays</td>\n",
       "      <td>2002</td>\n",
       "      <td>0</td>\n",
       "      <td>0</td>\n",
       "      <td>202</td>\n",
       "      <td>2</td>\n",
       "      <td>0</td>\n",
       "      <td>0</td>\n",
       "      <td>Ms.</td>\n",
       "      <td>Marjorie</td>\n",
       "      <td>Hays</td>\n",
       "      <td>0</td>\n",
       "      <td>202.000000</td>\n",
       "    </tr>\n",
       "  </tbody>\n",
       "</table>\n",
       "<p>900 rows × 16 columns</p>\n",
       "</div>"
      ],
      "text/plain": [
       "     Patient_ID  Family_Case_ID  Severity                 Name  Birthday_year  \\\n",
       "0             1            4696         3     Miss Linda Betty           1990   \n",
       "1             2           21436         1    Ms. Ramona Elvira           1966   \n",
       "2             3            7273         3     Mr. Mario Vernon           1982   \n",
       "3             4            8226         3       Mr. Hector Joe           1997   \n",
       "4             5           19689         3     Ms. Jennie Debra           1994   \n",
       "..          ...             ...       ...                  ...            ...   \n",
       "895         896            6253         3     Ms. Linda Wilcox           1998   \n",
       "896         897            6483         3     Mr. Haiden Vance           2006   \n",
       "897         898             981         3     Miss Anaiya Love           1990   \n",
       "898         899           16418         2  Mr. Robert Williams           1994   \n",
       "899         900            3782         3    Ms. Marjorie Hays           2002   \n",
       "\n",
       "     Parents or siblings infected  Wife/Husband or children infected  \\\n",
       "0                               0                                  0   \n",
       "1                               0                                  1   \n",
       "2                               0                                  0   \n",
       "3                               0                                  0   \n",
       "4                               0                                  0   \n",
       "..                            ...                                ...   \n",
       "895                             1                                  1   \n",
       "896                             0                                  0   \n",
       "897                             0                                  0   \n",
       "898                             1                                  1   \n",
       "899                             0                                  0   \n",
       "\n",
       "     Medical_Expenses_Family  Medical_Tent  City  Deceased Title First_Name  \\\n",
       "0                        225             7     1         1  Miss      Linda   \n",
       "1                       1663             7     0         0   Ms.     Ramona   \n",
       "2                        221             7     1         1   Mr.      Mario   \n",
       "3                        220             7     1         1   Mr.     Hector   \n",
       "4                        222             7     1         0   Ms.     Jennie   \n",
       "..                       ...           ...   ...       ...   ...        ...   \n",
       "895                      344             7     1         0   Ms.      Linda   \n",
       "896                      258             7     1         0   Mr.     Haiden   \n",
       "897                      214             7     2         1  Miss     Anaiya   \n",
       "898                      812             7     1         0   Mr.     Robert   \n",
       "899                      202             2     0         0   Ms.   Marjorie   \n",
       "\n",
       "    Last_Name  gender  Expenses_per_capita  \n",
       "0       Betty       0           225.000000  \n",
       "1      Elvira       0           831.500000  \n",
       "2      Vernon       1           221.000000  \n",
       "3         Joe       1           220.000000  \n",
       "4       Debra       0           222.000000  \n",
       "..        ...     ...                  ...  \n",
       "895    Wilcox       0           114.666667  \n",
       "896     Vance       1           258.000000  \n",
       "897      Love       0           214.000000  \n",
       "898  Williams       1           270.666667  \n",
       "899      Hays       0           202.000000  \n",
       "\n",
       "[900 rows x 16 columns]"
      ]
     },
     "execution_count": 786,
     "metadata": {},
     "output_type": "execute_result"
    }
   ],
   "source": [
    "df_train"
   ]
  },
  {
   "cell_type": "code",
   "execution_count": 787,
   "metadata": {},
   "outputs": [
    {
     "data": {
      "text/html": [
       "<div>\n",
       "<style scoped>\n",
       "    .dataframe tbody tr th:only-of-type {\n",
       "        vertical-align: middle;\n",
       "    }\n",
       "\n",
       "    .dataframe tbody tr th {\n",
       "        vertical-align: top;\n",
       "    }\n",
       "\n",
       "    .dataframe thead th {\n",
       "        text-align: right;\n",
       "    }\n",
       "</style>\n",
       "<table border=\"1\" class=\"dataframe\">\n",
       "  <thead>\n",
       "    <tr style=\"text-align: right;\">\n",
       "      <th></th>\n",
       "      <th>Patient_ID</th>\n",
       "      <th>Family_Case_ID</th>\n",
       "      <th>Severity</th>\n",
       "      <th>Name</th>\n",
       "      <th>Birthday_year</th>\n",
       "      <th>Parents or siblings infected</th>\n",
       "      <th>Wife/Husband or children infected</th>\n",
       "      <th>Medical_Expenses_Family</th>\n",
       "      <th>Medical_Tent</th>\n",
       "      <th>City</th>\n",
       "      <th>Title</th>\n",
       "      <th>First_Name</th>\n",
       "      <th>Last_Name</th>\n",
       "      <th>gender</th>\n",
       "      <th>Expenses_per_capita</th>\n",
       "    </tr>\n",
       "  </thead>\n",
       "  <tbody>\n",
       "    <tr>\n",
       "      <th>0</th>\n",
       "      <td>901</td>\n",
       "      <td>49242</td>\n",
       "      <td>3</td>\n",
       "      <td>Mr. Jody Pedro</td>\n",
       "      <td>1990</td>\n",
       "      <td>0</td>\n",
       "      <td>0</td>\n",
       "      <td>203</td>\n",
       "      <td>7</td>\n",
       "      <td>1</td>\n",
       "      <td>Mr.</td>\n",
       "      <td>Jody</td>\n",
       "      <td>Pedro</td>\n",
       "      <td>1</td>\n",
       "      <td>203.0</td>\n",
       "    </tr>\n",
       "    <tr>\n",
       "      <th>1</th>\n",
       "      <td>902</td>\n",
       "      <td>10400</td>\n",
       "      <td>3</td>\n",
       "      <td>Mr. Kevin Brent</td>\n",
       "      <td>1988</td>\n",
       "      <td>0</td>\n",
       "      <td>0</td>\n",
       "      <td>631</td>\n",
       "      <td>7</td>\n",
       "      <td>1</td>\n",
       "      <td>Mr.</td>\n",
       "      <td>Kevin</td>\n",
       "      <td>Brent</td>\n",
       "      <td>1</td>\n",
       "      <td>631.0</td>\n",
       "    </tr>\n",
       "    <tr>\n",
       "      <th>2</th>\n",
       "      <td>903</td>\n",
       "      <td>10795</td>\n",
       "      <td>3</td>\n",
       "      <td>Mr. Frankie Cary</td>\n",
       "      <td>1981</td>\n",
       "      <td>1</td>\n",
       "      <td>0</td>\n",
       "      <td>376</td>\n",
       "      <td>7</td>\n",
       "      <td>0</td>\n",
       "      <td>Mr.</td>\n",
       "      <td>Frankie</td>\n",
       "      <td>Cary</td>\n",
       "      <td>1</td>\n",
       "      <td>188.0</td>\n",
       "    </tr>\n",
       "    <tr>\n",
       "      <th>3</th>\n",
       "      <td>904</td>\n",
       "      <td>62440</td>\n",
       "      <td>3</td>\n",
       "      <td>Mr. Rick Pete</td>\n",
       "      <td>1990</td>\n",
       "      <td>0</td>\n",
       "      <td>1</td>\n",
       "      <td>405</td>\n",
       "      <td>7</td>\n",
       "      <td>0</td>\n",
       "      <td>Mr.</td>\n",
       "      <td>Rick</td>\n",
       "      <td>Pete</td>\n",
       "      <td>1</td>\n",
       "      <td>202.5</td>\n",
       "    </tr>\n",
       "    <tr>\n",
       "      <th>4</th>\n",
       "      <td>905</td>\n",
       "      <td>81311</td>\n",
       "      <td>2</td>\n",
       "      <td>Mr. Matthew Erick</td>\n",
       "      <td>1996</td>\n",
       "      <td>0</td>\n",
       "      <td>0</td>\n",
       "      <td>378</td>\n",
       "      <td>7</td>\n",
       "      <td>1</td>\n",
       "      <td>Mr.</td>\n",
       "      <td>Matthew</td>\n",
       "      <td>Erick</td>\n",
       "      <td>1</td>\n",
       "      <td>378.0</td>\n",
       "    </tr>\n",
       "    <tr>\n",
       "      <th>...</th>\n",
       "      <td>...</td>\n",
       "      <td>...</td>\n",
       "      <td>...</td>\n",
       "      <td>...</td>\n",
       "      <td>...</td>\n",
       "      <td>...</td>\n",
       "      <td>...</td>\n",
       "      <td>...</td>\n",
       "      <td>...</td>\n",
       "      <td>...</td>\n",
       "      <td>...</td>\n",
       "      <td>...</td>\n",
       "      <td>...</td>\n",
       "      <td>...</td>\n",
       "      <td>...</td>\n",
       "    </tr>\n",
       "    <tr>\n",
       "      <th>395</th>\n",
       "      <td>1296</td>\n",
       "      <td>110522</td>\n",
       "      <td>3</td>\n",
       "      <td>Mr. Luther Rogelio</td>\n",
       "      <td>1990</td>\n",
       "      <td>0</td>\n",
       "      <td>0</td>\n",
       "      <td>221</td>\n",
       "      <td>7</td>\n",
       "      <td>1</td>\n",
       "      <td>Mr.</td>\n",
       "      <td>Luther</td>\n",
       "      <td>Rogelio</td>\n",
       "      <td>1</td>\n",
       "      <td>221.0</td>\n",
       "    </tr>\n",
       "    <tr>\n",
       "      <th>396</th>\n",
       "      <td>1297</td>\n",
       "      <td>118768</td>\n",
       "      <td>3</td>\n",
       "      <td>Mr. Emanuel Ruben</td>\n",
       "      <td>1990</td>\n",
       "      <td>0</td>\n",
       "      <td>0</td>\n",
       "      <td>202</td>\n",
       "      <td>7</td>\n",
       "      <td>0</td>\n",
       "      <td>Mr.</td>\n",
       "      <td>Emanuel</td>\n",
       "      <td>Ruben</td>\n",
       "      <td>1</td>\n",
       "      <td>202.0</td>\n",
       "    </tr>\n",
       "    <tr>\n",
       "      <th>397</th>\n",
       "      <td>1298</td>\n",
       "      <td>86158</td>\n",
       "      <td>1</td>\n",
       "      <td>Mrs. Misty Camille</td>\n",
       "      <td>1994</td>\n",
       "      <td>0</td>\n",
       "      <td>1</td>\n",
       "      <td>3830</td>\n",
       "      <td>2</td>\n",
       "      <td>0</td>\n",
       "      <td>Mrs.</td>\n",
       "      <td>Misty</td>\n",
       "      <td>Camille</td>\n",
       "      <td>0</td>\n",
       "      <td>1915.0</td>\n",
       "    </tr>\n",
       "    <tr>\n",
       "      <th>398</th>\n",
       "      <td>1299</td>\n",
       "      <td>18523</td>\n",
       "      <td>3</td>\n",
       "      <td>Master Gustavo Jordan</td>\n",
       "      <td>2007</td>\n",
       "      <td>2</td>\n",
       "      <td>0</td>\n",
       "      <td>567</td>\n",
       "      <td>7</td>\n",
       "      <td>1</td>\n",
       "      <td>Master</td>\n",
       "      <td>Gustavo</td>\n",
       "      <td>Jordan</td>\n",
       "      <td>1</td>\n",
       "      <td>189.0</td>\n",
       "    </tr>\n",
       "    <tr>\n",
       "      <th>399</th>\n",
       "      <td>1300</td>\n",
       "      <td>19893</td>\n",
       "      <td>1</td>\n",
       "      <td>Mrs. Minnie Sheryl</td>\n",
       "      <td>1975</td>\n",
       "      <td>1</td>\n",
       "      <td>0</td>\n",
       "      <td>1774</td>\n",
       "      <td>3</td>\n",
       "      <td>0</td>\n",
       "      <td>Mrs.</td>\n",
       "      <td>Minnie</td>\n",
       "      <td>Sheryl</td>\n",
       "      <td>0</td>\n",
       "      <td>887.0</td>\n",
       "    </tr>\n",
       "  </tbody>\n",
       "</table>\n",
       "<p>400 rows × 15 columns</p>\n",
       "</div>"
      ],
      "text/plain": [
       "     Patient_ID  Family_Case_ID  Severity                   Name  \\\n",
       "0           901           49242         3         Mr. Jody Pedro   \n",
       "1           902           10400         3        Mr. Kevin Brent   \n",
       "2           903           10795         3       Mr. Frankie Cary   \n",
       "3           904           62440         3          Mr. Rick Pete   \n",
       "4           905           81311         2      Mr. Matthew Erick   \n",
       "..          ...             ...       ...                    ...   \n",
       "395        1296          110522         3     Mr. Luther Rogelio   \n",
       "396        1297          118768         3      Mr. Emanuel Ruben   \n",
       "397        1298           86158         1     Mrs. Misty Camille   \n",
       "398        1299           18523         3  Master Gustavo Jordan   \n",
       "399        1300           19893         1     Mrs. Minnie Sheryl   \n",
       "\n",
       "     Birthday_year  Parents or siblings infected  \\\n",
       "0             1990                             0   \n",
       "1             1988                             0   \n",
       "2             1981                             1   \n",
       "3             1990                             0   \n",
       "4             1996                             0   \n",
       "..             ...                           ...   \n",
       "395           1990                             0   \n",
       "396           1990                             0   \n",
       "397           1994                             0   \n",
       "398           2007                             2   \n",
       "399           1975                             1   \n",
       "\n",
       "     Wife/Husband or children infected  Medical_Expenses_Family  Medical_Tent  \\\n",
       "0                                    0                      203             7   \n",
       "1                                    0                      631             7   \n",
       "2                                    0                      376             7   \n",
       "3                                    1                      405             7   \n",
       "4                                    0                      378             7   \n",
       "..                                 ...                      ...           ...   \n",
       "395                                  0                      221             7   \n",
       "396                                  0                      202             7   \n",
       "397                                  1                     3830             2   \n",
       "398                                  0                      567             7   \n",
       "399                                  0                     1774             3   \n",
       "\n",
       "     City   Title First_Name Last_Name  gender  Expenses_per_capita  \n",
       "0       1     Mr.       Jody     Pedro       1                203.0  \n",
       "1       1     Mr.      Kevin     Brent       1                631.0  \n",
       "2       0     Mr.    Frankie      Cary       1                188.0  \n",
       "3       0     Mr.       Rick      Pete       1                202.5  \n",
       "4       1     Mr.    Matthew     Erick       1                378.0  \n",
       "..    ...     ...        ...       ...     ...                  ...  \n",
       "395     1     Mr.     Luther   Rogelio       1                221.0  \n",
       "396     0     Mr.    Emanuel     Ruben       1                202.0  \n",
       "397     0    Mrs.      Misty   Camille       0               1915.0  \n",
       "398     1  Master    Gustavo    Jordan       1                189.0  \n",
       "399     0    Mrs.     Minnie    Sheryl       0                887.0  \n",
       "\n",
       "[400 rows x 15 columns]"
      ]
     },
     "execution_count": 787,
     "metadata": {},
     "output_type": "execute_result"
    }
   ],
   "source": [
    "df_test"
   ]
  },
  {
   "cell_type": "markdown",
   "metadata": {},
   "source": [
    "- Dropping some variables to train the model:"
   ]
  },
  {
   "cell_type": "code",
   "execution_count": 788,
   "metadata": {},
   "outputs": [],
   "source": [
    "X = df_train.drop(columns=['Patient_ID','Family_Case_ID','Name','Title','First_Name','Last_Name','Deceased',\n",
    "                           'Medical_Expenses_Family'])\n",
    "y = df_train['Deceased']"
   ]
  },
  {
   "cell_type": "code",
   "execution_count": 789,
   "metadata": {},
   "outputs": [],
   "source": [
    "X_final = df_test.drop(columns=['Patient_ID','Family_Case_ID','Name','Title','First_Name','Last_Name',\n",
    "                                'Medical_Expenses_Family'])"
   ]
  },
  {
   "cell_type": "code",
   "execution_count": 790,
   "metadata": {},
   "outputs": [
    {
     "data": {
      "text/html": [
       "<div>\n",
       "<style scoped>\n",
       "    .dataframe tbody tr th:only-of-type {\n",
       "        vertical-align: middle;\n",
       "    }\n",
       "\n",
       "    .dataframe tbody tr th {\n",
       "        vertical-align: top;\n",
       "    }\n",
       "\n",
       "    .dataframe thead th {\n",
       "        text-align: right;\n",
       "    }\n",
       "</style>\n",
       "<table border=\"1\" class=\"dataframe\">\n",
       "  <thead>\n",
       "    <tr style=\"text-align: right;\">\n",
       "      <th></th>\n",
       "      <th>Severity</th>\n",
       "      <th>Birthday_year</th>\n",
       "      <th>Parents or siblings infected</th>\n",
       "      <th>Wife/Husband or children infected</th>\n",
       "      <th>Medical_Tent</th>\n",
       "      <th>City</th>\n",
       "      <th>gender</th>\n",
       "      <th>Expenses_per_capita</th>\n",
       "    </tr>\n",
       "  </thead>\n",
       "  <tbody>\n",
       "    <tr>\n",
       "      <th>0</th>\n",
       "      <td>3</td>\n",
       "      <td>1990</td>\n",
       "      <td>0</td>\n",
       "      <td>0</td>\n",
       "      <td>7</td>\n",
       "      <td>1</td>\n",
       "      <td>0</td>\n",
       "      <td>225.000000</td>\n",
       "    </tr>\n",
       "    <tr>\n",
       "      <th>1</th>\n",
       "      <td>1</td>\n",
       "      <td>1966</td>\n",
       "      <td>0</td>\n",
       "      <td>1</td>\n",
       "      <td>7</td>\n",
       "      <td>0</td>\n",
       "      <td>0</td>\n",
       "      <td>831.500000</td>\n",
       "    </tr>\n",
       "    <tr>\n",
       "      <th>2</th>\n",
       "      <td>3</td>\n",
       "      <td>1982</td>\n",
       "      <td>0</td>\n",
       "      <td>0</td>\n",
       "      <td>7</td>\n",
       "      <td>1</td>\n",
       "      <td>1</td>\n",
       "      <td>221.000000</td>\n",
       "    </tr>\n",
       "    <tr>\n",
       "      <th>3</th>\n",
       "      <td>3</td>\n",
       "      <td>1997</td>\n",
       "      <td>0</td>\n",
       "      <td>0</td>\n",
       "      <td>7</td>\n",
       "      <td>1</td>\n",
       "      <td>1</td>\n",
       "      <td>220.000000</td>\n",
       "    </tr>\n",
       "    <tr>\n",
       "      <th>4</th>\n",
       "      <td>3</td>\n",
       "      <td>1994</td>\n",
       "      <td>0</td>\n",
       "      <td>0</td>\n",
       "      <td>7</td>\n",
       "      <td>1</td>\n",
       "      <td>0</td>\n",
       "      <td>222.000000</td>\n",
       "    </tr>\n",
       "    <tr>\n",
       "      <th>...</th>\n",
       "      <td>...</td>\n",
       "      <td>...</td>\n",
       "      <td>...</td>\n",
       "      <td>...</td>\n",
       "      <td>...</td>\n",
       "      <td>...</td>\n",
       "      <td>...</td>\n",
       "      <td>...</td>\n",
       "    </tr>\n",
       "    <tr>\n",
       "      <th>895</th>\n",
       "      <td>3</td>\n",
       "      <td>1998</td>\n",
       "      <td>1</td>\n",
       "      <td>1</td>\n",
       "      <td>7</td>\n",
       "      <td>1</td>\n",
       "      <td>0</td>\n",
       "      <td>114.666667</td>\n",
       "    </tr>\n",
       "    <tr>\n",
       "      <th>896</th>\n",
       "      <td>3</td>\n",
       "      <td>2006</td>\n",
       "      <td>0</td>\n",
       "      <td>0</td>\n",
       "      <td>7</td>\n",
       "      <td>1</td>\n",
       "      <td>1</td>\n",
       "      <td>258.000000</td>\n",
       "    </tr>\n",
       "    <tr>\n",
       "      <th>897</th>\n",
       "      <td>3</td>\n",
       "      <td>1990</td>\n",
       "      <td>0</td>\n",
       "      <td>0</td>\n",
       "      <td>7</td>\n",
       "      <td>2</td>\n",
       "      <td>0</td>\n",
       "      <td>214.000000</td>\n",
       "    </tr>\n",
       "    <tr>\n",
       "      <th>898</th>\n",
       "      <td>2</td>\n",
       "      <td>1994</td>\n",
       "      <td>1</td>\n",
       "      <td>1</td>\n",
       "      <td>7</td>\n",
       "      <td>1</td>\n",
       "      <td>1</td>\n",
       "      <td>270.666667</td>\n",
       "    </tr>\n",
       "    <tr>\n",
       "      <th>899</th>\n",
       "      <td>3</td>\n",
       "      <td>2002</td>\n",
       "      <td>0</td>\n",
       "      <td>0</td>\n",
       "      <td>2</td>\n",
       "      <td>0</td>\n",
       "      <td>0</td>\n",
       "      <td>202.000000</td>\n",
       "    </tr>\n",
       "  </tbody>\n",
       "</table>\n",
       "<p>900 rows × 8 columns</p>\n",
       "</div>"
      ],
      "text/plain": [
       "     Severity  Birthday_year  Parents or siblings infected  \\\n",
       "0           3           1990                             0   \n",
       "1           1           1966                             0   \n",
       "2           3           1982                             0   \n",
       "3           3           1997                             0   \n",
       "4           3           1994                             0   \n",
       "..        ...            ...                           ...   \n",
       "895         3           1998                             1   \n",
       "896         3           2006                             0   \n",
       "897         3           1990                             0   \n",
       "898         2           1994                             1   \n",
       "899         3           2002                             0   \n",
       "\n",
       "     Wife/Husband or children infected  Medical_Tent  City  gender  \\\n",
       "0                                    0             7     1       0   \n",
       "1                                    1             7     0       0   \n",
       "2                                    0             7     1       1   \n",
       "3                                    0             7     1       1   \n",
       "4                                    0             7     1       0   \n",
       "..                                 ...           ...   ...     ...   \n",
       "895                                  1             7     1       0   \n",
       "896                                  0             7     1       1   \n",
       "897                                  0             7     2       0   \n",
       "898                                  1             7     1       1   \n",
       "899                                  0             2     0       0   \n",
       "\n",
       "     Expenses_per_capita  \n",
       "0             225.000000  \n",
       "1             831.500000  \n",
       "2             221.000000  \n",
       "3             220.000000  \n",
       "4             222.000000  \n",
       "..                   ...  \n",
       "895           114.666667  \n",
       "896           258.000000  \n",
       "897           214.000000  \n",
       "898           270.666667  \n",
       "899           202.000000  \n",
       "\n",
       "[900 rows x 8 columns]"
      ]
     },
     "execution_count": 790,
     "metadata": {},
     "output_type": "execute_result"
    }
   ],
   "source": [
    "X"
   ]
  },
  {
   "cell_type": "code",
   "execution_count": 791,
   "metadata": {},
   "outputs": [],
   "source": [
    "scaler=MinMaxScaler()\n",
    "columns=X.columns\n",
    "X=pd.DataFrame(scaler.fit_transform(X))\n",
    "X.columns=columns\n",
    "X_final=pd.DataFrame(scaler.transform(X_final))\n",
    "X_final.columns=columns"
   ]
  },
  {
   "cell_type": "code",
   "execution_count": 792,
   "metadata": {},
   "outputs": [
    {
     "data": {
      "text/html": [
       "<div>\n",
       "<style scoped>\n",
       "    .dataframe tbody tr th:only-of-type {\n",
       "        vertical-align: middle;\n",
       "    }\n",
       "\n",
       "    .dataframe tbody tr th {\n",
       "        vertical-align: top;\n",
       "    }\n",
       "\n",
       "    .dataframe thead th {\n",
       "        text-align: right;\n",
       "    }\n",
       "</style>\n",
       "<table border=\"1\" class=\"dataframe\">\n",
       "  <thead>\n",
       "    <tr style=\"text-align: right;\">\n",
       "      <th></th>\n",
       "      <th>Severity</th>\n",
       "      <th>Birthday_year</th>\n",
       "      <th>Parents or siblings infected</th>\n",
       "      <th>Wife/Husband or children infected</th>\n",
       "      <th>Medical_Tent</th>\n",
       "      <th>City</th>\n",
       "      <th>gender</th>\n",
       "      <th>Expenses_per_capita</th>\n",
       "    </tr>\n",
       "  </thead>\n",
       "  <tbody>\n",
       "    <tr>\n",
       "      <th>0</th>\n",
       "      <td>1.0</td>\n",
       "      <td>0.632911</td>\n",
       "      <td>0.000000</td>\n",
       "      <td>0.000</td>\n",
       "      <td>0.875</td>\n",
       "      <td>0.5</td>\n",
       "      <td>0.0</td>\n",
       "      <td>0.015685</td>\n",
       "    </tr>\n",
       "    <tr>\n",
       "      <th>1</th>\n",
       "      <td>0.0</td>\n",
       "      <td>0.329114</td>\n",
       "      <td>0.000000</td>\n",
       "      <td>0.125</td>\n",
       "      <td>0.875</td>\n",
       "      <td>0.0</td>\n",
       "      <td>0.0</td>\n",
       "      <td>0.057964</td>\n",
       "    </tr>\n",
       "    <tr>\n",
       "      <th>2</th>\n",
       "      <td>1.0</td>\n",
       "      <td>0.531646</td>\n",
       "      <td>0.000000</td>\n",
       "      <td>0.000</td>\n",
       "      <td>0.875</td>\n",
       "      <td>0.5</td>\n",
       "      <td>1.0</td>\n",
       "      <td>0.015406</td>\n",
       "    </tr>\n",
       "    <tr>\n",
       "      <th>3</th>\n",
       "      <td>1.0</td>\n",
       "      <td>0.721519</td>\n",
       "      <td>0.000000</td>\n",
       "      <td>0.000</td>\n",
       "      <td>0.875</td>\n",
       "      <td>0.5</td>\n",
       "      <td>1.0</td>\n",
       "      <td>0.015336</td>\n",
       "    </tr>\n",
       "    <tr>\n",
       "      <th>4</th>\n",
       "      <td>1.0</td>\n",
       "      <td>0.683544</td>\n",
       "      <td>0.000000</td>\n",
       "      <td>0.000</td>\n",
       "      <td>0.875</td>\n",
       "      <td>0.5</td>\n",
       "      <td>0.0</td>\n",
       "      <td>0.015476</td>\n",
       "    </tr>\n",
       "    <tr>\n",
       "      <th>...</th>\n",
       "      <td>...</td>\n",
       "      <td>...</td>\n",
       "      <td>...</td>\n",
       "      <td>...</td>\n",
       "      <td>...</td>\n",
       "      <td>...</td>\n",
       "      <td>...</td>\n",
       "      <td>...</td>\n",
       "    </tr>\n",
       "    <tr>\n",
       "      <th>895</th>\n",
       "      <td>1.0</td>\n",
       "      <td>0.734177</td>\n",
       "      <td>0.166667</td>\n",
       "      <td>0.125</td>\n",
       "      <td>0.875</td>\n",
       "      <td>0.5</td>\n",
       "      <td>0.0</td>\n",
       "      <td>0.007993</td>\n",
       "    </tr>\n",
       "    <tr>\n",
       "      <th>896</th>\n",
       "      <td>1.0</td>\n",
       "      <td>0.835443</td>\n",
       "      <td>0.000000</td>\n",
       "      <td>0.000</td>\n",
       "      <td>0.875</td>\n",
       "      <td>0.5</td>\n",
       "      <td>1.0</td>\n",
       "      <td>0.017985</td>\n",
       "    </tr>\n",
       "    <tr>\n",
       "      <th>897</th>\n",
       "      <td>1.0</td>\n",
       "      <td>0.632911</td>\n",
       "      <td>0.000000</td>\n",
       "      <td>0.000</td>\n",
       "      <td>0.875</td>\n",
       "      <td>1.0</td>\n",
       "      <td>0.0</td>\n",
       "      <td>0.014918</td>\n",
       "    </tr>\n",
       "    <tr>\n",
       "      <th>898</th>\n",
       "      <td>0.5</td>\n",
       "      <td>0.683544</td>\n",
       "      <td>0.166667</td>\n",
       "      <td>0.125</td>\n",
       "      <td>0.875</td>\n",
       "      <td>0.5</td>\n",
       "      <td>1.0</td>\n",
       "      <td>0.018868</td>\n",
       "    </tr>\n",
       "    <tr>\n",
       "      <th>899</th>\n",
       "      <td>1.0</td>\n",
       "      <td>0.784810</td>\n",
       "      <td>0.000000</td>\n",
       "      <td>0.000</td>\n",
       "      <td>0.250</td>\n",
       "      <td>0.0</td>\n",
       "      <td>0.0</td>\n",
       "      <td>0.014082</td>\n",
       "    </tr>\n",
       "  </tbody>\n",
       "</table>\n",
       "<p>900 rows × 8 columns</p>\n",
       "</div>"
      ],
      "text/plain": [
       "     Severity  Birthday_year  Parents or siblings infected  \\\n",
       "0         1.0       0.632911                      0.000000   \n",
       "1         0.0       0.329114                      0.000000   \n",
       "2         1.0       0.531646                      0.000000   \n",
       "3         1.0       0.721519                      0.000000   \n",
       "4         1.0       0.683544                      0.000000   \n",
       "..        ...            ...                           ...   \n",
       "895       1.0       0.734177                      0.166667   \n",
       "896       1.0       0.835443                      0.000000   \n",
       "897       1.0       0.632911                      0.000000   \n",
       "898       0.5       0.683544                      0.166667   \n",
       "899       1.0       0.784810                      0.000000   \n",
       "\n",
       "     Wife/Husband or children infected  Medical_Tent  City  gender  \\\n",
       "0                                0.000         0.875   0.5     0.0   \n",
       "1                                0.125         0.875   0.0     0.0   \n",
       "2                                0.000         0.875   0.5     1.0   \n",
       "3                                0.000         0.875   0.5     1.0   \n",
       "4                                0.000         0.875   0.5     0.0   \n",
       "..                                 ...           ...   ...     ...   \n",
       "895                              0.125         0.875   0.5     0.0   \n",
       "896                              0.000         0.875   0.5     1.0   \n",
       "897                              0.000         0.875   1.0     0.0   \n",
       "898                              0.125         0.875   0.5     1.0   \n",
       "899                              0.000         0.250   0.0     0.0   \n",
       "\n",
       "     Expenses_per_capita  \n",
       "0               0.015685  \n",
       "1               0.057964  \n",
       "2               0.015406  \n",
       "3               0.015336  \n",
       "4               0.015476  \n",
       "..                   ...  \n",
       "895             0.007993  \n",
       "896             0.017985  \n",
       "897             0.014918  \n",
       "898             0.018868  \n",
       "899             0.014082  \n",
       "\n",
       "[900 rows x 8 columns]"
      ]
     },
     "execution_count": 792,
     "metadata": {},
     "output_type": "execute_result"
    }
   ],
   "source": [
    "X"
   ]
  },
  {
   "cell_type": "code",
   "execution_count": null,
   "metadata": {},
   "outputs": [],
   "source": []
  },
  {
   "cell_type": "code",
   "execution_count": null,
   "metadata": {},
   "outputs": [],
   "source": []
  },
  {
   "cell_type": "code",
   "execution_count": null,
   "metadata": {},
   "outputs": [],
   "source": []
  },
  {
   "cell_type": "code",
   "execution_count": null,
   "metadata": {},
   "outputs": [],
   "source": []
  },
  {
   "cell_type": "code",
   "execution_count": null,
   "metadata": {},
   "outputs": [],
   "source": []
  },
  {
   "cell_type": "code",
   "execution_count": null,
   "metadata": {},
   "outputs": [],
   "source": []
  },
  {
   "cell_type": "code",
   "execution_count": 670,
   "metadata": {},
   "outputs": [
    {
     "data": {
      "text/plain": [
       "array([1.        , 0.63291139, 0.        , 0.        , 0.875     ,\n",
       "       0.5       , 0.        , 0.01568491])"
      ]
     },
     "execution_count": 670,
     "metadata": {},
     "output_type": "execute_result"
    }
   ],
   "source": [
    "X[0]"
   ]
  },
  {
   "cell_type": "code",
   "execution_count": 671,
   "metadata": {},
   "outputs": [],
   "source": [
    "\n",
    "from copy import deepcopy\n",
    "from sklearn.model_selection import train_test_split\n",
    "\n",
    "import keras\n",
    "\n",
    "from keras.models import Sequential\n",
    "from keras.layers import LSTM, Dense, Dropout, Masking, Embedding, Bidirectional\n",
    "from keras.optimizers import Adam"
   ]
  },
  {
   "cell_type": "code",
   "execution_count": 672,
   "metadata": {},
   "outputs": [],
   "source": [
    "X2, X_test, y2, y_test = train_test_split(X, \n",
    "                                                    y, \n",
    "                                                    test_size=0.1, \n",
    "                                                    #random_state=55, \n",
    "                                                    shuffle=True, \n",
    "                                                    stratify=y\n",
    "                                                   )"
   ]
  },
  {
   "cell_type": "code",
   "execution_count": 673,
   "metadata": {},
   "outputs": [],
   "source": [
    "X_train, X_val, y_train, y_val = train_test_split(X2, \n",
    "                                                    y2, \n",
    "                                                    test_size=0.1, \n",
    "                                                   # random_state, \n",
    "                                                    shuffle=True, \n",
    "                                                    stratify=y2\n",
    "                                                   )"
   ]
  },
  {
   "cell_type": "code",
   "execution_count": 690,
   "metadata": {},
   "outputs": [],
   "source": [
    "def build_model(input_size, output_size):\n",
    "    model = Sequential()\n",
    "    model.add(Dense(16, input_dim=input_size,activation='relu'))\n",
    "    model.add(Dense(16, input_dim=input_size,activation='relu'))\n",
    "   # model.add(Dropout(0.2))\n",
    "#     model.add(Dense(16,activation='relu'))\n",
    "#     model.add(Dropout(0.2))\n",
    "    model.add(Dense(output_size, activation='sigmoid') )\n",
    "    # Compile the model\n",
    "    model.compile(optimizer='adam', loss='binary_crossentropy', metrics=['accuracy'])\n",
    "    return model"
   ]
  },
  {
   "cell_type": "code",
   "execution_count": 691,
   "metadata": {},
   "outputs": [
    {
     "name": "stdout",
     "output_type": "stream",
     "text": [
      "Train on 729 samples, validate on 81 samples\n",
      "Epoch 1/40\n",
      "729/729 [==============================] - 0s 221us/step - loss: 0.6504 - accuracy: 0.6145 - val_loss: 0.6445 - val_accuracy: 0.6173\n",
      "Epoch 2/40\n",
      "729/729 [==============================] - 0s 65us/step - loss: 0.6170 - accuracy: 0.6145 - val_loss: 0.6142 - val_accuracy: 0.6173\n",
      "Epoch 3/40\n",
      "729/729 [==============================] - 0s 53us/step - loss: 0.5902 - accuracy: 0.6187 - val_loss: 0.5928 - val_accuracy: 0.6543\n",
      "Epoch 4/40\n",
      "729/729 [==============================] - 0s 44us/step - loss: 0.5685 - accuracy: 0.6722 - val_loss: 0.5735 - val_accuracy: 0.6790\n",
      "Epoch 5/40\n",
      "729/729 [==============================] - 0s 45us/step - loss: 0.5509 - accuracy: 0.7023 - val_loss: 0.5563 - val_accuracy: 0.7160\n",
      "Epoch 6/40\n",
      "729/729 [==============================] - 0s 45us/step - loss: 0.5331 - accuracy: 0.7668 - val_loss: 0.5374 - val_accuracy: 0.7284\n",
      "Epoch 7/40\n",
      "729/729 [==============================] - 0s 45us/step - loss: 0.5164 - accuracy: 0.8066 - val_loss: 0.5210 - val_accuracy: 0.7901\n",
      "Epoch 8/40\n",
      "729/729 [==============================] - 0s 44us/step - loss: 0.5010 - accuracy: 0.8052 - val_loss: 0.5040 - val_accuracy: 0.7654\n",
      "Epoch 9/40\n",
      "729/729 [==============================] - 0s 43us/step - loss: 0.4856 - accuracy: 0.7970 - val_loss: 0.4927 - val_accuracy: 0.7901\n",
      "Epoch 10/40\n",
      "729/729 [==============================] - 0s 42us/step - loss: 0.4785 - accuracy: 0.7888 - val_loss: 0.4891 - val_accuracy: 0.7654\n",
      "Epoch 11/40\n",
      "729/729 [==============================] - 0s 44us/step - loss: 0.4676 - accuracy: 0.7929 - val_loss: 0.4757 - val_accuracy: 0.7778\n",
      "Epoch 12/40\n",
      "729/729 [==============================] - 0s 43us/step - loss: 0.4604 - accuracy: 0.7970 - val_loss: 0.4756 - val_accuracy: 0.7778\n",
      "Epoch 13/40\n",
      "729/729 [==============================] - 0s 45us/step - loss: 0.4557 - accuracy: 0.8011 - val_loss: 0.4679 - val_accuracy: 0.7531\n",
      "Epoch 14/40\n",
      "729/729 [==============================] - 0s 43us/step - loss: 0.4483 - accuracy: 0.7956 - val_loss: 0.4661 - val_accuracy: 0.7531\n",
      "Epoch 15/40\n",
      "729/729 [==============================] - 0s 45us/step - loss: 0.4436 - accuracy: 0.7942 - val_loss: 0.4618 - val_accuracy: 0.7654\n",
      "Epoch 16/40\n",
      "729/729 [==============================] - 0s 46us/step - loss: 0.4394 - accuracy: 0.8052 - val_loss: 0.4611 - val_accuracy: 0.7778\n",
      "Epoch 17/40\n",
      "729/729 [==============================] - 0s 44us/step - loss: 0.4351 - accuracy: 0.8066 - val_loss: 0.4572 - val_accuracy: 0.7654\n",
      "Epoch 18/40\n",
      "729/729 [==============================] - 0s 42us/step - loss: 0.4343 - accuracy: 0.8025 - val_loss: 0.4575 - val_accuracy: 0.7654\n",
      "Epoch 19/40\n",
      "729/729 [==============================] - 0s 47us/step - loss: 0.4318 - accuracy: 0.8134 - val_loss: 0.4597 - val_accuracy: 0.7778\n",
      "Epoch 20/40\n",
      "729/729 [==============================] - 0s 41us/step - loss: 0.4313 - accuracy: 0.8052 - val_loss: 0.4659 - val_accuracy: 0.8025\n",
      "Epoch 21/40\n",
      "729/729 [==============================] - 0s 45us/step - loss: 0.4269 - accuracy: 0.8080 - val_loss: 0.4550 - val_accuracy: 0.7778\n",
      "Epoch 22/40\n",
      "729/729 [==============================] - 0s 43us/step - loss: 0.4260 - accuracy: 0.8093 - val_loss: 0.4551 - val_accuracy: 0.7778\n",
      "Epoch 23/40\n",
      "729/729 [==============================] - 0s 42us/step - loss: 0.4252 - accuracy: 0.8080 - val_loss: 0.4616 - val_accuracy: 0.7778\n",
      "Epoch 24/40\n",
      "729/729 [==============================] - 0s 42us/step - loss: 0.4220 - accuracy: 0.8107 - val_loss: 0.4545 - val_accuracy: 0.7531\n",
      "Epoch 25/40\n",
      "729/729 [==============================] - 0s 43us/step - loss: 0.4250 - accuracy: 0.8052 - val_loss: 0.4544 - val_accuracy: 0.7654\n",
      "Epoch 26/40\n",
      "729/729 [==============================] - 0s 44us/step - loss: 0.4210 - accuracy: 0.8121 - val_loss: 0.4593 - val_accuracy: 0.7778\n",
      "Epoch 27/40\n",
      "729/729 [==============================] - 0s 44us/step - loss: 0.4195 - accuracy: 0.8134 - val_loss: 0.4553 - val_accuracy: 0.7654\n",
      "Epoch 28/40\n",
      "729/729 [==============================] - 0s 41us/step - loss: 0.4190 - accuracy: 0.8121 - val_loss: 0.4580 - val_accuracy: 0.7778\n",
      "Epoch 29/40\n",
      "729/729 [==============================] - 0s 40us/step - loss: 0.4187 - accuracy: 0.8107 - val_loss: 0.4561 - val_accuracy: 0.7778\n",
      "Epoch 30/40\n",
      "729/729 [==============================] - 0s 42us/step - loss: 0.4175 - accuracy: 0.8162 - val_loss: 0.4554 - val_accuracy: 0.7778\n",
      "Epoch 31/40\n",
      "729/729 [==============================] - 0s 42us/step - loss: 0.4163 - accuracy: 0.8148 - val_loss: 0.4538 - val_accuracy: 0.7778\n",
      "Epoch 32/40\n",
      "729/729 [==============================] - 0s 42us/step - loss: 0.4183 - accuracy: 0.8148 - val_loss: 0.4582 - val_accuracy: 0.7778\n",
      "Epoch 33/40\n",
      "729/729 [==============================] - 0s 43us/step - loss: 0.4174 - accuracy: 0.8134 - val_loss: 0.4571 - val_accuracy: 0.7778\n",
      "Epoch 34/40\n",
      "729/729 [==============================] - 0s 42us/step - loss: 0.4162 - accuracy: 0.8080 - val_loss: 0.4633 - val_accuracy: 0.7901\n",
      "Epoch 35/40\n",
      "729/729 [==============================] - 0s 42us/step - loss: 0.4145 - accuracy: 0.8121 - val_loss: 0.4629 - val_accuracy: 0.7901\n",
      "Epoch 36/40\n",
      "729/729 [==============================] - 0s 40us/step - loss: 0.4131 - accuracy: 0.8162 - val_loss: 0.4554 - val_accuracy: 0.7654\n",
      "Epoch 37/40\n",
      "729/729 [==============================] - 0s 44us/step - loss: 0.4134 - accuracy: 0.8134 - val_loss: 0.4652 - val_accuracy: 0.7901\n",
      "Epoch 38/40\n",
      "729/729 [==============================] - 0s 42us/step - loss: 0.4119 - accuracy: 0.8203 - val_loss: 0.4570 - val_accuracy: 0.7778\n",
      "Epoch 39/40\n",
      "729/729 [==============================] - 0s 41us/step - loss: 0.4114 - accuracy: 0.8176 - val_loss: 0.4569 - val_accuracy: 0.7654\n",
      "Epoch 40/40\n",
      "729/729 [==============================] - 0s 43us/step - loss: 0.4111 - accuracy: 0.8134 - val_loss: 0.4644 - val_accuracy: 0.8025\n"
     ]
    },
    {
     "data": {
      "text/plain": [
       "<keras.callbacks.callbacks.History at 0x1639ef310>"
      ]
     },
     "execution_count": 691,
     "metadata": {},
     "output_type": "execute_result"
    }
   ],
   "source": [
    "model=build_model(len(X_train[0]),1)\n",
    "model.fit(X_train, y_train, validation_data=(X_val,y_val), batch_size=16,epochs=40,verbose=1)\n"
   ]
  },
  {
   "cell_type": "code",
   "execution_count": 684,
   "metadata": {},
   "outputs": [
    {
     "name": "stdout",
     "output_type": "stream",
     "text": [
      "90/90 [==============================] - 0s 30us/step\n"
     ]
    },
    {
     "data": {
      "text/plain": [
       "[0.5146363178888956, 0.7666666507720947]"
      ]
     },
     "execution_count": 684,
     "metadata": {},
     "output_type": "execute_result"
    }
   ],
   "source": [
    "model.evaluate(X_test,y_test)"
   ]
  },
  {
   "cell_type": "code",
   "execution_count": null,
   "metadata": {},
   "outputs": [],
   "source": []
  },
  {
   "cell_type": "code",
   "execution_count": null,
   "metadata": {},
   "outputs": [],
   "source": []
  },
  {
   "cell_type": "code",
   "execution_count": null,
   "metadata": {},
   "outputs": [],
   "source": []
  },
  {
   "cell_type": "code",
   "execution_count": 162,
   "metadata": {},
   "outputs": [],
   "source": []
  },
  {
   "cell_type": "code",
   "execution_count": 345,
   "metadata": {},
   "outputs": [
    {
     "name": "stdout",
     "output_type": "stream",
     "text": [
      "Epoch 1/50\n",
      "900/900 [==============================] - 0s 282us/step - loss: 0.6280 - accuracy: 0.6567\n",
      "Epoch 2/50\n",
      "900/900 [==============================] - 0s 83us/step - loss: 0.5740 - accuracy: 0.7489\n",
      "Epoch 3/50\n",
      "900/900 [==============================] - 0s 83us/step - loss: 0.5320 - accuracy: 0.7722\n",
      "Epoch 4/50\n",
      "900/900 [==============================] - 0s 83us/step - loss: 0.5120 - accuracy: 0.7644\n",
      "Epoch 5/50\n",
      "900/900 [==============================] - 0s 84us/step - loss: 0.5120 - accuracy: 0.7700\n",
      "Epoch 6/50\n",
      "900/900 [==============================] - 0s 84us/step - loss: 0.4988 - accuracy: 0.7722\n",
      "Epoch 7/50\n",
      "900/900 [==============================] - 0s 86us/step - loss: 0.4781 - accuracy: 0.7778\n",
      "Epoch 8/50\n",
      "900/900 [==============================] - 0s 84us/step - loss: 0.4807 - accuracy: 0.7889\n",
      "Epoch 9/50\n",
      "900/900 [==============================] - 0s 86us/step - loss: 0.4769 - accuracy: 0.7878\n",
      "Epoch 10/50\n",
      "900/900 [==============================] - 0s 86us/step - loss: 0.4727 - accuracy: 0.7900\n",
      "Epoch 11/50\n",
      "900/900 [==============================] - 0s 85us/step - loss: 0.4743 - accuracy: 0.7944\n",
      "Epoch 12/50\n",
      "900/900 [==============================] - 0s 111us/step - loss: 0.4671 - accuracy: 0.7922\n",
      "Epoch 13/50\n",
      "900/900 [==============================] - 0s 103us/step - loss: 0.4583 - accuracy: 0.7878\n",
      "Epoch 14/50\n",
      "900/900 [==============================] - 0s 139us/step - loss: 0.4741 - accuracy: 0.7844\n",
      "Epoch 15/50\n",
      "900/900 [==============================] - 0s 127us/step - loss: 0.4687 - accuracy: 0.7922\n",
      "Epoch 16/50\n",
      "900/900 [==============================] - 0s 94us/step - loss: 0.4585 - accuracy: 0.7978\n",
      "Epoch 17/50\n",
      "900/900 [==============================] - 0s 85us/step - loss: 0.4662 - accuracy: 0.8033\n",
      "Epoch 18/50\n",
      "900/900 [==============================] - 0s 85us/step - loss: 0.4550 - accuracy: 0.7978\n",
      "Epoch 19/50\n",
      "900/900 [==============================] - 0s 85us/step - loss: 0.4588 - accuracy: 0.7989\n",
      "Epoch 20/50\n",
      "900/900 [==============================] - 0s 87us/step - loss: 0.4645 - accuracy: 0.7956\n",
      "Epoch 21/50\n",
      "900/900 [==============================] - 0s 85us/step - loss: 0.4584 - accuracy: 0.8067\n",
      "Epoch 22/50\n",
      "900/900 [==============================] - 0s 95us/step - loss: 0.4592 - accuracy: 0.7911\n",
      "Epoch 23/50\n",
      "900/900 [==============================] - 0s 108us/step - loss: 0.4514 - accuracy: 0.8011\n",
      "Epoch 24/50\n",
      "900/900 [==============================] - 0s 94us/step - loss: 0.4505 - accuracy: 0.8000\n",
      "Epoch 25/50\n",
      "900/900 [==============================] - 0s 120us/step - loss: 0.4631 - accuracy: 0.7989\n",
      "Epoch 26/50\n",
      "900/900 [==============================] - 0s 129us/step - loss: 0.4472 - accuracy: 0.8033\n",
      "Epoch 27/50\n",
      "900/900 [==============================] - 0s 95us/step - loss: 0.4523 - accuracy: 0.8133\n",
      "Epoch 28/50\n",
      "900/900 [==============================] - 0s 83us/step - loss: 0.4416 - accuracy: 0.8133\n",
      "Epoch 29/50\n",
      "900/900 [==============================] - 0s 83us/step - loss: 0.4478 - accuracy: 0.7978\n",
      "Epoch 30/50\n",
      "900/900 [==============================] - 0s 83us/step - loss: 0.4397 - accuracy: 0.8122\n",
      "Epoch 31/50\n",
      "900/900 [==============================] - 0s 86us/step - loss: 0.4356 - accuracy: 0.8122\n",
      "Epoch 32/50\n",
      "900/900 [==============================] - 0s 84us/step - loss: 0.4477 - accuracy: 0.8044\n",
      "Epoch 33/50\n",
      "900/900 [==============================] - 0s 89us/step - loss: 0.4529 - accuracy: 0.8067\n",
      "Epoch 34/50\n",
      "900/900 [==============================] - 0s 86us/step - loss: 0.4457 - accuracy: 0.7989\n",
      "Epoch 35/50\n",
      "900/900 [==============================] - 0s 90us/step - loss: 0.4514 - accuracy: 0.8144\n",
      "Epoch 36/50\n",
      "900/900 [==============================] - 0s 90us/step - loss: 0.4341 - accuracy: 0.8111\n",
      "Epoch 37/50\n",
      "900/900 [==============================] - 0s 91us/step - loss: 0.4512 - accuracy: 0.8067\n",
      "Epoch 38/50\n",
      "900/900 [==============================] - 0s 87us/step - loss: 0.4556 - accuracy: 0.8111\n",
      "Epoch 39/50\n",
      "900/900 [==============================] - 0s 87us/step - loss: 0.4460 - accuracy: 0.8067\n",
      "Epoch 40/50\n",
      "900/900 [==============================] - 0s 87us/step - loss: 0.4312 - accuracy: 0.8100\n",
      "Epoch 41/50\n",
      "900/900 [==============================] - 0s 87us/step - loss: 0.4439 - accuracy: 0.8078\n",
      "Epoch 42/50\n",
      "900/900 [==============================] - 0s 86us/step - loss: 0.4336 - accuracy: 0.8111\n",
      "Epoch 43/50\n",
      "900/900 [==============================] - 0s 86us/step - loss: 0.4400 - accuracy: 0.8100\n",
      "Epoch 44/50\n",
      "900/900 [==============================] - 0s 85us/step - loss: 0.4328 - accuracy: 0.8100\n",
      "Epoch 45/50\n",
      "900/900 [==============================] - 0s 84us/step - loss: 0.4474 - accuracy: 0.7989\n",
      "Epoch 46/50\n",
      "900/900 [==============================] - 0s 85us/step - loss: 0.4409 - accuracy: 0.8089\n",
      "Epoch 47/50\n",
      "900/900 [==============================] - 0s 83us/step - loss: 0.4402 - accuracy: 0.8056\n",
      "Epoch 48/50\n",
      "900/900 [==============================] - 0s 83us/step - loss: 0.4373 - accuracy: 0.8033\n",
      "Epoch 49/50\n",
      "900/900 [==============================] - 0s 84us/step - loss: 0.4374 - accuracy: 0.8122\n",
      "Epoch 50/50\n",
      "900/900 [==============================] - 0s 84us/step - loss: 0.4416 - accuracy: 0.8067\n"
     ]
    }
   ],
   "source": [
    "\n",
    "model=build_model(len(X_train[0]),1)\n",
    "model.fit(X, y, batch_size=8,epochs=50,verbose=1)\n",
    "pred=model.predict(X_final)\n",
    "pred=pred.flatten()\n"
   ]
  },
  {
   "cell_type": "code",
   "execution_count": 346,
   "metadata": {},
   "outputs": [],
   "source": [
    "for i in range(len(pred)):\n",
    "    if pred[i]<.5:\n",
    "        pred[i]=0\n",
    "    else:\n",
    "        pred[i]=1"
   ]
  },
  {
   "cell_type": "code",
   "execution_count": 347,
   "metadata": {},
   "outputs": [],
   "source": [
    "pred=pred.astype(\"int\")"
   ]
  },
  {
   "cell_type": "code",
   "execution_count": 348,
   "metadata": {},
   "outputs": [],
   "source": [
    "version3 = pd.DataFrame( pred,df_test.Patient_ID.values )"
   ]
  },
  {
   "cell_type": "code",
   "execution_count": 349,
   "metadata": {},
   "outputs": [],
   "source": [
    "version3.rename(columns={0: \"Deceased\"},inplace=True)\n",
    "version3.rename_axis(\"Patient_ID\",inplace=True)"
   ]
  },
  {
   "cell_type": "code",
   "execution_count": 350,
   "metadata": {},
   "outputs": [
    {
     "data": {
      "text/html": [
       "<div>\n",
       "<style scoped>\n",
       "    .dataframe tbody tr th:only-of-type {\n",
       "        vertical-align: middle;\n",
       "    }\n",
       "\n",
       "    .dataframe tbody tr th {\n",
       "        vertical-align: top;\n",
       "    }\n",
       "\n",
       "    .dataframe thead th {\n",
       "        text-align: right;\n",
       "    }\n",
       "</style>\n",
       "<table border=\"1\" class=\"dataframe\">\n",
       "  <thead>\n",
       "    <tr style=\"text-align: right;\">\n",
       "      <th></th>\n",
       "      <th>Deceased</th>\n",
       "    </tr>\n",
       "    <tr>\n",
       "      <th>Patient_ID</th>\n",
       "      <th></th>\n",
       "    </tr>\n",
       "  </thead>\n",
       "  <tbody>\n",
       "    <tr>\n",
       "      <th>901</th>\n",
       "      <td>1</td>\n",
       "    </tr>\n",
       "    <tr>\n",
       "      <th>902</th>\n",
       "      <td>1</td>\n",
       "    </tr>\n",
       "    <tr>\n",
       "      <th>903</th>\n",
       "      <td>1</td>\n",
       "    </tr>\n",
       "    <tr>\n",
       "      <th>904</th>\n",
       "      <td>1</td>\n",
       "    </tr>\n",
       "    <tr>\n",
       "      <th>905</th>\n",
       "      <td>1</td>\n",
       "    </tr>\n",
       "    <tr>\n",
       "      <th>...</th>\n",
       "      <td>...</td>\n",
       "    </tr>\n",
       "    <tr>\n",
       "      <th>1296</th>\n",
       "      <td>1</td>\n",
       "    </tr>\n",
       "    <tr>\n",
       "      <th>1297</th>\n",
       "      <td>1</td>\n",
       "    </tr>\n",
       "    <tr>\n",
       "      <th>1298</th>\n",
       "      <td>0</td>\n",
       "    </tr>\n",
       "    <tr>\n",
       "      <th>1299</th>\n",
       "      <td>1</td>\n",
       "    </tr>\n",
       "    <tr>\n",
       "      <th>1300</th>\n",
       "      <td>0</td>\n",
       "    </tr>\n",
       "  </tbody>\n",
       "</table>\n",
       "<p>400 rows × 1 columns</p>\n",
       "</div>"
      ],
      "text/plain": [
       "            Deceased\n",
       "Patient_ID          \n",
       "901                1\n",
       "902                1\n",
       "903                1\n",
       "904                1\n",
       "905                1\n",
       "...              ...\n",
       "1296               1\n",
       "1297               1\n",
       "1298               0\n",
       "1299               1\n",
       "1300               0\n",
       "\n",
       "[400 rows x 1 columns]"
      ]
     },
     "execution_count": 350,
     "metadata": {},
     "output_type": "execute_result"
    }
   ],
   "source": [
    "version3"
   ]
  },
  {
   "cell_type": "code",
   "execution_count": 351,
   "metadata": {},
   "outputs": [],
   "source": [
    "version3.to_csv('versions/Group6__version_alex.csv', index=True)"
   ]
  },
  {
   "cell_type": "markdown",
   "metadata": {},
   "source": [
    "%%%%"
   ]
  },
  {
   "cell_type": "code",
   "execution_count": 417,
   "metadata": {},
   "outputs": [],
   "source": [
    "from sklearn.ensemble import AdaBoostClassifier\n",
    "from sklearn.neural_network import MLPClassifier"
   ]
  },
  {
   "cell_type": "code",
   "execution_count": 550,
   "metadata": {},
   "outputs": [],
   "source": [
    "from sklearn.neighbors import KNeighborsClassifier\n",
    "from sklearn.ensemble import BaggingClassifier\n",
    "from sklearn.ensemble import AdaBoostClassifier\n",
    "\n",
    "modelKNN = KNeighborsClassifier()\n",
    "bagging_KNN = BaggingClassifier(base_estimator = modelKNN, random_state = 5)\n",
    "NN=MLPClassifier(hidden_layer_sizes=(16,16))\n",
    "bagging_NN = BaggingClassifier(base_estimator = NN, random_state = 5)\n",
    "AB=AdaBoostClassifier(random_state = 5)"
   ]
  },
  {
   "cell_type": "code",
   "execution_count": 473,
   "metadata": {},
   "outputs": [],
   "source": [
    "X_train, X_val, y_train, y_val = train_test_split(X, \n",
    "                                                    y, \n",
    "                                                    test_size=0.1, \n",
    "                                                   # random_state, \n",
    "                                                    shuffle=True, \n",
    "                                                    stratify=y\n",
    "                                                   )"
   ]
  },
  {
   "cell_type": "code",
   "execution_count": null,
   "metadata": {},
   "outputs": [],
   "source": []
  },
  {
   "cell_type": "code",
   "execution_count": 490,
   "metadata": {},
   "outputs": [
    {
     "data": {
      "text/plain": [
       "KNeighborsClassifier(algorithm='auto', leaf_size=30, metric='minkowski',\n",
       "                     metric_params=None, n_jobs=None, n_neighbors=5, p=2,\n",
       "                     weights='uniform')"
      ]
     },
     "execution_count": 490,
     "metadata": {},
     "output_type": "execute_result"
    }
   ],
   "source": [
    "modelKNN.fit(X_train,y_train)"
   ]
  },
  {
   "cell_type": "code",
   "execution_count": 491,
   "metadata": {},
   "outputs": [
    {
     "data": {
      "text/plain": [
       "0.8333333333333334"
      ]
     },
     "execution_count": 491,
     "metadata": {},
     "output_type": "execute_result"
    }
   ],
   "source": [
    "modelKNN.score(X_val,y_val)"
   ]
  },
  {
   "cell_type": "code",
   "execution_count": null,
   "metadata": {},
   "outputs": [],
   "source": [
    "predknn=modelKNN.predict(X_final)"
   ]
  },
  {
   "cell_type": "code",
   "execution_count": null,
   "metadata": {},
   "outputs": [],
   "source": []
  },
  {
   "cell_type": "code",
   "execution_count": 492,
   "metadata": {},
   "outputs": [
    {
     "data": {
      "text/plain": [
       "MLPClassifier(activation='relu', alpha=0.0001, batch_size='auto', beta_1=0.9,\n",
       "              beta_2=0.999, early_stopping=False, epsilon=1e-08,\n",
       "              hidden_layer_sizes=(16, 16), learning_rate='constant',\n",
       "              learning_rate_init=0.001, max_fun=15000, max_iter=200,\n",
       "              momentum=0.9, n_iter_no_change=10, nesterovs_momentum=True,\n",
       "              power_t=0.5, random_state=None, shuffle=True, solver='adam',\n",
       "              tol=0.0001, validation_fraction=0.1, verbose=False,\n",
       "              warm_start=False)"
      ]
     },
     "execution_count": 492,
     "metadata": {},
     "output_type": "execute_result"
    }
   ],
   "source": [
    "NN.fit(X_train,y_train)"
   ]
  },
  {
   "cell_type": "code",
   "execution_count": 493,
   "metadata": {},
   "outputs": [
    {
     "data": {
      "text/plain": [
       "0.8555555555555555"
      ]
     },
     "execution_count": 493,
     "metadata": {},
     "output_type": "execute_result"
    }
   ],
   "source": [
    "NN.score(X_val,y_val)"
   ]
  },
  {
   "cell_type": "code",
   "execution_count": 509,
   "metadata": {},
   "outputs": [],
   "source": [
    "prednn=NN.predict(X_final)"
   ]
  },
  {
   "cell_type": "code",
   "execution_count": null,
   "metadata": {},
   "outputs": [],
   "source": []
  },
  {
   "cell_type": "code",
   "execution_count": 494,
   "metadata": {
    "scrolled": true
   },
   "outputs": [
    {
     "data": {
      "text/plain": [
       "AdaBoostClassifier(algorithm='SAMME.R', base_estimator=None, learning_rate=1.0,\n",
       "                   n_estimators=50, random_state=5)"
      ]
     },
     "execution_count": 494,
     "metadata": {},
     "output_type": "execute_result"
    }
   ],
   "source": [
    "AB.fit(X_train, y_train)"
   ]
  },
  {
   "cell_type": "code",
   "execution_count": 495,
   "metadata": {},
   "outputs": [
    {
     "data": {
      "text/plain": [
       "0.8666666666666667"
      ]
     },
     "execution_count": 495,
     "metadata": {},
     "output_type": "execute_result"
    }
   ],
   "source": [
    "AB.score(X_val,y_val)"
   ]
  },
  {
   "cell_type": "code",
   "execution_count": 510,
   "metadata": {},
   "outputs": [],
   "source": [
    "predab=AB.predict(X_final)"
   ]
  },
  {
   "cell_type": "code",
   "execution_count": null,
   "metadata": {},
   "outputs": [],
   "source": []
  },
  {
   "cell_type": "code",
   "execution_count": 548,
   "metadata": {},
   "outputs": [
    {
     "data": {
      "text/plain": [
       "BaggingClassifier(base_estimator=KNeighborsClassifier(algorithm='auto',\n",
       "                                                      leaf_size=30,\n",
       "                                                      metric='minkowski',\n",
       "                                                      metric_params=None,\n",
       "                                                      n_jobs=None,\n",
       "                                                      n_neighbors=5, p=2,\n",
       "                                                      weights='uniform'),\n",
       "                  bootstrap=True, bootstrap_features=False, max_features=1.0,\n",
       "                  max_samples=1.0, n_estimators=1000, n_jobs=None,\n",
       "                  oob_score=False, random_state=5, verbose=0, warm_start=False)"
      ]
     },
     "execution_count": 548,
     "metadata": {},
     "output_type": "execute_result"
    }
   ],
   "source": [
    "bagging_KNN.fit(X_train,y_train)"
   ]
  },
  {
   "cell_type": "code",
   "execution_count": 549,
   "metadata": {},
   "outputs": [
    {
     "data": {
      "text/plain": [
       "0.8444444444444444"
      ]
     },
     "execution_count": 549,
     "metadata": {},
     "output_type": "execute_result"
    }
   ],
   "source": [
    "bagging_KNN.score(X_val,y_val)"
   ]
  },
  {
   "cell_type": "code",
   "execution_count": 511,
   "metadata": {},
   "outputs": [],
   "source": [
    "predbknn=bagging_KNN.predict(X_final)"
   ]
  },
  {
   "cell_type": "code",
   "execution_count": null,
   "metadata": {},
   "outputs": [],
   "source": []
  },
  {
   "cell_type": "code",
   "execution_count": 551,
   "metadata": {},
   "outputs": [
    {
     "data": {
      "text/plain": [
       "BaggingClassifier(base_estimator=MLPClassifier(activation='relu', alpha=0.0001,\n",
       "                                               batch_size='auto', beta_1=0.9,\n",
       "                                               beta_2=0.999,\n",
       "                                               early_stopping=False,\n",
       "                                               epsilon=1e-08,\n",
       "                                               hidden_layer_sizes=(16, 16),\n",
       "                                               learning_rate='constant',\n",
       "                                               learning_rate_init=0.001,\n",
       "                                               max_fun=15000, max_iter=200,\n",
       "                                               momentum=0.9,\n",
       "                                               n_iter_no_change=10,\n",
       "                                               nesterovs_momentum=True,\n",
       "                                               power_t=0.5, random_state=None,\n",
       "                                               shuffle=True, solver='adam',\n",
       "                                               tol=0.0001,\n",
       "                                               validation_fraction=0.1,\n",
       "                                               verbose=False,\n",
       "                                               warm_start=False),\n",
       "                  bootstrap=True, bootstrap_features=False, max_features=1.0,\n",
       "                  max_samples=1.0, n_estimators=100, n_jobs=None,\n",
       "                  oob_score=False, random_state=5, verbose=0, warm_start=False)"
      ]
     },
     "execution_count": 551,
     "metadata": {},
     "output_type": "execute_result"
    }
   ],
   "source": [
    "bagging_NN.fit(X_train,y_train)"
   ]
  },
  {
   "cell_type": "code",
   "execution_count": 552,
   "metadata": {},
   "outputs": [
    {
     "data": {
      "text/plain": [
       "0.8666666666666667"
      ]
     },
     "execution_count": 552,
     "metadata": {},
     "output_type": "execute_result"
    }
   ],
   "source": [
    "bagging_NN.score(X_val,y_val)"
   ]
  },
  {
   "cell_type": "code",
   "execution_count": 512,
   "metadata": {},
   "outputs": [],
   "source": [
    "predbnn=bagging_NN.predict(X_final)"
   ]
  },
  {
   "cell_type": "code",
   "execution_count": 611,
   "metadata": {},
   "outputs": [],
   "source": [
    "from sklearn.ensemble import StackingClassifier\n",
    "from xgboost import XGBClassifier"
   ]
  },
  {
   "cell_type": "code",
   "execution_count": 612,
   "metadata": {},
   "outputs": [],
   "source": [
    "estimators = [#('rf', RandomForestClassifier(random_state=5)),\n",
    "    ('ab',AdaBoostClassifier(random_state = 5)),\n",
    "    ('xgb',XGBClassifier(\n",
    "                    colsample_bytree = 1.0, \n",
    "                    eta = 0.63, \n",
    "                    max_depth = 2\n",
    "                )),\n",
    "              ('nb', GaussianNB()),('knn',KNeighborsClassifier()),\n",
    "              ('nn',MLPClassifier(hidden_layer_sizes=(16,16))),\n",
    "              ]"
   ]
  },
  {
   "cell_type": "code",
   "execution_count": 613,
   "metadata": {},
   "outputs": [],
   "source": [
    "SC = StackingClassifier(estimators=estimators, final_estimator=LogisticRegression())\n",
    "\n",
    "# modelKNN = KNeighborsClassifier()\n",
    "# bagging_KNN = BaggingClassifier(base_estimator = modelKNN, random_state = 5)\n",
    "# NN=MLPClassifier(hidden_layer_sizes=(16,16))\n",
    "# bagging_NN = BaggingClassifier(base_estimator = NN, random_state = 5)\n",
    "# AB=AdaBoostClassifier(random_state = 5)"
   ]
  },
  {
   "cell_type": "code",
   "execution_count": 614,
   "metadata": {},
   "outputs": [
    {
     "data": {
      "text/plain": [
       "StackingClassifier(cv=None,\n",
       "                   estimators=[('ab',\n",
       "                                AdaBoostClassifier(algorithm='SAMME.R',\n",
       "                                                   base_estimator=None,\n",
       "                                                   learning_rate=1.0,\n",
       "                                                   n_estimators=50,\n",
       "                                                   random_state=5)),\n",
       "                               ('xgb',\n",
       "                                XGBClassifier(base_score=None, booster=None,\n",
       "                                              colsample_bylevel=None,\n",
       "                                              colsample_bynode=None,\n",
       "                                              colsample_bytree=1.0, eta=0.63,\n",
       "                                              gamma=None, gpu_id=None,\n",
       "                                              importance_type='gain',\n",
       "                                              interaction_constraints=...\n",
       "                                              validation_fraction=0.1,\n",
       "                                              verbose=False,\n",
       "                                              warm_start=False))],\n",
       "                   final_estimator=LogisticRegression(C=1.0, class_weight=None,\n",
       "                                                      dual=False,\n",
       "                                                      fit_intercept=True,\n",
       "                                                      intercept_scaling=1,\n",
       "                                                      l1_ratio=None,\n",
       "                                                      max_iter=100,\n",
       "                                                      multi_class='auto',\n",
       "                                                      n_jobs=None, penalty='l2',\n",
       "                                                      random_state=None,\n",
       "                                                      solver='lbfgs',\n",
       "                                                      tol=0.0001, verbose=0,\n",
       "                                                      warm_start=False),\n",
       "                   n_jobs=None, passthrough=False, stack_method='auto',\n",
       "                   verbose=0)"
      ]
     },
     "execution_count": 614,
     "metadata": {},
     "output_type": "execute_result"
    }
   ],
   "source": [
    "SC.fit(X_train, y_train)"
   ]
  },
  {
   "cell_type": "code",
   "execution_count": 615,
   "metadata": {},
   "outputs": [
    {
     "data": {
      "text/plain": [
       "0.8666666666666667"
      ]
     },
     "execution_count": 615,
     "metadata": {},
     "output_type": "execute_result"
    }
   ],
   "source": [
    "SC.score(X_val,y_val)"
   ]
  },
  {
   "cell_type": "code",
   "execution_count": 616,
   "metadata": {},
   "outputs": [],
   "source": [
    "sc=SC.predict(X_final)"
   ]
  },
  {
   "cell_type": "code",
   "execution_count": 696,
   "metadata": {},
   "outputs": [],
   "source": [
    "from sklearn.ensemble import GradientBoostingClassifier"
   ]
  },
  {
   "cell_type": "code",
   "execution_count": 697,
   "metadata": {
    "scrolled": true
   },
   "outputs": [],
   "source": [
    "GB = GradientBoostingClassifier(random_state = 5)"
   ]
  },
  {
   "cell_type": "code",
   "execution_count": 698,
   "metadata": {},
   "outputs": [
    {
     "data": {
      "text/plain": [
       "GradientBoostingClassifier(ccp_alpha=0.0, criterion='friedman_mse', init=None,\n",
       "                           learning_rate=0.1, loss='deviance', max_depth=3,\n",
       "                           max_features=None, max_leaf_nodes=None,\n",
       "                           min_impurity_decrease=0.0, min_impurity_split=None,\n",
       "                           min_samples_leaf=1, min_samples_split=2,\n",
       "                           min_weight_fraction_leaf=0.0, n_estimators=100,\n",
       "                           n_iter_no_change=None, presort='deprecated',\n",
       "                           random_state=5, subsample=1.0, tol=0.0001,\n",
       "                           validation_fraction=0.1, verbose=0,\n",
       "                           warm_start=False)"
      ]
     },
     "execution_count": 698,
     "metadata": {},
     "output_type": "execute_result"
    }
   ],
   "source": [
    "GB.fit(X_train, y_train)"
   ]
  },
  {
   "cell_type": "code",
   "execution_count": 699,
   "metadata": {},
   "outputs": [
    {
     "data": {
      "text/plain": [
       "0.8271604938271605"
      ]
     },
     "execution_count": 699,
     "metadata": {},
     "output_type": "execute_result"
    }
   ],
   "source": [
    "GB.score(X_val,y_val)"
   ]
  },
  {
   "cell_type": "markdown",
   "metadata": {},
   "source": [
    "# CV"
   ]
  },
  {
   "cell_type": "markdown",
   "metadata": {},
   "source": [
    "# LogRe"
   ]
  },
  {
   "cell_type": "code",
   "execution_count": 880,
   "metadata": {},
   "outputs": [],
   "source": [
    "parameter_space = {\n",
    "    'penalty':['l1', 'l2'],\n",
    "    #'dual': [False],\n",
    "    #'tol':[1e-4,],\n",
    "   # 'C':[1.0],\n",
    "    'fit_intercept':[True,False],\n",
    "    'solver':['newton-cg', 'lbfgs', 'liblinear', 'sag', 'saga'],\n",
    "    'multi_class':['ovr', 'multinomial']\n",
    "}\n",
    "model=LogisticRegression()\n",
    "clf = GridSearchCV(model, parameter_space,n_jobs=-1,verbose=5,cv=5)"
   ]
  },
  {
   "cell_type": "code",
   "execution_count": 881,
   "metadata": {},
   "outputs": [
    {
     "name": "stdout",
     "output_type": "stream",
     "text": [
      "Fitting 5 folds for each of 40 candidates, totalling 200 fits\n"
     ]
    },
    {
     "name": "stderr",
     "output_type": "stream",
     "text": [
      "[Parallel(n_jobs=-1)]: Using backend LokyBackend with 16 concurrent workers.\n",
      "[Parallel(n_jobs=-1)]: Done  48 tasks      | elapsed:    0.1s\n",
      "[Parallel(n_jobs=-1)]: Done 200 out of 200 | elapsed:    0.3s finished\n"
     ]
    },
    {
     "data": {
      "text/plain": [
       "GridSearchCV(cv=5, error_score=nan,\n",
       "             estimator=LogisticRegression(C=1.0, class_weight=None, dual=False,\n",
       "                                          fit_intercept=True,\n",
       "                                          intercept_scaling=1, l1_ratio=None,\n",
       "                                          max_iter=100, multi_class='auto',\n",
       "                                          n_jobs=None, penalty='l2',\n",
       "                                          random_state=None, solver='lbfgs',\n",
       "                                          tol=0.0001, verbose=0,\n",
       "                                          warm_start=False),\n",
       "             iid='deprecated', n_jobs=-1,\n",
       "             param_grid={'fit_intercept': [True, False],\n",
       "                         'multi_class': ['ovr', 'multinomial'],\n",
       "                         'penalty': ['l1', 'l2'],\n",
       "                         'solver': ['newton-cg', 'lbfgs', 'liblinear', 'sag',\n",
       "                                    'saga']},\n",
       "             pre_dispatch='2*n_jobs', refit=True, return_train_score=False,\n",
       "             scoring=None, verbose=5)"
      ]
     },
     "execution_count": 881,
     "metadata": {},
     "output_type": "execute_result"
    }
   ],
   "source": [
    "clf.fit(X,y)"
   ]
  },
  {
   "cell_type": "code",
   "execution_count": 882,
   "metadata": {},
   "outputs": [
    {
     "name": "stdout",
     "output_type": "stream",
     "text": [
      "------------------------------------------------------------------------------------------------------------------------\n",
      "Best parameters found:\n",
      " {'fit_intercept': False, 'multi_class': 'ovr', 'penalty': 'l1', 'solver': 'liblinear'}\n",
      "------------------------------------------------------------------------------------------------------------------------\n",
      "0.787 (+/-0.035) for {'fit_intercept': True, 'multi_class': 'ovr', 'penalty': 'l1', 'solver': 'saga'}\n",
      "0.787 (+/-0.035) for {'fit_intercept': True, 'multi_class': 'multinomial', 'penalty': 'l1', 'solver': 'saga'}\n",
      "0.787 (+/-0.037) for {'fit_intercept': True, 'multi_class': 'multinomial', 'penalty': 'l2', 'solver': 'newton-cg'}\n",
      "0.787 (+/-0.037) for {'fit_intercept': True, 'multi_class': 'multinomial', 'penalty': 'l2', 'solver': 'lbfgs'}\n",
      "0.787 (+/-0.037) for {'fit_intercept': True, 'multi_class': 'multinomial', 'penalty': 'l2', 'solver': 'sag'}\n",
      "0.787 (+/-0.037) for {'fit_intercept': True, 'multi_class': 'multinomial', 'penalty': 'l2', 'solver': 'saga'}\n",
      "0.788 (+/-0.030) for {'fit_intercept': False, 'multi_class': 'ovr', 'penalty': 'l1', 'solver': 'liblinear'}\n",
      "0.788 (+/-0.030) for {'fit_intercept': False, 'multi_class': 'ovr', 'penalty': 'l1', 'solver': 'saga'}\n",
      "0.788 (+/-0.030) for {'fit_intercept': False, 'multi_class': 'multinomial', 'penalty': 'l1', 'solver': 'saga'}\n"
     ]
    }
   ],
   "source": [
    "# Best parameter set\n",
    "print('------------------------------------------------------------------------------------------------------------------------')\n",
    "print('Best parameters found:\\n', clf.best_params_)\n",
    "print('------------------------------------------------------------------------------------------------------------------------')\n",
    "\n",
    "# All results\n",
    "means = clf.cv_results_['mean_test_score']\n",
    "stds = clf.cv_results_['std_test_score']\n",
    "for mean, std, params in zip(means, stds, clf.cv_results_['params']):\n",
    "    if mean>.786:\n",
    "        print(\"%0.3f (+/-%0.03f) for %r\" % (mean, std , params))\n",
    "        "
   ]
  },
  {
   "cell_type": "markdown",
   "metadata": {},
   "source": [
    "# RanFor"
   ]
  },
  {
   "cell_type": "code",
   "execution_count": 892,
   "metadata": {},
   "outputs": [
    {
     "name": "stdout",
     "output_type": "stream",
     "text": [
      "Fitting 5 folds for each of 196 candidates, totalling 980 fits\n"
     ]
    },
    {
     "name": "stderr",
     "output_type": "stream",
     "text": [
      "[Parallel(n_jobs=-1)]: Using backend LokyBackend with 16 concurrent workers.\n",
      "[Parallel(n_jobs=-1)]: Done  40 tasks      | elapsed:    1.5s\n",
      "[Parallel(n_jobs=-1)]: Done 130 tasks      | elapsed:    4.1s\n",
      "[Parallel(n_jobs=-1)]: Done 256 tasks      | elapsed:    8.0s\n",
      "[Parallel(n_jobs=-1)]: Done 418 tasks      | elapsed:   13.0s\n",
      "[Parallel(n_jobs=-1)]: Done 616 tasks      | elapsed:   19.1s\n",
      "[Parallel(n_jobs=-1)]: Done 850 tasks      | elapsed:   26.3s\n",
      "[Parallel(n_jobs=-1)]: Done 980 out of 980 | elapsed:   30.3s finished\n"
     ]
    },
    {
     "data": {
      "text/plain": [
       "GridSearchCV(cv=5, error_score=nan,\n",
       "             estimator=RandomForestClassifier(bootstrap=True, ccp_alpha=0.0,\n",
       "                                              class_weight=None,\n",
       "                                              criterion='gini', max_depth=None,\n",
       "                                              max_features='auto',\n",
       "                                              max_leaf_nodes=None,\n",
       "                                              max_samples=None,\n",
       "                                              min_impurity_decrease=0.0,\n",
       "                                              min_impurity_split=None,\n",
       "                                              min_samples_leaf=1,\n",
       "                                              min_samples_split=2,\n",
       "                                              min_weight_fraction_leaf=0.0,\n",
       "                                              n_estimators=100, n_jobs=None,...\n",
       "                                              random_state=None, verbose=0,\n",
       "                                              warm_start=False),\n",
       "             iid='deprecated', n_jobs=-1,\n",
       "             param_grid={'bootstrap': [True], 'criterion': ['entropy'],\n",
       "                         'max_depth': [7, 8, 9, 10, 11, 12, 13],\n",
       "                         'max_features': [None],\n",
       "                         'min_samples_leaf': [1, 2, 3, 4, 5, 10, 20],\n",
       "                         'n_estimators': [60, 80, 100, 120],\n",
       "                         'oob_score': [True]},\n",
       "             pre_dispatch='2*n_jobs', refit=True, return_train_score=False,\n",
       "             scoring=None, verbose=5)"
      ]
     },
     "execution_count": 892,
     "metadata": {},
     "output_type": "execute_result"
    }
   ],
   "source": [
    "parameter_space = {\n",
    "    'n_estimators':[60,80,100,120],\n",
    "    'criterion':['entropy'],\n",
    "    'max_depth':[7,8,9,10,11,12,13],\n",
    "    'oob_score':[True],\n",
    "    'bootstrap':[True],\n",
    "    'min_samples_leaf':[1,2,3,4,5,10,20],\n",
    "    'max_features':[None]\n",
    "    \n",
    "}\n",
    "model=RandomForestClassifier()\n",
    "clf = GridSearchCV(model, parameter_space,n_jobs=-1,verbose=5,cv=5)\n",
    "clf.fit(X,y)"
   ]
  },
  {
   "cell_type": "code",
   "execution_count": 894,
   "metadata": {},
   "outputs": [
    {
     "name": "stdout",
     "output_type": "stream",
     "text": [
      "------------------------------------------------------------------------------------------------------------------------\n",
      "Best parameters found:\n",
      " {'bootstrap': True, 'criterion': 'entropy', 'max_depth': 10, 'max_features': None, 'min_samples_leaf': 2, 'n_estimators': 120, 'oob_score': True}\n",
      "------------------------------------------------------------------------------------------------------------------------\n",
      "0.838 (+/-0.029) for {'bootstrap': True, 'criterion': 'entropy', 'max_depth': 10, 'max_features': None, 'min_samples_leaf': 2, 'n_estimators': 120, 'oob_score': True}\n",
      "0.833 (+/-0.022) for {'bootstrap': True, 'criterion': 'entropy', 'max_depth': 13, 'max_features': None, 'min_samples_leaf': 2, 'n_estimators': 80, 'oob_score': True}\n"
     ]
    }
   ],
   "source": [
    "# Best parameter set\n",
    "print('------------------------------------------------------------------------------------------------------------------------')\n",
    "print('Best parameters found:\\n', clf.best_params_)\n",
    "print('------------------------------------------------------------------------------------------------------------------------')\n",
    "\n",
    "# All results\n",
    "means = clf.cv_results_['mean_test_score']\n",
    "stds = clf.cv_results_['std_test_score']\n",
    "for mean, std, params in zip(means, stds, clf.cv_results_['params']):\n",
    "    if mean>.833:\n",
    "        print(\"%0.3f (+/-%0.03f) for %r\" % (mean, std , params))"
   ]
  },
  {
   "cell_type": "markdown",
   "metadata": {},
   "source": [
    "# GradBoost"
   ]
  },
  {
   "cell_type": "code",
   "execution_count": 899,
   "metadata": {},
   "outputs": [
    {
     "name": "stdout",
     "output_type": "stream",
     "text": [
      "Fitting 5 folds for each of 16 candidates, totalling 80 fits\n"
     ]
    },
    {
     "name": "stderr",
     "output_type": "stream",
     "text": [
      "[Parallel(n_jobs=-1)]: Using backend LokyBackend with 16 concurrent workers.\n",
      "[Parallel(n_jobs=-1)]: Done  40 tasks      | elapsed:    2.9s\n",
      "[Parallel(n_jobs=-1)]: Done  66 out of  80 | elapsed:    3.3s remaining:    0.7s\n",
      "[Parallel(n_jobs=-1)]: Done  80 out of  80 | elapsed:    3.4s finished\n"
     ]
    },
    {
     "data": {
      "text/plain": [
       "GridSearchCV(cv=5, error_score=nan,\n",
       "             estimator=GradientBoostingClassifier(ccp_alpha=0.0,\n",
       "                                                  criterion='friedman_mse',\n",
       "                                                  init=None, learning_rate=0.1,\n",
       "                                                  loss='deviance', max_depth=3,\n",
       "                                                  max_features=None,\n",
       "                                                  max_leaf_nodes=None,\n",
       "                                                  min_impurity_decrease=0.0,\n",
       "                                                  min_impurity_split=None,\n",
       "                                                  min_samples_leaf=1,\n",
       "                                                  min_samples_split=2,\n",
       "                                                  min_weight_fraction_leaf=0.0,\n",
       "                                                  n_estimators=100,\n",
       "                                                  n_iter_no_c...\n",
       "                                                  presort='deprecated',\n",
       "                                                  random_state=None,\n",
       "                                                  subsample=1.0, tol=0.0001,\n",
       "                                                  validation_fraction=0.1,\n",
       "                                                  verbose=0, warm_start=False),\n",
       "             iid='deprecated', n_jobs=-1,\n",
       "             param_grid={'loss': ['exponential'], 'max_depth': [7, 9, 11, 13],\n",
       "                         'max_features': [None],\n",
       "                         'min_samples_leaf': [10, 20, 50, 100],\n",
       "                         'n_estimators': [60]},\n",
       "             pre_dispatch='2*n_jobs', refit=True, return_train_score=False,\n",
       "             scoring=None, verbose=5)"
      ]
     },
     "execution_count": 899,
     "metadata": {},
     "output_type": "execute_result"
    }
   ],
   "source": [
    "parameter_space = {\n",
    "    'loss':[ 'exponential'],\n",
    "    'n_estimators':[60],\n",
    "    'max_depth':[7,9,11,13],\n",
    "    'min_samples_leaf':[10,20,50,100],\n",
    "    'max_features':[None]\n",
    "    \n",
    "    \n",
    "    \n",
    "}\n",
    "model=GradientBoostingClassifier()\n",
    "clf = GridSearchCV(model, parameter_space,n_jobs=-1,verbose=5,cv=5)\n",
    "clf.fit(X,y)"
   ]
  },
  {
   "cell_type": "code",
   "execution_count": 900,
   "metadata": {},
   "outputs": [
    {
     "name": "stdout",
     "output_type": "stream",
     "text": [
      "------------------------------------------------------------------------------------------------------------------------\n",
      "Best parameters found:\n",
      " {'loss': 'exponential', 'max_depth': 7, 'max_features': None, 'min_samples_leaf': 10, 'n_estimators': 60}\n",
      "------------------------------------------------------------------------------------------------------------------------\n",
      "0.836 (+/-0.024) for {'loss': 'exponential', 'max_depth': 7, 'max_features': None, 'min_samples_leaf': 10, 'n_estimators': 60}\n",
      "0.833 (+/-0.019) for {'loss': 'exponential', 'max_depth': 11, 'max_features': None, 'min_samples_leaf': 20, 'n_estimators': 60}\n"
     ]
    }
   ],
   "source": [
    "# Best parameter set\n",
    "print('------------------------------------------------------------------------------------------------------------------------')\n",
    "print('Best parameters found:\\n', clf.best_params_)\n",
    "print('------------------------------------------------------------------------------------------------------------------------')\n",
    "\n",
    "# All results\n",
    "means = clf.cv_results_['mean_test_score']\n",
    "stds = clf.cv_results_['std_test_score']\n",
    "for mean, std, params in zip(means, stds, clf.cv_results_['params']):\n",
    "    if mean>.833:\n",
    "        print(\"%0.3f (+/-%0.03f) for %r\" % (mean, std , params))"
   ]
  },
  {
   "cell_type": "markdown",
   "metadata": {},
   "source": [
    "# AdaBoost"
   ]
  },
  {
   "cell_type": "code",
   "execution_count": 907,
   "metadata": {},
   "outputs": [
    {
     "name": "stdout",
     "output_type": "stream",
     "text": [
      "Fitting 5 folds for each of 12 candidates, totalling 60 fits\n"
     ]
    },
    {
     "name": "stderr",
     "output_type": "stream",
     "text": [
      "[Parallel(n_jobs=-1)]: Using backend LokyBackend with 16 concurrent workers.\n",
      "[Parallel(n_jobs=-1)]: Done  42 out of  60 | elapsed:    2.1s remaining:    0.9s\n",
      "[Parallel(n_jobs=-1)]: Done  55 out of  60 | elapsed:    2.5s remaining:    0.2s\n",
      "[Parallel(n_jobs=-1)]: Done  60 out of  60 | elapsed:    2.8s finished\n"
     ]
    },
    {
     "data": {
      "text/plain": [
       "GridSearchCV(cv=5, error_score=nan,\n",
       "             estimator=AdaBoostClassifier(algorithm='SAMME.R',\n",
       "                                          base_estimator=None,\n",
       "                                          learning_rate=1.0, n_estimators=50,\n",
       "                                          random_state=None),\n",
       "             iid='deprecated', n_jobs=-1,\n",
       "             param_grid={'algorithm': ['SAMME.R'],\n",
       "                         'learning_rate': [1.0, 0.9, 0.8],\n",
       "                         'n_estimators': [100, 150, 200, 250]},\n",
       "             pre_dispatch='2*n_jobs', refit=True, return_train_score=False,\n",
       "             scoring=None, verbose=5)"
      ]
     },
     "execution_count": 907,
     "metadata": {},
     "output_type": "execute_result"
    }
   ],
   "source": [
    "parameter_space = {\n",
    "    'n_estimators':[100,150,200,250],\n",
    "    'learning_rate':[1.0,0.9,0.8],\n",
    "    'algorithm':['SAMME.R']\n",
    "}\n",
    "model=AdaBoostClassifier()\n",
    "clf = GridSearchCV(model, parameter_space,n_jobs=-1,verbose=5,cv=5)\n",
    "clf.fit(X,y)"
   ]
  },
  {
   "cell_type": "code",
   "execution_count": 908,
   "metadata": {},
   "outputs": [
    {
     "name": "stdout",
     "output_type": "stream",
     "text": [
      "------------------------------------------------------------------------------------------------------------------------\n",
      "Best parameters found:\n",
      " {'algorithm': 'SAMME.R', 'learning_rate': 0.9, 'n_estimators': 150}\n",
      "------------------------------------------------------------------------------------------------------------------------\n",
      "0.802 (+/-0.019) for {'algorithm': 'SAMME.R', 'learning_rate': 1.0, 'n_estimators': 100}\n",
      "0.808 (+/-0.017) for {'algorithm': 'SAMME.R', 'learning_rate': 1.0, 'n_estimators': 150}\n",
      "0.801 (+/-0.019) for {'algorithm': 'SAMME.R', 'learning_rate': 1.0, 'n_estimators': 200}\n",
      "0.808 (+/-0.025) for {'algorithm': 'SAMME.R', 'learning_rate': 1.0, 'n_estimators': 250}\n",
      "0.808 (+/-0.019) for {'algorithm': 'SAMME.R', 'learning_rate': 0.9, 'n_estimators': 100}\n",
      "0.810 (+/-0.020) for {'algorithm': 'SAMME.R', 'learning_rate': 0.9, 'n_estimators': 150}\n",
      "0.807 (+/-0.023) for {'algorithm': 'SAMME.R', 'learning_rate': 0.9, 'n_estimators': 200}\n",
      "0.807 (+/-0.021) for {'algorithm': 'SAMME.R', 'learning_rate': 0.9, 'n_estimators': 250}\n",
      "0.809 (+/-0.018) for {'algorithm': 'SAMME.R', 'learning_rate': 0.8, 'n_estimators': 150}\n",
      "0.807 (+/-0.019) for {'algorithm': 'SAMME.R', 'learning_rate': 0.8, 'n_estimators': 200}\n",
      "0.807 (+/-0.017) for {'algorithm': 'SAMME.R', 'learning_rate': 0.8, 'n_estimators': 250}\n"
     ]
    }
   ],
   "source": [
    "# Best parameter set\n",
    "print('------------------------------------------------------------------------------------------------------------------------')\n",
    "print('Best parameters found:\\n', clf.best_params_)\n",
    "print('------------------------------------------------------------------------------------------------------------------------')\n",
    "\n",
    "# All results\n",
    "means = clf.cv_results_['mean_test_score']\n",
    "stds = clf.cv_results_['std_test_score']\n",
    "for mean, std, params in zip(means, stds, clf.cv_results_['params']):\n",
    "    if mean>.8:\n",
    "        print(\"%0.3f (+/-%0.03f) for %r\" % (mean, std , params))"
   ]
  },
  {
   "cell_type": "markdown",
   "metadata": {},
   "source": [
    "# MLP"
   ]
  },
  {
   "cell_type": "code",
   "execution_count": 914,
   "metadata": {},
   "outputs": [
    {
     "name": "stdout",
     "output_type": "stream",
     "text": [
      "Fitting 5 folds for each of 28 candidates, totalling 140 fits\n"
     ]
    },
    {
     "name": "stderr",
     "output_type": "stream",
     "text": [
      "[Parallel(n_jobs=-1)]: Using backend LokyBackend with 16 concurrent workers.\n",
      "[Parallel(n_jobs=-1)]: Done  48 tasks      | elapsed:    1.0s\n",
      "[Parallel(n_jobs=-1)]: Done 138 out of 140 | elapsed:    2.3s remaining:    0.0s\n",
      "[Parallel(n_jobs=-1)]: Done 140 out of 140 | elapsed:    2.4s finished\n"
     ]
    },
    {
     "data": {
      "text/plain": [
       "GridSearchCV(cv=5, error_score=nan,\n",
       "             estimator=MLPClassifier(activation='relu', alpha=0.0001,\n",
       "                                     batch_size='auto', beta_1=0.9,\n",
       "                                     beta_2=0.999, early_stopping=False,\n",
       "                                     epsilon=1e-08, hidden_layer_sizes=(100,),\n",
       "                                     learning_rate='constant',\n",
       "                                     learning_rate_init=0.001, max_fun=15000,\n",
       "                                     max_iter=200, momentum=0.9,\n",
       "                                     n_iter_no_change=10,\n",
       "                                     nesterovs_momentum=True, power_t=0.5,\n",
       "                                     random_state...\n",
       "                                     solver='adam', tol=0.0001,\n",
       "                                     validation_fraction=0.1, verbose=False,\n",
       "                                     warm_start=False),\n",
       "             iid='deprecated', n_jobs=-1,\n",
       "             param_grid={'activation': ['relu'],\n",
       "                         'hidden_layer_sizes': [(16, 16), (8, 8), (12, 12),\n",
       "                                                (16, 8)],\n",
       "                         'learning_rate': ['constant'],\n",
       "                         'max_iter': [50, 75, 100, 125, 150, 175, 200],\n",
       "                         'solver': ['lbfgs']},\n",
       "             pre_dispatch='2*n_jobs', refit=True, return_train_score=False,\n",
       "             scoring=None, verbose=5)"
      ]
     },
     "execution_count": 914,
     "metadata": {},
     "output_type": "execute_result"
    }
   ],
   "source": [
    "parameter_space = {\n",
    "    'hidden_layer_sizes':[(16,16),(8,8),(12,12),(16,8)],\n",
    "    'activation':[ 'relu'],\n",
    "    'solver':['lbfgs'],\n",
    "    'max_iter':[50,75,100,125,150,175,200],\n",
    "    'learning_rate':['constant'],\n",
    "    \n",
    "\n",
    "}\n",
    "model=MLPClassifier()\n",
    "clf = GridSearchCV(model, parameter_space,n_jobs=-1,verbose=5,cv=5)\n",
    "clf.fit(X,y)"
   ]
  },
  {
   "cell_type": "code",
   "execution_count": 916,
   "metadata": {},
   "outputs": [
    {
     "name": "stdout",
     "output_type": "stream",
     "text": [
      "------------------------------------------------------------------------------------------------------------------------\n",
      "Best parameters found:\n",
      " {'activation': 'relu', 'hidden_layer_sizes': (16, 8), 'learning_rate': 'constant', 'max_iter': 125, 'solver': 'lbfgs'}\n",
      "------------------------------------------------------------------------------------------------------------------------\n",
      "0.822 (+/-0.027) for {'activation': 'relu', 'hidden_layer_sizes': (16, 8), 'learning_rate': 'constant', 'max_iter': 125, 'solver': 'lbfgs'}\n"
     ]
    }
   ],
   "source": [
    "# Best parameter set\n",
    "print('------------------------------------------------------------------------------------------------------------------------')\n",
    "print('Best parameters found:\\n', clf.best_params_)\n",
    "print('------------------------------------------------------------------------------------------------------------------------')\n",
    "\n",
    "# All results\n",
    "means = clf.cv_results_['mean_test_score']\n",
    "stds = clf.cv_results_['std_test_score']\n",
    "for mean, std, params in zip(means, stds, clf.cv_results_['params']):\n",
    "    if mean>.818:\n",
    "        print(\"%0.3f (+/-%0.03f) for %r\" % (mean, std , params))"
   ]
  },
  {
   "cell_type": "markdown",
   "metadata": {},
   "source": [
    "# KNN"
   ]
  },
  {
   "cell_type": "code",
   "execution_count": 924,
   "metadata": {},
   "outputs": [
    {
     "name": "stdout",
     "output_type": "stream",
     "text": [
      "Fitting 5 folds for each of 240 candidates, totalling 1200 fits\n"
     ]
    },
    {
     "name": "stderr",
     "output_type": "stream",
     "text": [
      "[Parallel(n_jobs=-1)]: Using backend LokyBackend with 16 concurrent workers.\n",
      "[Parallel(n_jobs=-1)]: Done  48 tasks      | elapsed:    0.2s\n",
      "[Parallel(n_jobs=-1)]: Done 496 tasks      | elapsed:    1.2s\n",
      "[Parallel(n_jobs=-1)]: Done 1168 tasks      | elapsed:    2.3s\n",
      "[Parallel(n_jobs=-1)]: Done 1200 out of 1200 | elapsed:    2.3s finished\n"
     ]
    },
    {
     "data": {
      "text/plain": [
       "GridSearchCV(cv=5, error_score=nan,\n",
       "             estimator=KNeighborsClassifier(algorithm='auto', leaf_size=30,\n",
       "                                            metric='minkowski',\n",
       "                                            metric_params=None, n_jobs=None,\n",
       "                                            n_neighbors=5, p=2,\n",
       "                                            weights='uniform'),\n",
       "             iid='deprecated', n_jobs=-1,\n",
       "             param_grid={'algorithm': ['auto', 'ball_tree', 'kd_tree', 'brute'],\n",
       "                         'leaf_size': [10, 20, 30, 40, 50, 60, 70, 80, 90, 100],\n",
       "                         'n_neighbors': [21, 23, 25, 27, 29, 31], 'p': [1],\n",
       "                         'weights': ['uniform']},\n",
       "             pre_dispatch='2*n_jobs', refit=True, return_train_score=False,\n",
       "             scoring=None, verbose=5)"
      ]
     },
     "execution_count": 924,
     "metadata": {},
     "output_type": "execute_result"
    }
   ],
   "source": [
    "parameter_space = {\n",
    "    'n_neighbors':[21,23,25,27,29,31],\n",
    "    'weights':['uniform'],\n",
    "    'algorithm':['auto', 'ball_tree', 'kd_tree', 'brute'],\n",
    "    'leaf_size':[10,20,30,40,50,60,70,80,90,100],\n",
    "    'p':[1]\n",
    "    \n",
    "\n",
    "}\n",
    "model=KNeighborsClassifier()\n",
    "clf = GridSearchCV(model, parameter_space,n_jobs=-1,verbose=5,cv=5)\n",
    "clf.fit(X,y)"
   ]
  },
  {
   "cell_type": "code",
   "execution_count": 927,
   "metadata": {},
   "outputs": [
    {
     "name": "stdout",
     "output_type": "stream",
     "text": [
      "------------------------------------------------------------------------------------------------------------------------\n",
      "Best parameters found:\n",
      " {'algorithm': 'auto', 'leaf_size': 10, 'n_neighbors': 29, 'p': 1, 'weights': 'uniform'}\n",
      "------------------------------------------------------------------------------------------------------------------------\n",
      "0.808 (+/-0.029) for {'algorithm': 'auto', 'leaf_size': 10, 'n_neighbors': 29, 'p': 1, 'weights': 'uniform'}\n",
      "0.808 (+/-0.029) for {'algorithm': 'auto', 'leaf_size': 20, 'n_neighbors': 29, 'p': 1, 'weights': 'uniform'}\n",
      "0.808 (+/-0.029) for {'algorithm': 'auto', 'leaf_size': 30, 'n_neighbors': 29, 'p': 1, 'weights': 'uniform'}\n",
      "0.808 (+/-0.029) for {'algorithm': 'auto', 'leaf_size': 40, 'n_neighbors': 29, 'p': 1, 'weights': 'uniform'}\n",
      "0.808 (+/-0.029) for {'algorithm': 'auto', 'leaf_size': 50, 'n_neighbors': 29, 'p': 1, 'weights': 'uniform'}\n",
      "0.808 (+/-0.029) for {'algorithm': 'auto', 'leaf_size': 60, 'n_neighbors': 29, 'p': 1, 'weights': 'uniform'}\n",
      "0.808 (+/-0.029) for {'algorithm': 'auto', 'leaf_size': 70, 'n_neighbors': 29, 'p': 1, 'weights': 'uniform'}\n",
      "0.808 (+/-0.029) for {'algorithm': 'auto', 'leaf_size': 80, 'n_neighbors': 29, 'p': 1, 'weights': 'uniform'}\n",
      "0.808 (+/-0.029) for {'algorithm': 'auto', 'leaf_size': 90, 'n_neighbors': 29, 'p': 1, 'weights': 'uniform'}\n",
      "0.808 (+/-0.029) for {'algorithm': 'auto', 'leaf_size': 100, 'n_neighbors': 29, 'p': 1, 'weights': 'uniform'}\n",
      "0.808 (+/-0.029) for {'algorithm': 'ball_tree', 'leaf_size': 10, 'n_neighbors': 29, 'p': 1, 'weights': 'uniform'}\n",
      "0.808 (+/-0.029) for {'algorithm': 'ball_tree', 'leaf_size': 20, 'n_neighbors': 29, 'p': 1, 'weights': 'uniform'}\n",
      "0.808 (+/-0.029) for {'algorithm': 'ball_tree', 'leaf_size': 30, 'n_neighbors': 29, 'p': 1, 'weights': 'uniform'}\n",
      "0.808 (+/-0.029) for {'algorithm': 'ball_tree', 'leaf_size': 40, 'n_neighbors': 29, 'p': 1, 'weights': 'uniform'}\n",
      "0.808 (+/-0.029) for {'algorithm': 'ball_tree', 'leaf_size': 50, 'n_neighbors': 29, 'p': 1, 'weights': 'uniform'}\n",
      "0.808 (+/-0.029) for {'algorithm': 'ball_tree', 'leaf_size': 60, 'n_neighbors': 29, 'p': 1, 'weights': 'uniform'}\n",
      "0.808 (+/-0.029) for {'algorithm': 'ball_tree', 'leaf_size': 70, 'n_neighbors': 29, 'p': 1, 'weights': 'uniform'}\n",
      "0.808 (+/-0.029) for {'algorithm': 'ball_tree', 'leaf_size': 80, 'n_neighbors': 29, 'p': 1, 'weights': 'uniform'}\n",
      "0.808 (+/-0.029) for {'algorithm': 'ball_tree', 'leaf_size': 90, 'n_neighbors': 29, 'p': 1, 'weights': 'uniform'}\n",
      "0.808 (+/-0.029) for {'algorithm': 'ball_tree', 'leaf_size': 100, 'n_neighbors': 29, 'p': 1, 'weights': 'uniform'}\n",
      "0.808 (+/-0.029) for {'algorithm': 'kd_tree', 'leaf_size': 10, 'n_neighbors': 29, 'p': 1, 'weights': 'uniform'}\n",
      "0.808 (+/-0.029) for {'algorithm': 'kd_tree', 'leaf_size': 20, 'n_neighbors': 29, 'p': 1, 'weights': 'uniform'}\n",
      "0.808 (+/-0.029) for {'algorithm': 'kd_tree', 'leaf_size': 30, 'n_neighbors': 29, 'p': 1, 'weights': 'uniform'}\n",
      "0.808 (+/-0.029) for {'algorithm': 'kd_tree', 'leaf_size': 40, 'n_neighbors': 29, 'p': 1, 'weights': 'uniform'}\n",
      "0.808 (+/-0.029) for {'algorithm': 'kd_tree', 'leaf_size': 50, 'n_neighbors': 29, 'p': 1, 'weights': 'uniform'}\n",
      "0.808 (+/-0.029) for {'algorithm': 'kd_tree', 'leaf_size': 60, 'n_neighbors': 29, 'p': 1, 'weights': 'uniform'}\n",
      "0.808 (+/-0.029) for {'algorithm': 'kd_tree', 'leaf_size': 70, 'n_neighbors': 29, 'p': 1, 'weights': 'uniform'}\n",
      "0.808 (+/-0.029) for {'algorithm': 'kd_tree', 'leaf_size': 80, 'n_neighbors': 29, 'p': 1, 'weights': 'uniform'}\n",
      "0.808 (+/-0.029) for {'algorithm': 'kd_tree', 'leaf_size': 90, 'n_neighbors': 29, 'p': 1, 'weights': 'uniform'}\n",
      "0.808 (+/-0.029) for {'algorithm': 'kd_tree', 'leaf_size': 100, 'n_neighbors': 29, 'p': 1, 'weights': 'uniform'}\n",
      "0.808 (+/-0.029) for {'algorithm': 'brute', 'leaf_size': 10, 'n_neighbors': 29, 'p': 1, 'weights': 'uniform'}\n",
      "0.808 (+/-0.029) for {'algorithm': 'brute', 'leaf_size': 20, 'n_neighbors': 29, 'p': 1, 'weights': 'uniform'}\n",
      "0.808 (+/-0.029) for {'algorithm': 'brute', 'leaf_size': 30, 'n_neighbors': 29, 'p': 1, 'weights': 'uniform'}\n",
      "0.808 (+/-0.029) for {'algorithm': 'brute', 'leaf_size': 40, 'n_neighbors': 29, 'p': 1, 'weights': 'uniform'}\n",
      "0.808 (+/-0.029) for {'algorithm': 'brute', 'leaf_size': 50, 'n_neighbors': 29, 'p': 1, 'weights': 'uniform'}\n",
      "0.808 (+/-0.029) for {'algorithm': 'brute', 'leaf_size': 60, 'n_neighbors': 29, 'p': 1, 'weights': 'uniform'}\n",
      "0.808 (+/-0.029) for {'algorithm': 'brute', 'leaf_size': 70, 'n_neighbors': 29, 'p': 1, 'weights': 'uniform'}\n",
      "0.808 (+/-0.029) for {'algorithm': 'brute', 'leaf_size': 80, 'n_neighbors': 29, 'p': 1, 'weights': 'uniform'}\n",
      "0.808 (+/-0.029) for {'algorithm': 'brute', 'leaf_size': 90, 'n_neighbors': 29, 'p': 1, 'weights': 'uniform'}\n",
      "0.808 (+/-0.029) for {'algorithm': 'brute', 'leaf_size': 100, 'n_neighbors': 29, 'p': 1, 'weights': 'uniform'}\n"
     ]
    }
   ],
   "source": [
    "# Best parameter set\n",
    "print('------------------------------------------------------------------------------------------------------------------------')\n",
    "print('Best parameters found:\\n', clf.best_params_)\n",
    "print('------------------------------------------------------------------------------------------------------------------------')\n",
    "\n",
    "# All results\n",
    "means = clf.cv_results_['mean_test_score']\n",
    "stds = clf.cv_results_['std_test_score']\n",
    "for mean, std, params in zip(means, stds, clf.cv_results_['params']):\n",
    "    if mean>.807:\n",
    "        print(\"%0.3f (+/-%0.03f) for %r\" % (mean, std , params))"
   ]
  },
  {
   "cell_type": "code",
   "execution_count": null,
   "metadata": {},
   "outputs": [],
   "source": []
  },
  {
   "cell_type": "code",
   "execution_count": null,
   "metadata": {},
   "outputs": [],
   "source": []
  },
  {
   "cell_type": "code",
   "execution_count": 928,
   "metadata": {},
   "outputs": [],
   "source": [
    "from sklearn.ensemble import VotingClassifier\n",
    "from sklearn.linear_model import LogisticRegression"
   ]
  },
  {
   "cell_type": "code",
   "execution_count": 929,
   "metadata": {},
   "outputs": [],
   "source": [
    "clf1 = LogisticRegression(fit_intercept= False, multi_class= 'ovr', penalty='l1', solver= 'saga', random_state=1)\n"
   ]
  },
  {
   "cell_type": "code",
   "execution_count": 930,
   "metadata": {},
   "outputs": [],
   "source": [
    "\n",
    "clf2 = RandomForestClassifier(bootstrap= True, criterion= 'entropy', max_depth= 10, max_features= None, \n",
    "                              min_samples_leaf= 2, n_estimators= 120, oob_score= True, random_state=1)\n"
   ]
  },
  {
   "cell_type": "code",
   "execution_count": 931,
   "metadata": {},
   "outputs": [],
   "source": [
    "clf3 = GradientBoostingClassifier(loss= 'exponential', max_depth= 7, max_features= None,\n",
    "                                  min_samples_leaf= 10, n_estimators= 60,random_state = 1)\n"
   ]
  },
  {
   "cell_type": "code",
   "execution_count": 932,
   "metadata": {},
   "outputs": [],
   "source": [
    "clf4 = XGBClassifier(colsample_bytree = 1.0, eta = 0.63, max_depth = 2)"
   ]
  },
  {
   "cell_type": "code",
   "execution_count": 933,
   "metadata": {},
   "outputs": [],
   "source": [
    "clf5 = AdaBoostClassifier(algorithm= 'SAMME.R', learning_rate= 0.9, n_estimators= 150,random_state = 5)"
   ]
  },
  {
   "cell_type": "code",
   "execution_count": 934,
   "metadata": {},
   "outputs": [],
   "source": [
    "clf6 = MLPClassifier(activation= 'relu', hidden_layer_sizes= (16, 8), learning_rate= 'constant',\n",
    "                      max_iter= 125, solver= 'lbfgs')"
   ]
  },
  {
   "cell_type": "code",
   "execution_count": 937,
   "metadata": {},
   "outputs": [],
   "source": [
    "clf7 = KNeighborsClassifier(algorithm= 'auto', leaf_size = 60, n_neighbors= 29, \n",
    "                             p= 1, weights= 'uniform')"
   ]
  },
  {
   "cell_type": "code",
   "execution_count": 952,
   "metadata": {},
   "outputs": [],
   "source": [
    "VC = VotingClassifier(estimators=[('lr', clf1), ('rf', clf2), ('gb', clf3), ('xgb',clf4), \n",
    "                                  ('ab',clf5), ('mlp',clf6), ('knn',clf7)], voting='hard')"
   ]
  },
  {
   "cell_type": "code",
   "execution_count": 953,
   "metadata": {},
   "outputs": [
    {
     "data": {
      "text/plain": [
       "Index(['Severity', 'Birthday_year', 'Parents or siblings infected',\n",
       "       'Wife/Husband or children infected', 'Medical_Tent', 'City', 'gender',\n",
       "       'Expenses_per_capita'],\n",
       "      dtype='object')"
      ]
     },
     "execution_count": 953,
     "metadata": {},
     "output_type": "execute_result"
    }
   ],
   "source": [
    "X.columns"
   ]
  },
  {
   "cell_type": "code",
   "execution_count": 976,
   "metadata": {},
   "outputs": [],
   "source": [
    "to_drop=['City']"
   ]
  },
  {
   "cell_type": "code",
   "execution_count": 981,
   "metadata": {},
   "outputs": [],
   "source": [
    "X_train, X_val, y_train, y_val = train_test_split(X.drop(to_drop,axis=1), \n",
    "                                                    y, \n",
    "                                                    test_size=0.1, \n",
    "                                                   # random_state, \n",
    "                                                    shuffle=True, \n",
    "                                                    stratify=y\n",
    "                                                   )"
   ]
  },
  {
   "cell_type": "code",
   "execution_count": 985,
   "metadata": {},
   "outputs": [
    {
     "data": {
      "text/plain": [
       "VotingClassifier(estimators=[('lr',\n",
       "                              LogisticRegression(C=1.0, class_weight=None,\n",
       "                                                 dual=False,\n",
       "                                                 fit_intercept=False,\n",
       "                                                 intercept_scaling=1,\n",
       "                                                 l1_ratio=None, max_iter=100,\n",
       "                                                 multi_class='ovr', n_jobs=None,\n",
       "                                                 penalty='l1', random_state=1,\n",
       "                                                 solver='saga', tol=0.0001,\n",
       "                                                 verbose=0, warm_start=False)),\n",
       "                             ('rf',\n",
       "                              RandomForestClassifier(bootstrap=True,\n",
       "                                                     ccp_alpha=0.0,\n",
       "                                                     class_weight=None,\n",
       "                                                     criter...\n",
       "                                            nesterovs_momentum=True,\n",
       "                                            power_t=0.5, random_state=None,\n",
       "                                            shuffle=True, solver='lbfgs',\n",
       "                                            tol=0.0001, validation_fraction=0.1,\n",
       "                                            verbose=False, warm_start=False)),\n",
       "                             ('knn',\n",
       "                              KNeighborsClassifier(algorithm='auto',\n",
       "                                                   leaf_size=60,\n",
       "                                                   metric='minkowski',\n",
       "                                                   metric_params=None,\n",
       "                                                   n_jobs=None, n_neighbors=29,\n",
       "                                                   p=1, weights='uniform'))],\n",
       "                 flatten_transform=True, n_jobs=None, voting='hard',\n",
       "                 weights=None)"
      ]
     },
     "execution_count": 985,
     "metadata": {},
     "output_type": "execute_result"
    }
   ],
   "source": [
    "VC.fit(X_train,y_train)"
   ]
  },
  {
   "cell_type": "code",
   "execution_count": 986,
   "metadata": {},
   "outputs": [
    {
     "data": {
      "text/plain": [
       "0.8777777777777778"
      ]
     },
     "execution_count": 986,
     "metadata": {},
     "output_type": "execute_result"
    }
   ],
   "source": [
    "VC.score(X_train,y_train)"
   ]
  },
  {
   "cell_type": "code",
   "execution_count": 987,
   "metadata": {},
   "outputs": [
    {
     "data": {
      "text/plain": [
       "0.8555555555555555"
      ]
     },
     "execution_count": 987,
     "metadata": {},
     "output_type": "execute_result"
    }
   ],
   "source": [
    "VC.score(X_val,y_val)"
   ]
  },
  {
   "cell_type": "code",
   "execution_count": 959,
   "metadata": {},
   "outputs": [
    {
     "data": {
      "text/plain": [
       "array([0, 1])"
      ]
     },
     "execution_count": 959,
     "metadata": {},
     "output_type": "execute_result"
    }
   ],
   "source": [
    "VC.classes_"
   ]
  },
  {
   "cell_type": "code",
   "execution_count": null,
   "metadata": {},
   "outputs": [],
   "source": []
  },
  {
   "cell_type": "code",
   "execution_count": 960,
   "metadata": {},
   "outputs": [],
   "source": [
    "vc=VC.predict(X_final)"
   ]
  },
  {
   "cell_type": "code",
   "execution_count": null,
   "metadata": {},
   "outputs": [],
   "source": []
  },
  {
   "cell_type": "code",
   "execution_count": null,
   "metadata": {},
   "outputs": [],
   "source": []
  },
  {
   "cell_type": "code",
   "execution_count": 988,
   "metadata": {},
   "outputs": [],
   "source": [
    "to_drop=['City']"
   ]
  },
  {
   "cell_type": "code",
   "execution_count": 995,
   "metadata": {},
   "outputs": [
    {
     "data": {
      "text/plain": [
       "VotingClassifier(estimators=[('lr',\n",
       "                              LogisticRegression(C=1.0, class_weight=None,\n",
       "                                                 dual=False,\n",
       "                                                 fit_intercept=False,\n",
       "                                                 intercept_scaling=1,\n",
       "                                                 l1_ratio=None, max_iter=100,\n",
       "                                                 multi_class='ovr', n_jobs=None,\n",
       "                                                 penalty='l1', random_state=1,\n",
       "                                                 solver='saga', tol=0.0001,\n",
       "                                                 verbose=0, warm_start=False)),\n",
       "                             ('rf',\n",
       "                              RandomForestClassifier(bootstrap=True,\n",
       "                                                     ccp_alpha=0.0,\n",
       "                                                     class_weight=None,\n",
       "                                                     criter...\n",
       "                                            nesterovs_momentum=True,\n",
       "                                            power_t=0.5, random_state=None,\n",
       "                                            shuffle=True, solver='lbfgs',\n",
       "                                            tol=0.0001, validation_fraction=0.1,\n",
       "                                            verbose=False, warm_start=False)),\n",
       "                             ('knn',\n",
       "                              KNeighborsClassifier(algorithm='auto',\n",
       "                                                   leaf_size=60,\n",
       "                                                   metric='minkowski',\n",
       "                                                   metric_params=None,\n",
       "                                                   n_jobs=None, n_neighbors=29,\n",
       "                                                   p=1, weights='uniform'))],\n",
       "                 flatten_transform=True, n_jobs=None, voting='hard',\n",
       "                 weights=None)"
      ]
     },
     "execution_count": 995,
     "metadata": {},
     "output_type": "execute_result"
    }
   ],
   "source": [
    "VC.fit(X.drop(to_drop,axis=1),y)"
   ]
  },
  {
   "cell_type": "code",
   "execution_count": 996,
   "metadata": {},
   "outputs": [
    {
     "data": {
      "text/plain": [
       "0.8716049382716049"
      ]
     },
     "execution_count": 996,
     "metadata": {},
     "output_type": "execute_result"
    }
   ],
   "source": [
    "VC.score(X_train,y_train)"
   ]
  },
  {
   "cell_type": "code",
   "execution_count": 997,
   "metadata": {},
   "outputs": [],
   "source": [
    "vc=VC.predict(X_final.drop(to_drop,axis=1))"
   ]
  },
  {
   "cell_type": "code",
   "execution_count": 998,
   "metadata": {},
   "outputs": [],
   "source": [
    "vers = pd.DataFrame( vc,df_test.Patient_ID.values )\n",
    "vers.rename(columns={0: \"Deceased\"},inplace=True)\n",
    "vers.rename_axis(\"Patient_ID\",inplace=True)"
   ]
  },
  {
   "cell_type": "code",
   "execution_count": 999,
   "metadata": {},
   "outputs": [],
   "source": [
    "vers.to_csv('versions/Group6_version__alex.csv', index=True)"
   ]
  },
  {
   "cell_type": "code",
   "execution_count": null,
   "metadata": {},
   "outputs": [],
   "source": []
  },
  {
   "cell_type": "code",
   "execution_count": null,
   "metadata": {},
   "outputs": [],
   "source": []
  },
  {
   "cell_type": "code",
   "execution_count": 506,
   "metadata": {},
   "outputs": [],
   "source": [
    "version3 = pd.DataFrame( predknn,df_test.Patient_ID.values )\n",
    "version3.rename(columns={0: \"Deceased\"},inplace=True)\n",
    "version3.rename_axis(\"Patient_ID\",inplace=True)"
   ]
  },
  {
   "cell_type": "code",
   "execution_count": 513,
   "metadata": {},
   "outputs": [],
   "source": [
    "version3 = pd.DataFrame( prednn,df_test.Patient_ID.values )\n",
    "version3.rename(columns={0: \"Deceased\"},inplace=True)\n",
    "version3.rename_axis(\"Patient_ID\",inplace=True)"
   ]
  },
  {
   "cell_type": "code",
   "execution_count": 515,
   "metadata": {},
   "outputs": [],
   "source": [
    "version3 = pd.DataFrame( predab,df_test.Patient_ID.values )\n",
    "version3.rename(columns={0: \"Deceased\"},inplace=True)\n",
    "version3.rename_axis(\"Patient_ID\",inplace=True)"
   ]
  },
  {
   "cell_type": "code",
   "execution_count": 517,
   "metadata": {},
   "outputs": [],
   "source": [
    "version3 = pd.DataFrame( predbknn,df_test.Patient_ID.values )\n",
    "version3.rename(columns={0: \"Deceased\"},inplace=True)\n",
    "version3.rename_axis(\"Patient_ID\",inplace=True)"
   ]
  },
  {
   "cell_type": "code",
   "execution_count": 519,
   "metadata": {},
   "outputs": [],
   "source": [
    "version3 = pd.DataFrame( predbnn,df_test.Patient_ID.values )\n",
    "version3.rename(columns={0: \"Deceased\"},inplace=True)\n",
    "version3.rename_axis(\"Patient_ID\",inplace=True)"
   ]
  },
  {
   "cell_type": "code",
   "execution_count": 507,
   "metadata": {},
   "outputs": [
    {
     "data": {
      "text/html": [
       "<div>\n",
       "<style scoped>\n",
       "    .dataframe tbody tr th:only-of-type {\n",
       "        vertical-align: middle;\n",
       "    }\n",
       "\n",
       "    .dataframe tbody tr th {\n",
       "        vertical-align: top;\n",
       "    }\n",
       "\n",
       "    .dataframe thead th {\n",
       "        text-align: right;\n",
       "    }\n",
       "</style>\n",
       "<table border=\"1\" class=\"dataframe\">\n",
       "  <thead>\n",
       "    <tr style=\"text-align: right;\">\n",
       "      <th></th>\n",
       "      <th>Deceased</th>\n",
       "    </tr>\n",
       "    <tr>\n",
       "      <th>Patient_ID</th>\n",
       "      <th></th>\n",
       "    </tr>\n",
       "  </thead>\n",
       "  <tbody>\n",
       "    <tr>\n",
       "      <th>901</th>\n",
       "      <td>1</td>\n",
       "    </tr>\n",
       "    <tr>\n",
       "      <th>902</th>\n",
       "      <td>1</td>\n",
       "    </tr>\n",
       "    <tr>\n",
       "      <th>903</th>\n",
       "      <td>1</td>\n",
       "    </tr>\n",
       "    <tr>\n",
       "      <th>904</th>\n",
       "      <td>1</td>\n",
       "    </tr>\n",
       "    <tr>\n",
       "      <th>905</th>\n",
       "      <td>1</td>\n",
       "    </tr>\n",
       "    <tr>\n",
       "      <th>...</th>\n",
       "      <td>...</td>\n",
       "    </tr>\n",
       "    <tr>\n",
       "      <th>1296</th>\n",
       "      <td>1</td>\n",
       "    </tr>\n",
       "    <tr>\n",
       "      <th>1297</th>\n",
       "      <td>1</td>\n",
       "    </tr>\n",
       "    <tr>\n",
       "      <th>1298</th>\n",
       "      <td>0</td>\n",
       "    </tr>\n",
       "    <tr>\n",
       "      <th>1299</th>\n",
       "      <td>1</td>\n",
       "    </tr>\n",
       "    <tr>\n",
       "      <th>1300</th>\n",
       "      <td>0</td>\n",
       "    </tr>\n",
       "  </tbody>\n",
       "</table>\n",
       "<p>400 rows × 1 columns</p>\n",
       "</div>"
      ],
      "text/plain": [
       "            Deceased\n",
       "Patient_ID          \n",
       "901                1\n",
       "902                1\n",
       "903                1\n",
       "904                1\n",
       "905                1\n",
       "...              ...\n",
       "1296               1\n",
       "1297               1\n",
       "1298               0\n",
       "1299               1\n",
       "1300               0\n",
       "\n",
       "[400 rows x 1 columns]"
      ]
     },
     "execution_count": 507,
     "metadata": {},
     "output_type": "execute_result"
    }
   ],
   "source": [
    "version3"
   ]
  },
  {
   "cell_type": "code",
   "execution_count": 520,
   "metadata": {},
   "outputs": [],
   "source": [
    "version3.to_csv('versions/Group6_version__alex.csv', index=True)"
   ]
  },
  {
   "cell_type": "code",
   "execution_count": null,
   "metadata": {},
   "outputs": [],
   "source": []
  }
 ],
 "metadata": {
  "kernelspec": {
   "display_name": "Python 3",
   "language": "python",
   "name": "python3"
  },
  "language_info": {
   "codemirror_mode": {
    "name": "ipython",
    "version": 3
   },
   "file_extension": ".py",
   "mimetype": "text/x-python",
   "name": "python",
   "nbconvert_exporter": "python",
   "pygments_lexer": "ipython3",
   "version": "3.7.5"
  }
 },
 "nbformat": 4,
 "nbformat_minor": 2
}
