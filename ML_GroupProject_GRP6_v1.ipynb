{
 "cells": [
  {
   "cell_type": "markdown",
   "metadata": {},
   "source": [
    "# The Boolean pandemic"
   ]
  },
  {
   "cell_type": "markdown",
   "metadata": {},
   "source": [
    "__Master Program DSAA    \n",
    "Machine Learning 2020 - Group Project__\n",
    "\n",
    "Group:\n"
   ]
  },
  {
   "cell_type": "markdown",
   "metadata": {},
   "source": [
    "__Project Description__  \n",
    "\n",
    "On January 1st, 2020, an epidemy was originated in Albuquerque, in New Mexico state, and spread on the following days to Santa Fe and Taos. It is estimated that the epidemy has already affected more than 1000 people at the end of February, with a mortality rate of more than 50%.  \n",
    "While the conditions of the transmission of the virus is still unknown and there are no certainties of what leads a patient to survive or not to the virus, it seems there are some groups of people more prone to survive than others.\n",
    "In this challenge, your goal is to build a predictive model that answers the question “What are the people more likely to survive to the boolean pandemic?” using the small quantity of data accessible of the patients – name, birthday date, severity of the disease, money of expenses associated to the treatment of each family, city and others.\n",
    "As data scientists, your team is asked to analyze and transform as needed the data available and apply different models in order to answer in the more accurate way the defined question. Are you able to design a model that can predict if a patient will survive, or not, to the boolean pandemic?"
   ]
  },
  {
   "cell_type": "markdown",
   "metadata": {},
   "source": [
    "__`Data fields`__\n",
    "\n",
    "- **Patient_ID** - The unique identifier of the patient  \n",
    "- **Family_Case_ID** - The family identification  \n",
    "- **Severity** - The severity of the disease, where 1 is the lowest and 3 the highest severity  \n",
    "- **Name** - The name of the patient  \n",
    "- **Birthday_year** - The year of birthday of the patient  \n",
    "- **Parents_Siblings_Infected** - The number of parents and/or siblings infected  \n",
    "- **Partner_Children_Infected** - The number of partner and/or children infected  \n",
    "- **Medical_Expenses_Family** - The medical expenses associated to try to contain the epidemy on the family  \n",
    "- **Medical_Tent** - The medical tent where the patient is / was lodged  \n",
    "- **City** - The original city of the patient  \n",
    "  \n",
    "\n",
    "__`Target`__\n",
    "- **Deceased** - Flag if the patient deceased or not with the virus (0 = No, 1 = Yes)  "
   ]
  },
  {
   "cell_type": "markdown",
   "metadata": {},
   "source": [
    "## 1. Import libraries"
   ]
  },
  {
   "cell_type": "code",
   "execution_count": 8,
   "metadata": {},
   "outputs": [],
   "source": [
    "import warnings\n",
    "warnings.filterwarnings('ignore')\n",
    "import pandas as pd\n",
    "import numpy as np\n",
    "import matplotlib.pyplot as plt\n",
    "import seaborn as sns\n",
    "sns.set(style=\"white\", color_codes=True)\n",
    "import re\n",
    "from collections import Counter\n",
    "\n",
    "from sklearn.model_selection import GridSearchCV, RandomizedSearchCV, train_test_split, cross_val_score, KFold\n",
    "from sklearn.feature_selection import RFECV, SelectKBest, chi2, f_classif\n",
    "from sklearn.neural_network import MLPClassifier\n",
    "from sklearn.metrics import confusion_matrix, classification_report, accuracy_score, f1_score\n",
    "from sklearn.ensemble import RandomForestClassifier, AdaBoostClassifier, VotingClassifier, BaggingClassifier, GradientBoostingClassifier\n",
    "from sklearn.preprocessing import MinMaxScaler, StandardScaler, RobustScaler, PowerTransformer, LabelEncoder\n",
    "from sklearn.linear_model import LogisticRegression\n",
    "from sklearn.pipeline import Pipeline, FeatureUnion\n",
    "from sklearn.neighbors import KNeighborsClassifier\n",
    "from sklearn.impute import SimpleImputer, MissingIndicator\n",
    "#from sklearn.impute import KNNImputer,\n",
    "from sklearn.naive_bayes import GaussianNB\n",
    "from sklearn.discriminant_analysis import LinearDiscriminantAnalysis\n",
    "from sklearn.linear_model import LassoCV\n",
    "from sklearn.linear_model import RidgeCV\n",
    "from sklearn.tree import DecisionTreeClassifier\n",
    "from sklearn.ensemble import ExtraTreesClassifier\n",
    "from sklearn.feature_selection import SelectFromModel\n",
    "\n",
    "from tqdm import tqdm\n",
    "\n",
    "#from imblearn.over_sampling import SMOTE, RandomOverSampler\n",
    "#from imblearn.under_sampling import RandomUnderSampler\n",
    "#from imblearn.pipeline import Pipeline\n",
    "\n",
    "from xgboost import XGBClassifier\n",
    "\n",
    "#from pandas_profiling import ProfileReport\n",
    "import category_encoders as ce"
   ]
  },
  {
   "cell_type": "markdown",
   "metadata": {},
   "source": [
    "## 2. Import data"
   ]
  },
  {
   "cell_type": "code",
   "execution_count": 9,
   "metadata": {},
   "outputs": [],
   "source": [
    "#read train data from csv file\n",
    "df_train = pd.read_csv(r'train.csv')"
   ]
  },
  {
   "cell_type": "code",
   "execution_count": 10,
   "metadata": {},
   "outputs": [
    {
     "data": {
      "text/html": [
       "<div>\n",
       "<style scoped>\n",
       "    .dataframe tbody tr th:only-of-type {\n",
       "        vertical-align: middle;\n",
       "    }\n",
       "\n",
       "    .dataframe tbody tr th {\n",
       "        vertical-align: top;\n",
       "    }\n",
       "\n",
       "    .dataframe thead th {\n",
       "        text-align: right;\n",
       "    }\n",
       "</style>\n",
       "<table border=\"1\" class=\"dataframe\">\n",
       "  <thead>\n",
       "    <tr style=\"text-align: right;\">\n",
       "      <th></th>\n",
       "      <th>0</th>\n",
       "      <th>1</th>\n",
       "      <th>2</th>\n",
       "      <th>3</th>\n",
       "      <th>4</th>\n",
       "    </tr>\n",
       "  </thead>\n",
       "  <tbody>\n",
       "    <tr>\n",
       "      <th>Patient_ID</th>\n",
       "      <td>1</td>\n",
       "      <td>2</td>\n",
       "      <td>3</td>\n",
       "      <td>4</td>\n",
       "      <td>5</td>\n",
       "    </tr>\n",
       "    <tr>\n",
       "      <th>Family_Case_ID</th>\n",
       "      <td>4696</td>\n",
       "      <td>21436</td>\n",
       "      <td>7273</td>\n",
       "      <td>8226</td>\n",
       "      <td>19689</td>\n",
       "    </tr>\n",
       "    <tr>\n",
       "      <th>Severity</th>\n",
       "      <td>3</td>\n",
       "      <td>1</td>\n",
       "      <td>3</td>\n",
       "      <td>3</td>\n",
       "      <td>3</td>\n",
       "    </tr>\n",
       "    <tr>\n",
       "      <th>Name</th>\n",
       "      <td>Miss Linda Betty</td>\n",
       "      <td>Ms. Ramona Elvira</td>\n",
       "      <td>Mr. Mario Vernon</td>\n",
       "      <td>Mr. Hector Joe</td>\n",
       "      <td>Ms. Jennie Debra</td>\n",
       "    </tr>\n",
       "    <tr>\n",
       "      <th>Birthday_year</th>\n",
       "      <td>NaN</td>\n",
       "      <td>1966</td>\n",
       "      <td>1982</td>\n",
       "      <td>1997</td>\n",
       "      <td>1994</td>\n",
       "    </tr>\n",
       "    <tr>\n",
       "      <th>Parents or siblings infected</th>\n",
       "      <td>0</td>\n",
       "      <td>0</td>\n",
       "      <td>0</td>\n",
       "      <td>0</td>\n",
       "      <td>0</td>\n",
       "    </tr>\n",
       "    <tr>\n",
       "      <th>Wife/Husband or children infected</th>\n",
       "      <td>0</td>\n",
       "      <td>1</td>\n",
       "      <td>0</td>\n",
       "      <td>0</td>\n",
       "      <td>0</td>\n",
       "    </tr>\n",
       "    <tr>\n",
       "      <th>Medical_Expenses_Family</th>\n",
       "      <td>225</td>\n",
       "      <td>1663</td>\n",
       "      <td>221</td>\n",
       "      <td>220</td>\n",
       "      <td>222</td>\n",
       "    </tr>\n",
       "    <tr>\n",
       "      <th>Medical_Tent</th>\n",
       "      <td>NaN</td>\n",
       "      <td>NaN</td>\n",
       "      <td>NaN</td>\n",
       "      <td>NaN</td>\n",
       "      <td>NaN</td>\n",
       "    </tr>\n",
       "    <tr>\n",
       "      <th>City</th>\n",
       "      <td>Santa Fe</td>\n",
       "      <td>Albuquerque</td>\n",
       "      <td>Santa Fe</td>\n",
       "      <td>Santa Fe</td>\n",
       "      <td>Santa Fe</td>\n",
       "    </tr>\n",
       "    <tr>\n",
       "      <th>Deceased</th>\n",
       "      <td>1</td>\n",
       "      <td>0</td>\n",
       "      <td>1</td>\n",
       "      <td>1</td>\n",
       "      <td>0</td>\n",
       "    </tr>\n",
       "  </tbody>\n",
       "</table>\n",
       "</div>"
      ],
      "text/plain": [
       "                                                  0                  1  \\\n",
       "Patient_ID                                        1                  2   \n",
       "Family_Case_ID                                 4696              21436   \n",
       "Severity                                          3                  1   \n",
       "Name                               Miss Linda Betty  Ms. Ramona Elvira   \n",
       "Birthday_year                                   NaN               1966   \n",
       "Parents or siblings infected                      0                  0   \n",
       "Wife/Husband or children infected                 0                  1   \n",
       "Medical_Expenses_Family                         225               1663   \n",
       "Medical_Tent                                    NaN                NaN   \n",
       "City                                       Santa Fe        Albuquerque   \n",
       "Deceased                                          1                  0   \n",
       "\n",
       "                                                  2               3  \\\n",
       "Patient_ID                                        3               4   \n",
       "Family_Case_ID                                 7273            8226   \n",
       "Severity                                          3               3   \n",
       "Name                               Mr. Mario Vernon  Mr. Hector Joe   \n",
       "Birthday_year                                  1982            1997   \n",
       "Parents or siblings infected                      0               0   \n",
       "Wife/Husband or children infected                 0               0   \n",
       "Medical_Expenses_Family                         221             220   \n",
       "Medical_Tent                                    NaN             NaN   \n",
       "City                                       Santa Fe        Santa Fe   \n",
       "Deceased                                          1               1   \n",
       "\n",
       "                                                  4  \n",
       "Patient_ID                                        5  \n",
       "Family_Case_ID                                19689  \n",
       "Severity                                          3  \n",
       "Name                               Ms. Jennie Debra  \n",
       "Birthday_year                                  1994  \n",
       "Parents or siblings infected                      0  \n",
       "Wife/Husband or children infected                 0  \n",
       "Medical_Expenses_Family                         222  \n",
       "Medical_Tent                                    NaN  \n",
       "City                                       Santa Fe  \n",
       "Deceased                                          0  "
      ]
     },
     "execution_count": 10,
     "metadata": {},
     "output_type": "execute_result"
    }
   ],
   "source": [
    "#let's have a look at first 5 records\n",
    "df_train.head().transpose()"
   ]
  },
  {
   "cell_type": "code",
   "execution_count": 11,
   "metadata": {},
   "outputs": [],
   "source": [
    "#read test data from csv file\n",
    "df_test = pd.read_csv(r'test.csv')"
   ]
  },
  {
   "cell_type": "code",
   "execution_count": 12,
   "metadata": {},
   "outputs": [
    {
     "data": {
      "text/html": [
       "<div>\n",
       "<style scoped>\n",
       "    .dataframe tbody tr th:only-of-type {\n",
       "        vertical-align: middle;\n",
       "    }\n",
       "\n",
       "    .dataframe tbody tr th {\n",
       "        vertical-align: top;\n",
       "    }\n",
       "\n",
       "    .dataframe thead th {\n",
       "        text-align: right;\n",
       "    }\n",
       "</style>\n",
       "<table border=\"1\" class=\"dataframe\">\n",
       "  <thead>\n",
       "    <tr style=\"text-align: right;\">\n",
       "      <th></th>\n",
       "      <th>0</th>\n",
       "      <th>1</th>\n",
       "      <th>2</th>\n",
       "      <th>3</th>\n",
       "      <th>4</th>\n",
       "    </tr>\n",
       "  </thead>\n",
       "  <tbody>\n",
       "    <tr>\n",
       "      <th>Patient_ID</th>\n",
       "      <td>901</td>\n",
       "      <td>902</td>\n",
       "      <td>903</td>\n",
       "      <td>904</td>\n",
       "      <td>905</td>\n",
       "    </tr>\n",
       "    <tr>\n",
       "      <th>Family_Case_ID</th>\n",
       "      <td>49242</td>\n",
       "      <td>10400</td>\n",
       "      <td>10795</td>\n",
       "      <td>62440</td>\n",
       "      <td>81311</td>\n",
       "    </tr>\n",
       "    <tr>\n",
       "      <th>Severity</th>\n",
       "      <td>3</td>\n",
       "      <td>3</td>\n",
       "      <td>3</td>\n",
       "      <td>3</td>\n",
       "      <td>2</td>\n",
       "    </tr>\n",
       "    <tr>\n",
       "      <th>Name</th>\n",
       "      <td>Mr. Jody Pedro</td>\n",
       "      <td>Mr. Kevin Brent</td>\n",
       "      <td>Mr. Frankie Cary</td>\n",
       "      <td>Mr. Rick Pete</td>\n",
       "      <td>Mr. Matthew Erick</td>\n",
       "    </tr>\n",
       "    <tr>\n",
       "      <th>Birthday_year</th>\n",
       "      <td>NaN</td>\n",
       "      <td>1988</td>\n",
       "      <td>1981</td>\n",
       "      <td>NaN</td>\n",
       "      <td>1996</td>\n",
       "    </tr>\n",
       "    <tr>\n",
       "      <th>Parents or siblings infected</th>\n",
       "      <td>0</td>\n",
       "      <td>0</td>\n",
       "      <td>1</td>\n",
       "      <td>0</td>\n",
       "      <td>0</td>\n",
       "    </tr>\n",
       "    <tr>\n",
       "      <th>Wife/Husband or children infected</th>\n",
       "      <td>0</td>\n",
       "      <td>0</td>\n",
       "      <td>0</td>\n",
       "      <td>1</td>\n",
       "      <td>0</td>\n",
       "    </tr>\n",
       "    <tr>\n",
       "      <th>Medical_Expenses_Family</th>\n",
       "      <td>203</td>\n",
       "      <td>631</td>\n",
       "      <td>376</td>\n",
       "      <td>405</td>\n",
       "      <td>378</td>\n",
       "    </tr>\n",
       "    <tr>\n",
       "      <th>Medical_Tent</th>\n",
       "      <td>NaN</td>\n",
       "      <td>NaN</td>\n",
       "      <td>NaN</td>\n",
       "      <td>NaN</td>\n",
       "      <td>NaN</td>\n",
       "    </tr>\n",
       "    <tr>\n",
       "      <th>City</th>\n",
       "      <td>Santa Fe</td>\n",
       "      <td>Santa Fe</td>\n",
       "      <td>Albuquerque</td>\n",
       "      <td>Albuquerque</td>\n",
       "      <td>Santa Fe</td>\n",
       "    </tr>\n",
       "  </tbody>\n",
       "</table>\n",
       "</div>"
      ],
      "text/plain": [
       "                                                0                1  \\\n",
       "Patient_ID                                    901              902   \n",
       "Family_Case_ID                              49242            10400   \n",
       "Severity                                        3                3   \n",
       "Name                               Mr. Jody Pedro  Mr. Kevin Brent   \n",
       "Birthday_year                                 NaN             1988   \n",
       "Parents or siblings infected                    0                0   \n",
       "Wife/Husband or children infected               0                0   \n",
       "Medical_Expenses_Family                       203              631   \n",
       "Medical_Tent                                  NaN              NaN   \n",
       "City                                     Santa Fe         Santa Fe   \n",
       "\n",
       "                                                  2              3  \\\n",
       "Patient_ID                                      903            904   \n",
       "Family_Case_ID                                10795          62440   \n",
       "Severity                                          3              3   \n",
       "Name                               Mr. Frankie Cary  Mr. Rick Pete   \n",
       "Birthday_year                                  1981            NaN   \n",
       "Parents or siblings infected                      1              0   \n",
       "Wife/Husband or children infected                 0              1   \n",
       "Medical_Expenses_Family                         376            405   \n",
       "Medical_Tent                                    NaN            NaN   \n",
       "City                                    Albuquerque    Albuquerque   \n",
       "\n",
       "                                                   4  \n",
       "Patient_ID                                       905  \n",
       "Family_Case_ID                                 81311  \n",
       "Severity                                           2  \n",
       "Name                               Mr. Matthew Erick  \n",
       "Birthday_year                                   1996  \n",
       "Parents or siblings infected                       0  \n",
       "Wife/Husband or children infected                  0  \n",
       "Medical_Expenses_Family                          378  \n",
       "Medical_Tent                                     NaN  \n",
       "City                                        Santa Fe  "
      ]
     },
     "execution_count": 12,
     "metadata": {},
     "output_type": "execute_result"
    }
   ],
   "source": [
    "#let's have a look at first 5 records\n",
    "df_test.head().transpose()"
   ]
  },
  {
   "cell_type": "markdown",
   "metadata": {},
   "source": [
    "## 3. Data pre-processing"
   ]
  },
  {
   "cell_type": "markdown",
   "metadata": {},
   "source": [
    "### 3.1. Data Analysis"
   ]
  },
  {
   "cell_type": "code",
   "execution_count": 13,
   "metadata": {},
   "outputs": [],
   "source": [
    "# Summary statistics for all variables \n",
    "def summary(dataframe):\n",
    "    summary=dataframe.describe(include='all') \n",
    "    summary=summary.transpose()\n",
    "    return summary.head(len(summary))"
   ]
  },
  {
   "cell_type": "code",
   "execution_count": 14,
   "metadata": {},
   "outputs": [
    {
     "data": {
      "text/html": [
       "<div>\n",
       "<style scoped>\n",
       "    .dataframe tbody tr th:only-of-type {\n",
       "        vertical-align: middle;\n",
       "    }\n",
       "\n",
       "    .dataframe tbody tr th {\n",
       "        vertical-align: top;\n",
       "    }\n",
       "\n",
       "    .dataframe thead th {\n",
       "        text-align: right;\n",
       "    }\n",
       "</style>\n",
       "<table border=\"1\" class=\"dataframe\">\n",
       "  <thead>\n",
       "    <tr style=\"text-align: right;\">\n",
       "      <th></th>\n",
       "      <th>count</th>\n",
       "      <th>unique</th>\n",
       "      <th>top</th>\n",
       "      <th>freq</th>\n",
       "      <th>mean</th>\n",
       "      <th>std</th>\n",
       "      <th>min</th>\n",
       "      <th>25%</th>\n",
       "      <th>50%</th>\n",
       "      <th>75%</th>\n",
       "      <th>max</th>\n",
       "    </tr>\n",
       "  </thead>\n",
       "  <tbody>\n",
       "    <tr>\n",
       "      <th>Patient_ID</th>\n",
       "      <td>900</td>\n",
       "      <td>NaN</td>\n",
       "      <td>NaN</td>\n",
       "      <td>NaN</td>\n",
       "      <td>450.5</td>\n",
       "      <td>259.952</td>\n",
       "      <td>1</td>\n",
       "      <td>225.75</td>\n",
       "      <td>450.5</td>\n",
       "      <td>675.25</td>\n",
       "      <td>900</td>\n",
       "    </tr>\n",
       "    <tr>\n",
       "      <th>Family_Case_ID</th>\n",
       "      <td>900</td>\n",
       "      <td>NaN</td>\n",
       "      <td>NaN</td>\n",
       "      <td>NaN</td>\n",
       "      <td>14305.8</td>\n",
       "      <td>25418.2</td>\n",
       "      <td>345</td>\n",
       "      <td>8203</td>\n",
       "      <td>13593.5</td>\n",
       "      <td>18906.5</td>\n",
       "      <td>742836</td>\n",
       "    </tr>\n",
       "    <tr>\n",
       "      <th>Severity</th>\n",
       "      <td>900</td>\n",
       "      <td>NaN</td>\n",
       "      <td>NaN</td>\n",
       "      <td>NaN</td>\n",
       "      <td>2.31333</td>\n",
       "      <td>0.834223</td>\n",
       "      <td>1</td>\n",
       "      <td>2</td>\n",
       "      <td>3</td>\n",
       "      <td>3</td>\n",
       "      <td>3</td>\n",
       "    </tr>\n",
       "    <tr>\n",
       "      <th>Name</th>\n",
       "      <td>900</td>\n",
       "      <td>899</td>\n",
       "      <td>Mr. Samuel Darnell</td>\n",
       "      <td>2</td>\n",
       "      <td>NaN</td>\n",
       "      <td>NaN</td>\n",
       "      <td>NaN</td>\n",
       "      <td>NaN</td>\n",
       "      <td>NaN</td>\n",
       "      <td>NaN</td>\n",
       "      <td>NaN</td>\n",
       "    </tr>\n",
       "    <tr>\n",
       "      <th>Birthday_year</th>\n",
       "      <td>723</td>\n",
       "      <td>NaN</td>\n",
       "      <td>NaN</td>\n",
       "      <td>NaN</td>\n",
       "      <td>1990.27</td>\n",
       "      <td>14.5233</td>\n",
       "      <td>1940</td>\n",
       "      <td>1982</td>\n",
       "      <td>1992</td>\n",
       "      <td>1999.5</td>\n",
       "      <td>2019</td>\n",
       "    </tr>\n",
       "    <tr>\n",
       "      <th>Parents or siblings infected</th>\n",
       "      <td>900</td>\n",
       "      <td>NaN</td>\n",
       "      <td>NaN</td>\n",
       "      <td>NaN</td>\n",
       "      <td>0.38</td>\n",
       "      <td>0.803247</td>\n",
       "      <td>0</td>\n",
       "      <td>0</td>\n",
       "      <td>0</td>\n",
       "      <td>0</td>\n",
       "      <td>6</td>\n",
       "    </tr>\n",
       "    <tr>\n",
       "      <th>Wife/Husband or children infected</th>\n",
       "      <td>900</td>\n",
       "      <td>NaN</td>\n",
       "      <td>NaN</td>\n",
       "      <td>NaN</td>\n",
       "      <td>0.521111</td>\n",
       "      <td>1.09839</td>\n",
       "      <td>0</td>\n",
       "      <td>0</td>\n",
       "      <td>0</td>\n",
       "      <td>1</td>\n",
       "      <td>8</td>\n",
       "    </tr>\n",
       "    <tr>\n",
       "      <th>Medical_Expenses_Family</th>\n",
       "      <td>900</td>\n",
       "      <td>NaN</td>\n",
       "      <td>NaN</td>\n",
       "      <td>NaN</td>\n",
       "      <td>895.743</td>\n",
       "      <td>1385.83</td>\n",
       "      <td>0</td>\n",
       "      <td>221</td>\n",
       "      <td>405</td>\n",
       "      <td>861.25</td>\n",
       "      <td>14345</td>\n",
       "    </tr>\n",
       "    <tr>\n",
       "      <th>Medical_Tent</th>\n",
       "      <td>198</td>\n",
       "      <td>8</td>\n",
       "      <td>C</td>\n",
       "      <td>57</td>\n",
       "      <td>NaN</td>\n",
       "      <td>NaN</td>\n",
       "      <td>NaN</td>\n",
       "      <td>NaN</td>\n",
       "      <td>NaN</td>\n",
       "      <td>NaN</td>\n",
       "      <td>NaN</td>\n",
       "    </tr>\n",
       "    <tr>\n",
       "      <th>City</th>\n",
       "      <td>898</td>\n",
       "      <td>3</td>\n",
       "      <td>Santa Fe</td>\n",
       "      <td>649</td>\n",
       "      <td>NaN</td>\n",
       "      <td>NaN</td>\n",
       "      <td>NaN</td>\n",
       "      <td>NaN</td>\n",
       "      <td>NaN</td>\n",
       "      <td>NaN</td>\n",
       "      <td>NaN</td>\n",
       "    </tr>\n",
       "    <tr>\n",
       "      <th>Deceased</th>\n",
       "      <td>900</td>\n",
       "      <td>NaN</td>\n",
       "      <td>NaN</td>\n",
       "      <td>NaN</td>\n",
       "      <td>0.614444</td>\n",
       "      <td>0.486997</td>\n",
       "      <td>0</td>\n",
       "      <td>0</td>\n",
       "      <td>1</td>\n",
       "      <td>1</td>\n",
       "      <td>1</td>\n",
       "    </tr>\n",
       "  </tbody>\n",
       "</table>\n",
       "</div>"
      ],
      "text/plain": [
       "                                  count unique                 top freq  \\\n",
       "Patient_ID                          900    NaN                 NaN  NaN   \n",
       "Family_Case_ID                      900    NaN                 NaN  NaN   \n",
       "Severity                            900    NaN                 NaN  NaN   \n",
       "Name                                900    899  Mr. Samuel Darnell    2   \n",
       "Birthday_year                       723    NaN                 NaN  NaN   \n",
       "Parents or siblings infected        900    NaN                 NaN  NaN   \n",
       "Wife/Husband or children infected   900    NaN                 NaN  NaN   \n",
       "Medical_Expenses_Family             900    NaN                 NaN  NaN   \n",
       "Medical_Tent                        198      8                   C   57   \n",
       "City                                898      3            Santa Fe  649   \n",
       "Deceased                            900    NaN                 NaN  NaN   \n",
       "\n",
       "                                       mean       std   min     25%      50%  \\\n",
       "Patient_ID                            450.5   259.952     1  225.75    450.5   \n",
       "Family_Case_ID                      14305.8   25418.2   345    8203  13593.5   \n",
       "Severity                            2.31333  0.834223     1       2        3   \n",
       "Name                                    NaN       NaN   NaN     NaN      NaN   \n",
       "Birthday_year                       1990.27   14.5233  1940    1982     1992   \n",
       "Parents or siblings infected           0.38  0.803247     0       0        0   \n",
       "Wife/Husband or children infected  0.521111   1.09839     0       0        0   \n",
       "Medical_Expenses_Family             895.743   1385.83     0     221      405   \n",
       "Medical_Tent                            NaN       NaN   NaN     NaN      NaN   \n",
       "City                                    NaN       NaN   NaN     NaN      NaN   \n",
       "Deceased                           0.614444  0.486997     0       0        1   \n",
       "\n",
       "                                       75%     max  \n",
       "Patient_ID                          675.25     900  \n",
       "Family_Case_ID                     18906.5  742836  \n",
       "Severity                                 3       3  \n",
       "Name                                   NaN     NaN  \n",
       "Birthday_year                       1999.5    2019  \n",
       "Parents or siblings infected             0       6  \n",
       "Wife/Husband or children infected        1       8  \n",
       "Medical_Expenses_Family             861.25   14345  \n",
       "Medical_Tent                           NaN     NaN  \n",
       "City                                   NaN     NaN  \n",
       "Deceased                                 1       1  "
      ]
     },
     "execution_count": 14,
     "metadata": {},
     "output_type": "execute_result"
    }
   ],
   "source": [
    "summary(df_train)"
   ]
  },
  {
   "cell_type": "code",
   "execution_count": 15,
   "metadata": {},
   "outputs": [
    {
     "name": "stdout",
     "output_type": "stream",
     "text": [
      "<class 'pandas.core.frame.DataFrame'>\n",
      "RangeIndex: 400 entries, 0 to 399\n",
      "Data columns (total 10 columns):\n",
      "Patient_ID                           400 non-null int64\n",
      "Family_Case_ID                       400 non-null int64\n",
      "Severity                             400 non-null int64\n",
      "Name                                 400 non-null object\n",
      "Birthday_year                        318 non-null float64\n",
      "Parents or siblings infected         400 non-null int64\n",
      "Wife/Husband or children infected    400 non-null int64\n",
      "Medical_Expenses_Family              400 non-null int64\n",
      "Medical_Tent                         89 non-null object\n",
      "City                                 400 non-null object\n",
      "dtypes: float64(1), int64(6), object(3)\n",
      "memory usage: 31.3+ KB\n"
     ]
    }
   ],
   "source": [
    "df_test.info()"
   ]
  },
  {
   "cell_type": "code",
   "execution_count": 16,
   "metadata": {},
   "outputs": [
    {
     "data": {
      "text/plain": [
       "Patient_ID                             0\n",
       "Family_Case_ID                         0\n",
       "Severity                               0\n",
       "Name                                   0\n",
       "Birthday_year                        177\n",
       "Parents or siblings infected           0\n",
       "Wife/Husband or children infected      0\n",
       "Medical_Expenses_Family                0\n",
       "Medical_Tent                         702\n",
       "City                                   2\n",
       "Deceased                               0\n",
       "dtype: int64"
      ]
     },
     "execution_count": 16,
     "metadata": {},
     "output_type": "execute_result"
    }
   ],
   "source": [
    "#variables with null vallues\n",
    "df_train.isna().sum()"
   ]
  },
  {
   "cell_type": "code",
   "execution_count": 74,
   "metadata": {},
   "outputs": [
    {
     "data": {
      "text/plain": [
       "Patient_ID                             0\n",
       "Family_Case_ID                         0\n",
       "Severity                               0\n",
       "Name                                   0\n",
       "Birthday_year                         82\n",
       "Parents or siblings infected           0\n",
       "Wife/Husband or children infected      0\n",
       "Medical_Expenses_Family                0\n",
       "Medical_Tent                         311\n",
       "City                                   0\n",
       "dtype: int64"
      ]
     },
     "execution_count": 74,
     "metadata": {},
     "output_type": "execute_result"
    }
   ],
   "source": [
    "#variables with null vallues\n",
    "df_test.isna().sum()"
   ]
  },
  {
   "cell_type": "markdown",
   "metadata": {},
   "source": [
    "#### Comments:\n",
    "- We have 900 records in train dataset and 400 records on test dataset.  \n",
    "- Both datasets have the same information, with the exception of target value that is missing on test dataset.  \n",
    "- There some null values:\n",
    "    - Train: Birthday_year, Medical_tent and City\n",
    "    - Test: Birthday_year and Medical_tent"
   ]
  },
  {
   "cell_type": "code",
   "execution_count": 11,
   "metadata": {},
   "outputs": [
    {
     "data": {
      "application/vnd.jupyter.widget-view+json": {
       "model_id": "d9e55a24c2b14da387c6efc84a169af0",
       "version_major": 2,
       "version_minor": 0
      },
      "text/plain": [
       "HBox(children=(FloatProgress(value=0.0, description='Summarize dataset', max=25.0, style=ProgressStyle(descrip…"
      ]
     },
     "metadata": {},
     "output_type": "display_data"
    },
    {
     "name": "stdout",
     "output_type": "stream",
     "text": [
      "\n"
     ]
    },
    {
     "data": {
      "application/vnd.jupyter.widget-view+json": {
       "model_id": "fca215b59a484ae7bc07f37fe8d44b09",
       "version_major": 2,
       "version_minor": 0
      },
      "text/plain": [
       "HBox(children=(FloatProgress(value=0.0, description='Generate report structure', max=1.0, style=ProgressStyle(…"
      ]
     },
     "metadata": {},
     "output_type": "display_data"
    },
    {
     "name": "stdout",
     "output_type": "stream",
     "text": [
      "\n"
     ]
    },
    {
     "data": {
      "application/vnd.jupyter.widget-view+json": {
       "model_id": "",
       "version_major": 2,
       "version_minor": 0
      },
      "text/plain": [
       "HBox(children=(FloatProgress(value=0.0, description='Render widgets', max=1.0, style=ProgressStyle(description…"
      ]
     },
     "metadata": {},
     "output_type": "display_data"
    },
    {
     "name": "stdout",
     "output_type": "stream",
     "text": [
      "\r"
     ]
    },
    {
     "data": {
      "application/vnd.jupyter.widget-view+json": {
       "model_id": "c4d1303e199a4c88bef871db8dada475",
       "version_major": 2,
       "version_minor": 0
      },
      "text/plain": [
       "VBox(children=(Tab(children=(Tab(children=(GridBox(children=(VBox(children=(GridspecLayout(children=(HTML(valu…"
      ]
     },
     "metadata": {},
     "output_type": "display_data"
    }
   ],
   "source": [
    "# pandas profiling is a cool feature for exploratory data analysis. More information here: https://github.com/pandas-profiling/pandas-profiling\n",
    "\n",
    "profile = ProfileReport(df_train, title='Pandas Profiling Report', html={'style':{'full_width':True}})\n",
    "profile.to_widgets()"
   ]
  },
  {
   "cell_type": "markdown",
   "metadata": {},
   "source": [
    "#### Comments:\n",
    "\n",
    "- Birthday_year and Medical_Tent have the highest number of missing values (19.7% and 76.1% respectively)  \n",
    "- We have 900 records and 0 duplicate rows  \n",
    "- Variables Patient_ID, Family_Case_ID and Name are likely to be dropped or used for feature engineering  \n",
    "- There are two records without City information, since Santa Fe is largely the most frequent city it seems reasonable to assume those two records as from Santa Fe."
   ]
  },
  {
   "cell_type": "markdown",
   "metadata": {},
   "source": [
    "__`Target variable - 'Deceased'`__"
   ]
  },
  {
   "cell_type": "markdown",
   "metadata": {},
   "source": [
    "Let's have a look at the distribution of variables among deceased and survivors."
   ]
  },
  {
   "cell_type": "code",
   "execution_count": 18,
   "metadata": {},
   "outputs": [
    {
     "data": {
      "text/html": [
       "<div>\n",
       "<style scoped>\n",
       "    .dataframe tbody tr th:only-of-type {\n",
       "        vertical-align: middle;\n",
       "    }\n",
       "\n",
       "    .dataframe tbody tr th {\n",
       "        vertical-align: top;\n",
       "    }\n",
       "\n",
       "    .dataframe thead th {\n",
       "        text-align: right;\n",
       "    }\n",
       "</style>\n",
       "<table border=\"1\" class=\"dataframe\">\n",
       "  <thead>\n",
       "    <tr style=\"text-align: right;\">\n",
       "      <th>Deceased</th>\n",
       "      <th>0</th>\n",
       "      <th>1</th>\n",
       "    </tr>\n",
       "  </thead>\n",
       "  <tbody>\n",
       "    <tr>\n",
       "      <th>Patient_ID</th>\n",
       "      <td>449.423631</td>\n",
       "      <td>451.175407</td>\n",
       "    </tr>\n",
       "    <tr>\n",
       "      <th>Family_Case_ID</th>\n",
       "      <td>13619.536023</td>\n",
       "      <td>14736.466546</td>\n",
       "    </tr>\n",
       "    <tr>\n",
       "      <th>Severity</th>\n",
       "      <td>1.962536</td>\n",
       "      <td>2.533454</td>\n",
       "    </tr>\n",
       "    <tr>\n",
       "      <th>Birthday_year</th>\n",
       "      <td>1991.698305</td>\n",
       "      <td>1989.280374</td>\n",
       "    </tr>\n",
       "    <tr>\n",
       "      <th>Parents or siblings infected</th>\n",
       "      <td>0.463977</td>\n",
       "      <td>0.327306</td>\n",
       "    </tr>\n",
       "    <tr>\n",
       "      <th>Wife/Husband or children infected</th>\n",
       "      <td>0.475504</td>\n",
       "      <td>0.549729</td>\n",
       "    </tr>\n",
       "    <tr>\n",
       "      <th>Medical_Expenses_Family</th>\n",
       "      <td>1340.755043</td>\n",
       "      <td>616.504521</td>\n",
       "    </tr>\n",
       "  </tbody>\n",
       "</table>\n",
       "</div>"
      ],
      "text/plain": [
       "Deceased                                      0             1\n",
       "Patient_ID                           449.423631    451.175407\n",
       "Family_Case_ID                     13619.536023  14736.466546\n",
       "Severity                               1.962536      2.533454\n",
       "Birthday_year                       1991.698305   1989.280374\n",
       "Parents or siblings infected           0.463977      0.327306\n",
       "Wife/Husband or children infected      0.475504      0.549729\n",
       "Medical_Expenses_Family             1340.755043    616.504521"
      ]
     },
     "execution_count": 18,
     "metadata": {},
     "output_type": "execute_result"
    }
   ],
   "source": [
    "df_train.groupby(by=\"Deceased\").mean().transpose()"
   ]
  },
  {
   "cell_type": "code",
   "execution_count": 21,
   "metadata": {},
   "outputs": [],
   "source": [
    "deceased_temp = df_train[df_train.Deceased == 1]\n",
    "survived_temp = df_train[df_train.Deceased == 0]"
   ]
  },
  {
   "cell_type": "code",
   "execution_count": 23,
   "metadata": {},
   "outputs": [
    {
     "ename": "ValueError",
     "evalue": "cannot convert float NaN to integer",
     "output_type": "error",
     "traceback": [
      "\u001b[1;31m---------------------------------------------------------------------------\u001b[0m",
      "\u001b[1;31mValueError\u001b[0m                                Traceback (most recent call last)",
      "\u001b[1;32m<ipython-input-23-293abf76768a>\u001b[0m in \u001b[0;36m<module>\u001b[1;34m\u001b[0m\n\u001b[1;32m----> 1\u001b[1;33m \u001b[0msns\u001b[0m\u001b[1;33m.\u001b[0m\u001b[0mdistplot\u001b[0m\u001b[1;33m(\u001b[0m\u001b[0mdeceased_temp\u001b[0m\u001b[1;33m[\u001b[0m\u001b[1;34m'Birthday_year'\u001b[0m\u001b[1;33m]\u001b[0m\u001b[1;33m,\u001b[0m \u001b[0mkde\u001b[0m \u001b[1;33m=\u001b[0m \u001b[1;32mFalse\u001b[0m\u001b[1;33m,\u001b[0m \u001b[0mlabel\u001b[0m\u001b[1;33m=\u001b[0m\u001b[1;34m'Deceased'\u001b[0m\u001b[1;33m)\u001b[0m\u001b[1;33m\u001b[0m\u001b[1;33m\u001b[0m\u001b[0m\n\u001b[0m\u001b[0;32m      2\u001b[0m \u001b[0msns\u001b[0m\u001b[1;33m.\u001b[0m\u001b[0mdistplot\u001b[0m\u001b[1;33m(\u001b[0m\u001b[0msurvived_temp\u001b[0m\u001b[1;33m[\u001b[0m\u001b[1;34m'Birthday_year'\u001b[0m\u001b[1;33m]\u001b[0m\u001b[1;33m,\u001b[0m \u001b[0mkde\u001b[0m \u001b[1;33m=\u001b[0m \u001b[1;32mFalse\u001b[0m\u001b[1;33m,\u001b[0m \u001b[0mlabel\u001b[0m\u001b[1;33m=\u001b[0m\u001b[1;34m'Survived'\u001b[0m\u001b[1;33m)\u001b[0m\u001b[1;33m\u001b[0m\u001b[1;33m\u001b[0m\u001b[0m\n\u001b[0;32m      3\u001b[0m \u001b[1;33m\u001b[0m\u001b[0m\n\u001b[0;32m      4\u001b[0m \u001b[0mplt\u001b[0m\u001b[1;33m.\u001b[0m\u001b[0mlegend\u001b[0m\u001b[1;33m(\u001b[0m\u001b[0mprop\u001b[0m\u001b[1;33m=\u001b[0m\u001b[1;33m{\u001b[0m\u001b[1;34m'size'\u001b[0m\u001b[1;33m:\u001b[0m \u001b[1;36m12\u001b[0m\u001b[1;33m}\u001b[0m\u001b[1;33m)\u001b[0m\u001b[1;33m\u001b[0m\u001b[1;33m\u001b[0m\u001b[0m\n\u001b[0;32m      5\u001b[0m \u001b[0mplt\u001b[0m\u001b[1;33m.\u001b[0m\u001b[0mxlabel\u001b[0m\u001b[1;33m(\u001b[0m\u001b[1;34m'year of birth'\u001b[0m\u001b[1;33m)\u001b[0m\u001b[1;33m\u001b[0m\u001b[1;33m\u001b[0m\u001b[0m\n",
      "\u001b[1;32mC:\\ProgramData\\Anaconda3\\lib\\site-packages\\seaborn\\distributions.py\u001b[0m in \u001b[0;36mdistplot\u001b[1;34m(a, bins, hist, kde, rug, fit, hist_kws, kde_kws, rug_kws, fit_kws, color, vertical, norm_hist, axlabel, label, ax)\u001b[0m\n\u001b[0;32m    213\u001b[0m     \u001b[1;32mif\u001b[0m \u001b[0mhist\u001b[0m\u001b[1;33m:\u001b[0m\u001b[1;33m\u001b[0m\u001b[1;33m\u001b[0m\u001b[0m\n\u001b[0;32m    214\u001b[0m         \u001b[1;32mif\u001b[0m \u001b[0mbins\u001b[0m \u001b[1;32mis\u001b[0m \u001b[1;32mNone\u001b[0m\u001b[1;33m:\u001b[0m\u001b[1;33m\u001b[0m\u001b[1;33m\u001b[0m\u001b[0m\n\u001b[1;32m--> 215\u001b[1;33m             \u001b[0mbins\u001b[0m \u001b[1;33m=\u001b[0m \u001b[0mmin\u001b[0m\u001b[1;33m(\u001b[0m\u001b[0m_freedman_diaconis_bins\u001b[0m\u001b[1;33m(\u001b[0m\u001b[0ma\u001b[0m\u001b[1;33m)\u001b[0m\u001b[1;33m,\u001b[0m \u001b[1;36m50\u001b[0m\u001b[1;33m)\u001b[0m\u001b[1;33m\u001b[0m\u001b[1;33m\u001b[0m\u001b[0m\n\u001b[0m\u001b[0;32m    216\u001b[0m         \u001b[0mhist_kws\u001b[0m\u001b[1;33m.\u001b[0m\u001b[0msetdefault\u001b[0m\u001b[1;33m(\u001b[0m\u001b[1;34m\"alpha\"\u001b[0m\u001b[1;33m,\u001b[0m \u001b[1;36m0.4\u001b[0m\u001b[1;33m)\u001b[0m\u001b[1;33m\u001b[0m\u001b[1;33m\u001b[0m\u001b[0m\n\u001b[0;32m    217\u001b[0m         \u001b[1;32mif\u001b[0m \u001b[0mLooseVersion\u001b[0m\u001b[1;33m(\u001b[0m\u001b[0mmpl\u001b[0m\u001b[1;33m.\u001b[0m\u001b[0m__version__\u001b[0m\u001b[1;33m)\u001b[0m \u001b[1;33m<\u001b[0m \u001b[0mLooseVersion\u001b[0m\u001b[1;33m(\u001b[0m\u001b[1;34m\"2.2\"\u001b[0m\u001b[1;33m)\u001b[0m\u001b[1;33m:\u001b[0m\u001b[1;33m\u001b[0m\u001b[1;33m\u001b[0m\u001b[0m\n",
      "\u001b[1;32mC:\\ProgramData\\Anaconda3\\lib\\site-packages\\seaborn\\distributions.py\u001b[0m in \u001b[0;36m_freedman_diaconis_bins\u001b[1;34m(a)\u001b[0m\n\u001b[0;32m     37\u001b[0m         \u001b[1;32mreturn\u001b[0m \u001b[0mint\u001b[0m\u001b[1;33m(\u001b[0m\u001b[0mnp\u001b[0m\u001b[1;33m.\u001b[0m\u001b[0msqrt\u001b[0m\u001b[1;33m(\u001b[0m\u001b[0ma\u001b[0m\u001b[1;33m.\u001b[0m\u001b[0msize\u001b[0m\u001b[1;33m)\u001b[0m\u001b[1;33m)\u001b[0m\u001b[1;33m\u001b[0m\u001b[1;33m\u001b[0m\u001b[0m\n\u001b[0;32m     38\u001b[0m     \u001b[1;32melse\u001b[0m\u001b[1;33m:\u001b[0m\u001b[1;33m\u001b[0m\u001b[1;33m\u001b[0m\u001b[0m\n\u001b[1;32m---> 39\u001b[1;33m         \u001b[1;32mreturn\u001b[0m \u001b[0mint\u001b[0m\u001b[1;33m(\u001b[0m\u001b[0mnp\u001b[0m\u001b[1;33m.\u001b[0m\u001b[0mceil\u001b[0m\u001b[1;33m(\u001b[0m\u001b[1;33m(\u001b[0m\u001b[0ma\u001b[0m\u001b[1;33m.\u001b[0m\u001b[0mmax\u001b[0m\u001b[1;33m(\u001b[0m\u001b[1;33m)\u001b[0m \u001b[1;33m-\u001b[0m \u001b[0ma\u001b[0m\u001b[1;33m.\u001b[0m\u001b[0mmin\u001b[0m\u001b[1;33m(\u001b[0m\u001b[1;33m)\u001b[0m\u001b[1;33m)\u001b[0m \u001b[1;33m/\u001b[0m \u001b[0mh\u001b[0m\u001b[1;33m)\u001b[0m\u001b[1;33m)\u001b[0m\u001b[1;33m\u001b[0m\u001b[1;33m\u001b[0m\u001b[0m\n\u001b[0m\u001b[0;32m     40\u001b[0m \u001b[1;33m\u001b[0m\u001b[0m\n\u001b[0;32m     41\u001b[0m \u001b[1;33m\u001b[0m\u001b[0m\n",
      "\u001b[1;31mValueError\u001b[0m: cannot convert float NaN to integer"
     ]
    },
    {
     "data": {
      "image/png": "[encoded data removed]",
      "text/plain": [
       "<Figure size 432x288 with 1 Axes>"
      ]
     },
     "metadata": {},
     "output_type": "display_data"
    }
   ],
   "source": [
    "sns.distplot(deceased_temp['Birthday_year'], kde = False, label='Deceased')\n",
    "sns.distplot(survived_temp['Birthday_year'], kde = False, label='Survived')\n",
    "\n",
    "plt.legend(prop={'size': 12})\n",
    "plt.xlabel('year of birth')\n",
    "plt.ylabel('Frequency')"
   ]
  },
  {
   "cell_type": "code",
   "execution_count": 24,
   "metadata": {
    "scrolled": true
   },
   "outputs": [
    {
     "data": {
      "image/png": "[encoded data removed]",
      "text/plain": [
       "<Figure size 720x360 with 1 Axes>"
      ]
     },
     "metadata": {},
     "output_type": "display_data"
    },
    {
     "data": {
      "image/png": "[encoded data removed]",
      "text/plain": [
       "<Figure size 720x360 with 1 Axes>"
      ]
     },
     "metadata": {},
     "output_type": "display_data"
    },
    {
     "data": {
      "image/png": "[encoded data removed]",
      "text/plain": [
       "<Figure size 720x360 with 1 Axes>"
      ]
     },
     "metadata": {},
     "output_type": "display_data"
    }
   ],
   "source": [
    "#let's have a look at some variables distribution per deceased\n",
    "columns = ['Severity', 'Parents or siblings infected', 'Wife/Husband or children infected']\n",
    "\n",
    "for col in columns:\n",
    "    pd.crosstab(df_train[col],df_train.Deceased).plot(kind='bar',\n",
    "                                          figsize=(10,5))"
   ]
  },
  {
   "cell_type": "markdown",
   "metadata": {},
   "source": [
    "__`Medical Tent`__"
   ]
  },
  {
   "cell_type": "code",
   "execution_count": 25,
   "metadata": {},
   "outputs": [],
   "source": [
    "def perc_table(index, columns, values):\n",
    "    perc_table = pd.crosstab(index = index, \n",
    "                     columns = columns, \n",
    "                     values = values, \n",
    "                     aggfunc='count', margins = True,\n",
    "                     normalize='columns').applymap('{:.3%}'.format)\n",
    "    return perc_table"
   ]
  },
  {
   "cell_type": "code",
   "execution_count": 27,
   "metadata": {},
   "outputs": [
    {
     "data": {
      "text/html": [
       "<div>\n",
       "<style scoped>\n",
       "    .dataframe tbody tr th:only-of-type {\n",
       "        vertical-align: middle;\n",
       "    }\n",
       "\n",
       "    .dataframe tbody tr th {\n",
       "        vertical-align: top;\n",
       "    }\n",
       "\n",
       "    .dataframe thead th {\n",
       "        text-align: right;\n",
       "    }\n",
       "</style>\n",
       "<table border=\"1\" class=\"dataframe\">\n",
       "  <thead>\n",
       "    <tr style=\"text-align: right;\">\n",
       "      <th>City</th>\n",
       "      <th>Albuquerque</th>\n",
       "      <th>Santa Fe</th>\n",
       "      <th>Taos</th>\n",
       "      <th>All</th>\n",
       "    </tr>\n",
       "    <tr>\n",
       "      <th>Medical_Tent</th>\n",
       "      <th></th>\n",
       "      <th></th>\n",
       "      <th></th>\n",
       "      <th></th>\n",
       "    </tr>\n",
       "  </thead>\n",
       "  <tbody>\n",
       "    <tr>\n",
       "      <th>A</th>\n",
       "      <td>10.145%</td>\n",
       "      <td>6.504%</td>\n",
       "      <td>0.000%</td>\n",
       "      <td>7.653%</td>\n",
       "    </tr>\n",
       "    <tr>\n",
       "      <th>B</th>\n",
       "      <td>31.884%</td>\n",
       "      <td>17.886%</td>\n",
       "      <td>0.000%</td>\n",
       "      <td>22.449%</td>\n",
       "    </tr>\n",
       "    <tr>\n",
       "      <th>C</th>\n",
       "      <td>30.435%</td>\n",
       "      <td>27.642%</td>\n",
       "      <td>50.000%</td>\n",
       "      <td>29.082%</td>\n",
       "    </tr>\n",
       "    <tr>\n",
       "      <th>D</th>\n",
       "      <td>18.841%</td>\n",
       "      <td>14.634%</td>\n",
       "      <td>0.000%</td>\n",
       "      <td>15.816%</td>\n",
       "    </tr>\n",
       "    <tr>\n",
       "      <th>E</th>\n",
       "      <td>7.246%</td>\n",
       "      <td>20.325%</td>\n",
       "      <td>25.000%</td>\n",
       "      <td>15.816%</td>\n",
       "    </tr>\n",
       "    <tr>\n",
       "      <th>F</th>\n",
       "      <td>1.449%</td>\n",
       "      <td>8.943%</td>\n",
       "      <td>25.000%</td>\n",
       "      <td>6.633%</td>\n",
       "    </tr>\n",
       "    <tr>\n",
       "      <th>G</th>\n",
       "      <td>0.000%</td>\n",
       "      <td>3.252%</td>\n",
       "      <td>0.000%</td>\n",
       "      <td>2.041%</td>\n",
       "    </tr>\n",
       "    <tr>\n",
       "      <th>T</th>\n",
       "      <td>0.000%</td>\n",
       "      <td>0.813%</td>\n",
       "      <td>0.000%</td>\n",
       "      <td>0.510%</td>\n",
       "    </tr>\n",
       "  </tbody>\n",
       "</table>\n",
       "</div>"
      ],
      "text/plain": [
       "City         Albuquerque Santa Fe     Taos      All\n",
       "Medical_Tent                                       \n",
       "A                10.145%   6.504%   0.000%   7.653%\n",
       "B                31.884%  17.886%   0.000%  22.449%\n",
       "C                30.435%  27.642%  50.000%  29.082%\n",
       "D                18.841%  14.634%   0.000%  15.816%\n",
       "E                 7.246%  20.325%  25.000%  15.816%\n",
       "F                 1.449%   8.943%  25.000%   6.633%\n",
       "G                 0.000%   3.252%   0.000%   2.041%\n",
       "T                 0.000%   0.813%   0.000%   0.510%"
      ]
     },
     "execution_count": 27,
     "metadata": {},
     "output_type": "execute_result"
    }
   ],
   "source": [
    "perc_table(df_train.Medical_Tent, df_train.City, df_train.index)"
   ]
  },
  {
   "cell_type": "markdown",
   "metadata": {},
   "source": [
    "#### Comments:\n",
    "From the table above we can observe that there are no rules we can establish for the Medical tents locations that could help us populate the missing values.  \n",
    "Since we don't have enough information we have two possibilities:\n",
    "- drop the column,\n",
    "- fill missing values with No_tent."
   ]
  },
  {
   "cell_type": "markdown",
   "metadata": {},
   "source": [
    "__`Name`__"
   ]
  },
  {
   "cell_type": "code",
   "execution_count": 28,
   "metadata": {},
   "outputs": [
    {
     "name": "stdout",
     "output_type": "stream",
     "text": [
      "['Miss' 'Ms.' 'Mr.' 'Master']\n"
     ]
    }
   ],
   "source": [
    "print(df_train.Name.str.split(' ').str[0].unique())"
   ]
  },
  {
   "cell_type": "markdown",
   "metadata": {},
   "source": [
    "#### Comments:\n",
    "All records have name filled in and all start by either 'Miss', 'Ms.', 'Mr.' or 'Master. This information is quite useful to generate a new field Gender!"
   ]
  },
  {
   "cell_type": "markdown",
   "metadata": {},
   "source": [
    "### 3.2. Data Manipulation"
   ]
  },
  {
   "cell_type": "code",
   "execution_count": 136,
   "metadata": {},
   "outputs": [],
   "source": [
    "X = df_train.drop('Deceased', axis = 1)\n",
    "y = df_train['Deceased']"
   ]
  },
  {
   "cell_type": "code",
   "execution_count": 137,
   "metadata": {},
   "outputs": [],
   "source": [
    "df_test_copy = df_test.copy(deep=True)"
   ]
  },
  {
   "cell_type": "markdown",
   "metadata": {},
   "source": [
    "### 3.2.1. Missing values"
   ]
  },
  {
   "cell_type": "code",
   "execution_count": 138,
   "metadata": {},
   "outputs": [],
   "source": [
    "# fill in medical tent \n",
    "X['Medical_Tent'].fillna('No_tent', inplace = True)"
   ]
  },
  {
   "cell_type": "code",
   "execution_count": 139,
   "metadata": {},
   "outputs": [],
   "source": [
    "df_test_copy['Medical_Tent'].fillna('No_tent', inplace = True)"
   ]
  },
  {
   "cell_type": "code",
   "execution_count": 140,
   "metadata": {},
   "outputs": [],
   "source": [
    "#Fill in birthday year\n",
    "\n",
    "imputer = SimpleImputer(strategy='mean').fit(X.loc[:,['Birthday_year']])\n",
    "\n",
    "X.loc[:,'Birthday_year'] = imputer.transform(X.loc[:,['Birthday_year']]).astype(int)"
   ]
  },
  {
   "cell_type": "code",
   "execution_count": 141,
   "metadata": {},
   "outputs": [],
   "source": [
    "df_test_copy.loc[:,'Birthday_year'] = imputer.transform(df_test_copy.loc[:,['Birthday_year']]).astype(int)"
   ]
  },
  {
   "cell_type": "code",
   "execution_count": 142,
   "metadata": {},
   "outputs": [],
   "source": [
    "#Fill in city\n",
    "\n",
    "X['City'].fillna('Santa Fe', inplace = True)"
   ]
  },
  {
   "cell_type": "markdown",
   "metadata": {},
   "source": [
    "### 3.2.2. Feature Engineering"
   ]
  },
  {
   "cell_type": "markdown",
   "metadata": {},
   "source": [
    "__`Gender`__"
   ]
  },
  {
   "cell_type": "code",
   "execution_count": 143,
   "metadata": {},
   "outputs": [],
   "source": [
    "gender_dict ={'Miss' : 'F', 'Ms.' : 'F', 'Mrs.':'F', \n",
    "                    'Mr.' : 'M', 'Master' : 'M'} \n",
    "\n",
    "X['Gender'] = X.Name.str.split(' ').str[0].map(gender_dict) "
   ]
  },
  {
   "cell_type": "code",
   "execution_count": 144,
   "metadata": {},
   "outputs": [],
   "source": [
    "df_test_copy['Gender'] = df_test_copy.Name.str.split(' ').str[0].map(gender_dict) "
   ]
  },
  {
   "cell_type": "markdown",
   "metadata": {},
   "source": [
    "__`Family Death ratio`__"
   ]
  },
  {
   "cell_type": "code",
   "execution_count": 145,
   "metadata": {},
   "outputs": [],
   "source": [
    "#temp_group = df_train.groupby('Family_Case_ID')\n",
    "#X['number_family_cases'] = temp_group['Patient_ID'].transform('count')\n",
    "#X['number_family_deaths'] = temp_group['Deceased'].transform(sum)\n",
    "#X['family_death_ratio'] = X['number_family_deaths']/ X['number_family_cases']\n",
    "\n",
    "#X.drop(['number_family_cases', 'number_family_deaths'], axis = 1, inplace=True)"
   ]
  },
  {
   "cell_type": "code",
   "execution_count": 148,
   "metadata": {},
   "outputs": [],
   "source": [
    "#df_test_copy = df_test_copy.merge(X[['family_death_ratio', 'Family_Case_ID']], how = 'left',\n",
    "#left_on = 'Family_Case_ID', right_on = 'Family_Case_ID')"
   ]
  },
  {
   "cell_type": "code",
   "execution_count": 149,
   "metadata": {},
   "outputs": [],
   "source": [
    "#df_test_copy['family_death_ratio'].fillna(0, inplace = True)"
   ]
  },
  {
   "cell_type": "code",
   "execution_count": 150,
   "metadata": {},
   "outputs": [],
   "source": [
    "#df_test_copy.drop_duplicates(inplace=True)"
   ]
  },
  {
   "cell_type": "markdown",
   "metadata": {},
   "source": [
    "__`Expenses per person (pp)`__"
   ]
  },
  {
   "cell_type": "code",
   "execution_count": 151,
   "metadata": {},
   "outputs": [],
   "source": [
    "X['Expenses_pp'] = X['Medical_Expenses_Family'] / (X['Parents or siblings infected'] + X['Wife/Husband or children infected'] + 1)\n"
   ]
  },
  {
   "cell_type": "code",
   "execution_count": 152,
   "metadata": {},
   "outputs": [],
   "source": [
    "df_test_copy['Expenses_pp'] = df_test_copy['Medical_Expenses_Family'] / (df_test_copy['Parents or siblings infected'] + df_test_copy['Wife/Husband or children infected'] + 1)"
   ]
  },
  {
   "cell_type": "code",
   "execution_count": 153,
   "metadata": {},
   "outputs": [],
   "source": [
    "X.drop('Medical_Expenses_Family', axis = 1, inplace=True)"
   ]
  },
  {
   "cell_type": "code",
   "execution_count": 154,
   "metadata": {},
   "outputs": [],
   "source": [
    "df_test_copy.drop('Medical_Expenses_Family', axis = 1, inplace=True)"
   ]
  },
  {
   "cell_type": "markdown",
   "metadata": {},
   "source": [
    "__`Family Avg Severity`__"
   ]
  },
  {
   "cell_type": "code",
   "execution_count": 155,
   "metadata": {},
   "outputs": [],
   "source": [
    "total_db = X.append(df_test)\n",
    "total_db = total_db[['Family_Case_ID','Severity']] .groupby(by='Family_Case_ID').mean()"
   ]
  },
  {
   "cell_type": "code",
   "execution_count": 156,
   "metadata": {},
   "outputs": [],
   "source": [
    "X['family_severity'] = X.merge(total_db, how='left', left_on ='Family_Case_ID', right_on = 'Family_Case_ID')['Severity_y']"
   ]
  },
  {
   "cell_type": "code",
   "execution_count": 157,
   "metadata": {},
   "outputs": [],
   "source": [
    "X['family_severity'] = X['family_severity'].fillna(0)"
   ]
  },
  {
   "cell_type": "code",
   "execution_count": 158,
   "metadata": {},
   "outputs": [],
   "source": [
    "df_test_copy['family_severity'] = df_test_copy.merge(total_db, how='left', left_on ='Family_Case_ID', right_on = 'Family_Case_ID')['Severity_y']"
   ]
  },
  {
   "cell_type": "code",
   "execution_count": 159,
   "metadata": {},
   "outputs": [],
   "source": [
    "df_test_copy['family_severity']= df_test_copy['family_severity'].fillna(0)"
   ]
  },
  {
   "cell_type": "markdown",
   "metadata": {},
   "source": [
    "__`Encoding`__"
   ]
  },
  {
   "cell_type": "code",
   "execution_count": 162,
   "metadata": {},
   "outputs": [],
   "source": [
    "# Encode categorical variables to dummy variables\n",
    "cat_features=['Medical_Tent', 'City', 'Gender']\n",
    "\n",
    "ce_one_hot = ce.OneHotEncoder(cols = cat_features, use_cat_names=True)\n",
    "X = ce_one_hot.fit_transform(X)"
   ]
  },
  {
   "cell_type": "code",
   "execution_count": 163,
   "metadata": {},
   "outputs": [],
   "source": [
    "df_test_copy = ce_one_hot.fit_transform(df_test_copy)"
   ]
  },
  {
   "cell_type": "markdown",
   "metadata": {},
   "source": [
    "__`Drop Columns`__"
   ]
  },
  {
   "cell_type": "code",
   "execution_count": 164,
   "metadata": {},
   "outputs": [],
   "source": [
    "cols_drop = ['Patient_ID','Family_Case_ID','Name', \n",
    "             'Medical_Tent_G', 'City_Taos','Gender_M']"
   ]
  },
  {
   "cell_type": "code",
   "execution_count": 165,
   "metadata": {},
   "outputs": [],
   "source": [
    "X.drop(columns = cols_drop, inplace = True)\n",
    "df_test_copy.drop(columns = cols_drop, inplace = True)"
   ]
  },
  {
   "cell_type": "markdown",
   "metadata": {},
   "source": [
    "### 3.3. Train test split"
   ]
  },
  {
   "cell_type": "code",
   "execution_count": 166,
   "metadata": {},
   "outputs": [],
   "source": [
    "X_train, X_val, y_train, y_val = train_test_split(X, y,\n",
    "                                                  test_size=0.2, \n",
    "                                                  stratify = y,\n",
    "                                                  random_state = 15)"
   ]
  },
  {
   "cell_type": "markdown",
   "metadata": {},
   "source": [
    "### 3.4 Feature Selection"
   ]
  },
  {
   "cell_type": "markdown",
   "metadata": {},
   "source": [
    "#### 3.4.1 Extra Trees Classifier\n",
    "- trees classifiers works as n ( in this case 50) decision trees, the good think about this is the possibility to plot and make sense of what is going on\n",
    "- And the feature_selection algorithm select the features that are relevant"
   ]
  },
  {
   "cell_type": "code",
   "execution_count": 167,
   "metadata": {},
   "outputs": [],
   "source": [
    "def plot_importance(coef,name):\n",
    "    imp_coef = coef.sort_values()\n",
    "    plt.figure(figsize=(8,10))\n",
    "    imp_coef.plot(kind = \"barh\")\n",
    "    plt.title(\"Feature importance using \" + name + \" Model\")\n",
    "    plt.show()\n"
   ]
  },
  {
   "cell_type": "code",
   "execution_count": 168,
   "metadata": {},
   "outputs": [
    {
     "data": {
      "image/png": "[encoded data removed]",
      "text/plain": [
       "<Figure size 576x720 with 1 Axes>"
      ]
     },
     "metadata": {},
     "output_type": "display_data"
    },
    {
     "data": {
      "text/plain": [
       "Medical_Tent_T                       0.000911\n",
       "Medical_Tent_A                       0.002539\n",
       "Medical_Tent_F                       0.003665\n",
       "Medical_Tent_D                       0.005648\n",
       "Medical_Tent_C                       0.005851\n",
       "Medical_Tent_B                       0.006851\n",
       "Medical_Tent_E                       0.009344\n",
       "City_Albuquerque                     0.016060\n",
       "City_Santa Fe                        0.020217\n",
       "Medical_Tent_No_tent                 0.028722\n",
       "Parents or siblings infected         0.044159\n",
       "Severity                             0.044161\n",
       "Wife/Husband or children infected    0.057675\n",
       "family_severity                      0.065066\n",
       "Expenses_pp                          0.197360\n",
       "Birthday_year                        0.221864\n",
       "Gender_F                             0.269908\n",
       "dtype: float64"
      ]
     },
     "execution_count": 168,
     "metadata": {},
     "output_type": "execute_result"
    }
   ],
   "source": [
    "ETC = ExtraTreesClassifier(n_estimators=50)\n",
    "ETC = ETC.fit(X_train, y_train)\n",
    "coef_ETC = pd.Series(ETC.feature_importances_, index = X_train.columns)\n",
    "plot_importance(coef_ETC,'ETC')\n",
    "coef_ETC.abs().sort_values()  "
   ]
  },
  {
   "cell_type": "code",
   "execution_count": 169,
   "metadata": {},
   "outputs": [
    {
     "data": {
      "text/plain": [
       "Index(['Birthday_year', 'Gender_F', 'Expenses_pp', 'family_severity'], dtype='object')"
      ]
     },
     "execution_count": 169,
     "metadata": {},
     "output_type": "execute_result"
    }
   ],
   "source": [
    "model = SelectFromModel(ETC, prefit=True)\n",
    "model.transform(X_train)\n",
    "ETC_indices = model.get_support(indices= True)\n",
    "ETC_feature = X_train.iloc[:,ETC_indices].columns\n",
    "ETC_feature"
   ]
  },
  {
   "cell_type": "markdown",
   "metadata": {},
   "source": [
    "#### 3.4.2. Correlation"
   ]
  },
  {
   "cell_type": "code",
   "execution_count": 170,
   "metadata": {},
   "outputs": [],
   "source": [
    "def cor_heatmap(cor):\n",
    "    mask = np.triu(np.ones_like(cor, dtype=bool))\n",
    "    plt.figure(figsize=(14,12))\n",
    "    sns.set(font_scale=1.4, style = 'white')\n",
    "    sns.heatmap(data = cor, annot = True, annot_kws={\"size\": 10},\n",
    "                mask = mask, cmap = plt.cm.Reds, fmt='.1f')\n",
    "    plt.show()"
   ]
  },
  {
   "cell_type": "code",
   "execution_count": 171,
   "metadata": {},
   "outputs": [],
   "source": [
    "temp_X = X_train.copy(deep=True)\n",
    "temp_X['target'] = y_train"
   ]
  },
  {
   "cell_type": "code",
   "execution_count": 172,
   "metadata": {},
   "outputs": [],
   "source": [
    "corr_spearman = temp_X.corr('spearman')"
   ]
  },
  {
   "cell_type": "code",
   "execution_count": 173,
   "metadata": {},
   "outputs": [
    {
     "data": {
      "image/png": "[encoded data removed]",
      "text/plain": [
       "<Figure size 1008x864 with 2 Axes>"
      ]
     },
     "metadata": {},
     "output_type": "display_data"
    }
   ],
   "source": [
    "cor_heatmap(corr_spearman)"
   ]
  },
  {
   "cell_type": "markdown",
   "metadata": {},
   "source": [
    "#### 3.4.3. Lasso"
   ]
  },
  {
   "cell_type": "code",
   "execution_count": 174,
   "metadata": {},
   "outputs": [
    {
     "name": "stdout",
     "output_type": "stream",
     "text": [
      "Best alpha using built-in LassoCV: 0.102916\n"
     ]
    }
   ],
   "source": [
    "lasso = LassoCV()\n",
    "lasso.fit(X = X_train, y = y_train)\n",
    "print(\"Best alpha using built-in LassoCV: %f\" % lasso.alpha_)"
   ]
  },
  {
   "cell_type": "code",
   "execution_count": 175,
   "metadata": {},
   "outputs": [
    {
     "data": {
      "text/plain": [
       "Severity                             0.000000\n",
       "Birthday_year                       -0.003424\n",
       "Parents or siblings infected        -0.000000\n",
       "Wife/Husband or children infected    0.000000\n",
       "Medical_Tent_No_tent                 0.000000\n",
       "Medical_Tent_F                      -0.000000\n",
       "Medical_Tent_B                      -0.000000\n",
       "Medical_Tent_A                      -0.000000\n",
       "Medical_Tent_E                      -0.000000\n",
       "Medical_Tent_C                      -0.000000\n",
       "Medical_Tent_D                      -0.000000\n",
       "Medical_Tent_T                       0.000000\n",
       "City_Santa Fe                        0.000000\n",
       "City_Albuquerque                    -0.000000\n",
       "Gender_F                            -0.061115\n",
       "Expenses_pp                         -0.000121\n",
       "family_severity                      0.000000\n",
       "dtype: float64"
      ]
     },
     "execution_count": 175,
     "metadata": {},
     "output_type": "execute_result"
    }
   ],
   "source": [
    "coef_lasso = pd.Series(lasso.coef_,index=X.columns)\n",
    "coef_lasso"
   ]
  },
  {
   "cell_type": "code",
   "execution_count": 176,
   "metadata": {
    "scrolled": true
   },
   "outputs": [
    {
     "name": "stdout",
     "output_type": "stream",
     "text": [
      "Lasso picked 3 variables and eliminated the other 14 variables\n"
     ]
    }
   ],
   "source": [
    "print(\"Lasso picked \" + str(sum(coef_lasso != 0)) + \" variables and eliminated the other \" +  str(sum(coef_lasso == 0)) + \" variables\")"
   ]
  },
  {
   "cell_type": "code",
   "execution_count": 180,
   "metadata": {},
   "outputs": [
    {
     "data": {
      "image/png": "[encoded data removed]",
      "text/plain": [
       "<Figure size 576x720 with 1 Axes>"
      ]
     },
     "metadata": {},
     "output_type": "display_data"
    }
   ],
   "source": [
    "plot_importance(coef_lasso,'Lasso')"
   ]
  },
  {
   "cell_type": "code",
   "execution_count": 198,
   "metadata": {},
   "outputs": [
    {
     "data": {
      "text/plain": [
       "array(['Gender_F', 'Birthday_year', 'Expenses_pp'], dtype=object)"
      ]
     },
     "execution_count": 198,
     "metadata": {},
     "output_type": "execute_result"
    }
   ],
   "source": [
    "# Extracting important features according to Lasso Regression\n",
    "\n",
    "lasso_features = coef_lasso.sort_values().abs() > 0\n",
    "lasso_features = lasso_features[lasso_features].index.values\n",
    "lasso_features"
   ]
  },
  {
   "cell_type": "markdown",
   "metadata": {},
   "source": [
    "#### 3.4.4. RFE_CV"
   ]
  },
  {
   "cell_type": "code",
   "execution_count": 193,
   "metadata": {},
   "outputs": [
    {
     "name": "stdout",
     "output_type": "stream",
     "text": [
      "Optimal number of features : 5\n",
      "Best features : ['Birthday_year', 'Wife/Husband or children infected', 'Gender_F', 'Expenses_pp', 'family_severity']\n"
     ]
    }
   ],
   "source": [
    "rf_clf = RandomForestClassifier(random_state = 15)\n",
    "rf_clf.fit(X_train, y_train)\n",
    "\n",
    "rfecv = RFECV(rf_clf, cv= 5, step=1)\n",
    "rfecv = rfecv.fit(X_train, y_train)\n",
    "\n",
    "rfecv_mask = rfecv.get_support() \n",
    "\n",
    "rfecv_features = [] \n",
    "\n",
    "for bool, feature in zip(rfecv_mask, X_train.columns):\n",
    "    if bool:\n",
    "        rfecv_features.append(feature)\n",
    "        \n",
    "print('Optimal number of features :', rfecv.n_features_)\n",
    "print('Best features :', rfecv_features)"
   ]
  },
  {
   "cell_type": "code",
   "execution_count": 194,
   "metadata": {},
   "outputs": [
    {
     "data": {
      "text/plain": [
       "Medical_Tent_T                       0.000187\n",
       "Medical_Tent_F                       0.002398\n",
       "Medical_Tent_A                       0.003484\n",
       "Medical_Tent_B                       0.004132\n",
       "Medical_Tent_E                       0.004782\n",
       "Medical_Tent_D                       0.005331\n",
       "Medical_Tent_C                       0.006315\n",
       "City_Albuquerque                     0.013153\n",
       "City_Santa Fe                        0.021934\n",
       "Medical_Tent_No_tent                 0.037387\n",
       "Severity                             0.039123\n",
       "Parents or siblings infected         0.041822\n",
       "family_severity                      0.042672\n",
       "Wife/Husband or children infected    0.046704\n",
       "Gender_F                             0.223084\n",
       "Birthday_year                        0.251610\n",
       "Expenses_pp                          0.255880\n",
       "dtype: float64"
      ]
     },
     "execution_count": 194,
     "metadata": {},
     "output_type": "execute_result"
    }
   ],
   "source": [
    "coef_rfecv = pd.Series(rf_clf.feature_importances_,index=X.columns).abs().sort_values()\n",
    "coef_rfecv\n"
   ]
  },
  {
   "cell_type": "code",
   "execution_count": 195,
   "metadata": {},
   "outputs": [
    {
     "data": {
      "image/png": "[encoded data removed]",
      "text/plain": [
       "<Figure size 576x720 with 1 Axes>"
      ]
     },
     "metadata": {},
     "output_type": "display_data"
    }
   ],
   "source": [
    "plot_importance(coef_rfecv,'RFE with Random Forest')"
   ]
  },
  {
   "cell_type": "markdown",
   "metadata": {},
   "source": [
    "#### 3.4.5 Selected Features"
   ]
  },
  {
   "cell_type": "code",
   "execution_count": null,
   "metadata": {},
   "outputs": [],
   "source": [
    "ETC_feature, rfecv_features"
   ]
  },
  {
   "cell_type": "code",
   "execution_count": 199,
   "metadata": {
    "scrolled": true
   },
   "outputs": [
    {
     "data": {
      "text/plain": [
       "Expenses_pp                          3\n",
       "Gender_F                             3\n",
       "Birthday_year                        3\n",
       "family_severity                      2\n",
       "Wife/Husband or children infected    1\n",
       "dtype: int64"
      ]
     },
     "execution_count": 199,
     "metadata": {},
     "output_type": "execute_result"
    }
   ],
   "source": [
    "#Get the repeated features for the 3 criteria\n",
    "feat_freq = pd.Series(np.concatenate([ ETC_feature, rfecv_features, lasso_features])).value_counts()\n",
    "feat_freq          "
   ]
  },
  {
   "cell_type": "code",
   "execution_count": 232,
   "metadata": {},
   "outputs": [
    {
     "data": {
      "text/plain": [
       "['Expenses_pp',\n",
       " 'Gender_F',\n",
       " 'Birthday_year',\n",
       " 'family_severity',\n",
       " 'Wife/Husband or children infected']"
      ]
     },
     "execution_count": 232,
     "metadata": {},
     "output_type": "execute_result"
    }
   ],
   "source": [
    "# Get features that fulfil more than 2 criteria\n",
    "features = feat_freq[feat_freq >= 1].index.tolist()\n",
    "features"
   ]
  },
  {
   "cell_type": "code",
   "execution_count": 210,
   "metadata": {},
   "outputs": [],
   "source": [
    "X_train_F = X_train[features]\n",
    "df_test_copy_F = df_test_copy[features]\n",
    "X_val_F = X_val[features]"
   ]
  },
  {
   "cell_type": "markdown",
   "metadata": {},
   "source": [
    "## 4. Model Implementation"
   ]
  },
  {
   "cell_type": "markdown",
   "metadata": {},
   "source": [
    "### Model A - XGBoost"
   ]
  },
  {
   "cell_type": "code",
   "execution_count": 535,
   "metadata": {},
   "outputs": [],
   "source": [
    "mod_A_pipe = Pipeline(\n",
    "    [\n",
    "        ('scaler', MinMaxScaler()),\n",
    "        (\n",
    "            'classifier', BaggingClassifier(\n",
    "                base_estimator= XGBClassifier(\n",
    "                    colsample_bytree = 1.0, \n",
    "                    eta = 0.63, \n",
    "                    max_depth = 2),\n",
    "                n_estimators=10,\n",
    "                max_features=1.0,\n",
    "                bootstrap=True,\n",
    "                random_state = 15)\n",
    "        )\n",
    "    ]\n",
    ")"
   ]
  },
  {
   "cell_type": "code",
   "execution_count": 536,
   "metadata": {},
   "outputs": [],
   "source": [
    "mod_A_param_grid = {\n",
    "    'scaler': [\n",
    "        MinMaxScaler(), \n",
    "        MinMaxScaler(feature_range=(-1,1)),\n",
    "        RobustScaler(),\n",
    "        StandardScaler(),\n",
    "        PowerTransformer()\n",
    "    ],\n",
    "    'classifier__n_estimators': list(np.arange(5,50,1)),\n",
    "    'classifier__max_features': list(np.arange(2,9,1)),\n",
    "    'classifier__bootstrap': [True, False],\n",
    "    \n",
    "}"
   ]
  },
  {
   "cell_type": "code",
   "execution_count": 537,
   "metadata": {},
   "outputs": [],
   "source": [
    "#to be able to excatly reproduce the values we want to fix the seed, thus we initiate the Kfold for the GridSearch separetly and as follow:\n",
    "kfold = KFold(n_splits = 5, random_state = 15)"
   ]
  },
  {
   "cell_type": "code",
   "execution_count": 538,
   "metadata": {},
   "outputs": [],
   "source": [
    "mod_A_clf = GridSearchCV(\n",
    "    mod_A_pipe, \n",
    "    mod_A_param_grid, \n",
    "    cv = kfold, \n",
    "    verbose = 2,\n",
    "    n_jobs = -1,\n",
    "    return_train_score=True,\n",
    "    scoring='accuracy'\n",
    ")"
   ]
  },
  {
   "cell_type": "code",
   "execution_count": 539,
   "metadata": {},
   "outputs": [
    {
     "name": "stdout",
     "output_type": "stream",
     "text": [
      "Fitting 5 folds for each of 3150 candidates, totalling 15750 fits\n"
     ]
    },
    {
     "name": "stderr",
     "output_type": "stream",
     "text": [
      "[Parallel(n_jobs=-1)]: Using backend LokyBackend with 16 concurrent workers.\n",
      "[Parallel(n_jobs=-1)]: Done   9 tasks      | elapsed:    5.5s\n",
      "[Parallel(n_jobs=-1)]: Done 130 tasks      | elapsed:   15.8s\n"
     ]
    },
    {
     "ename": "KeyboardInterrupt",
     "evalue": "",
     "output_type": "error",
     "traceback": [
      "\u001b[0;31m---------------------------------------------------------------------------\u001b[0m",
      "\u001b[0;31mKeyboardInterrupt\u001b[0m                         Traceback (most recent call last)",
      "\u001b[0;32m<ipython-input-539-3b76e9b24025>\u001b[0m in \u001b[0;36m<module>\u001b[0;34m\u001b[0m\n\u001b[0;32m----> 1\u001b[0;31m \u001b[0mmod_A\u001b[0m \u001b[0;34m=\u001b[0m \u001b[0mmod_A_clf\u001b[0m\u001b[0;34m.\u001b[0m\u001b[0mfit\u001b[0m\u001b[0;34m(\u001b[0m\u001b[0mX\u001b[0m\u001b[0;34m,\u001b[0m \u001b[0my\u001b[0m\u001b[0;34m)\u001b[0m\u001b[0;34m\u001b[0m\u001b[0;34m\u001b[0m\u001b[0m\n\u001b[0m",
      "\u001b[0;32m//anaconda3/lib/python3.7/site-packages/sklearn/model_selection/_search.py\u001b[0m in \u001b[0;36mfit\u001b[0;34m(self, X, y, groups, **fit_params)\u001b[0m\n\u001b[1;32m    708\u001b[0m                 \u001b[0;32mreturn\u001b[0m \u001b[0mresults\u001b[0m\u001b[0;34m\u001b[0m\u001b[0;34m\u001b[0m\u001b[0m\n\u001b[1;32m    709\u001b[0m \u001b[0;34m\u001b[0m\u001b[0m\n\u001b[0;32m--> 710\u001b[0;31m             \u001b[0mself\u001b[0m\u001b[0;34m.\u001b[0m\u001b[0m_run_search\u001b[0m\u001b[0;34m(\u001b[0m\u001b[0mevaluate_candidates\u001b[0m\u001b[0;34m)\u001b[0m\u001b[0;34m\u001b[0m\u001b[0;34m\u001b[0m\u001b[0m\n\u001b[0m\u001b[1;32m    711\u001b[0m \u001b[0;34m\u001b[0m\u001b[0m\n\u001b[1;32m    712\u001b[0m         \u001b[0;31m# For multi-metric evaluation, store the best_index_, best_params_ and\u001b[0m\u001b[0;34m\u001b[0m\u001b[0;34m\u001b[0m\u001b[0;34m\u001b[0m\u001b[0m\n",
      "\u001b[0;32m//anaconda3/lib/python3.7/site-packages/sklearn/model_selection/_search.py\u001b[0m in \u001b[0;36m_run_search\u001b[0;34m(self, evaluate_candidates)\u001b[0m\n\u001b[1;32m   1149\u001b[0m     \u001b[0;32mdef\u001b[0m \u001b[0m_run_search\u001b[0m\u001b[0;34m(\u001b[0m\u001b[0mself\u001b[0m\u001b[0;34m,\u001b[0m \u001b[0mevaluate_candidates\u001b[0m\u001b[0;34m)\u001b[0m\u001b[0;34m:\u001b[0m\u001b[0;34m\u001b[0m\u001b[0;34m\u001b[0m\u001b[0m\n\u001b[1;32m   1150\u001b[0m         \u001b[0;34m\"\"\"Search all candidates in param_grid\"\"\"\u001b[0m\u001b[0;34m\u001b[0m\u001b[0;34m\u001b[0m\u001b[0m\n\u001b[0;32m-> 1151\u001b[0;31m         \u001b[0mevaluate_candidates\u001b[0m\u001b[0;34m(\u001b[0m\u001b[0mParameterGrid\u001b[0m\u001b[0;34m(\u001b[0m\u001b[0mself\u001b[0m\u001b[0;34m.\u001b[0m\u001b[0mparam_grid\u001b[0m\u001b[0;34m)\u001b[0m\u001b[0;34m)\u001b[0m\u001b[0;34m\u001b[0m\u001b[0;34m\u001b[0m\u001b[0m\n\u001b[0m\u001b[1;32m   1152\u001b[0m \u001b[0;34m\u001b[0m\u001b[0m\n\u001b[1;32m   1153\u001b[0m \u001b[0;34m\u001b[0m\u001b[0m\n",
      "\u001b[0;32m//anaconda3/lib/python3.7/site-packages/sklearn/model_selection/_search.py\u001b[0m in \u001b[0;36mevaluate_candidates\u001b[0;34m(candidate_params)\u001b[0m\n\u001b[1;32m    687\u001b[0m                                \u001b[0;32mfor\u001b[0m \u001b[0mparameters\u001b[0m\u001b[0;34m,\u001b[0m \u001b[0;34m(\u001b[0m\u001b[0mtrain\u001b[0m\u001b[0;34m,\u001b[0m \u001b[0mtest\u001b[0m\u001b[0;34m)\u001b[0m\u001b[0;34m\u001b[0m\u001b[0;34m\u001b[0m\u001b[0m\n\u001b[1;32m    688\u001b[0m                                in product(candidate_params,\n\u001b[0;32m--> 689\u001b[0;31m                                           cv.split(X, y, groups)))\n\u001b[0m\u001b[1;32m    690\u001b[0m \u001b[0;34m\u001b[0m\u001b[0m\n\u001b[1;32m    691\u001b[0m                 \u001b[0;32mif\u001b[0m \u001b[0mlen\u001b[0m\u001b[0;34m(\u001b[0m\u001b[0mout\u001b[0m\u001b[0;34m)\u001b[0m \u001b[0;34m<\u001b[0m \u001b[0;36m1\u001b[0m\u001b[0;34m:\u001b[0m\u001b[0;34m\u001b[0m\u001b[0;34m\u001b[0m\u001b[0m\n",
      "\u001b[0;32m//anaconda3/lib/python3.7/site-packages/joblib/parallel.py\u001b[0m in \u001b[0;36m__call__\u001b[0;34m(self, iterable)\u001b[0m\n\u001b[1;32m   1015\u001b[0m \u001b[0;34m\u001b[0m\u001b[0m\n\u001b[1;32m   1016\u001b[0m             \u001b[0;32mwith\u001b[0m \u001b[0mself\u001b[0m\u001b[0;34m.\u001b[0m\u001b[0m_backend\u001b[0m\u001b[0;34m.\u001b[0m\u001b[0mretrieval_context\u001b[0m\u001b[0;34m(\u001b[0m\u001b[0;34m)\u001b[0m\u001b[0;34m:\u001b[0m\u001b[0;34m\u001b[0m\u001b[0;34m\u001b[0m\u001b[0m\n\u001b[0;32m-> 1017\u001b[0;31m                 \u001b[0mself\u001b[0m\u001b[0;34m.\u001b[0m\u001b[0mretrieve\u001b[0m\u001b[0;34m(\u001b[0m\u001b[0;34m)\u001b[0m\u001b[0;34m\u001b[0m\u001b[0;34m\u001b[0m\u001b[0m\n\u001b[0m\u001b[1;32m   1018\u001b[0m             \u001b[0;31m# Make sure that we get a last message telling us we are done\u001b[0m\u001b[0;34m\u001b[0m\u001b[0;34m\u001b[0m\u001b[0;34m\u001b[0m\u001b[0m\n\u001b[1;32m   1019\u001b[0m             \u001b[0melapsed_time\u001b[0m \u001b[0;34m=\u001b[0m \u001b[0mtime\u001b[0m\u001b[0;34m.\u001b[0m\u001b[0mtime\u001b[0m\u001b[0;34m(\u001b[0m\u001b[0;34m)\u001b[0m \u001b[0;34m-\u001b[0m \u001b[0mself\u001b[0m\u001b[0;34m.\u001b[0m\u001b[0m_start_time\u001b[0m\u001b[0;34m\u001b[0m\u001b[0;34m\u001b[0m\u001b[0m\n",
      "\u001b[0;32m//anaconda3/lib/python3.7/site-packages/joblib/parallel.py\u001b[0m in \u001b[0;36mretrieve\u001b[0;34m(self)\u001b[0m\n\u001b[1;32m    907\u001b[0m             \u001b[0;32mtry\u001b[0m\u001b[0;34m:\u001b[0m\u001b[0;34m\u001b[0m\u001b[0;34m\u001b[0m\u001b[0m\n\u001b[1;32m    908\u001b[0m                 \u001b[0;32mif\u001b[0m \u001b[0mgetattr\u001b[0m\u001b[0;34m(\u001b[0m\u001b[0mself\u001b[0m\u001b[0;34m.\u001b[0m\u001b[0m_backend\u001b[0m\u001b[0;34m,\u001b[0m \u001b[0;34m'supports_timeout'\u001b[0m\u001b[0;34m,\u001b[0m \u001b[0;32mFalse\u001b[0m\u001b[0;34m)\u001b[0m\u001b[0;34m:\u001b[0m\u001b[0;34m\u001b[0m\u001b[0;34m\u001b[0m\u001b[0m\n\u001b[0;32m--> 909\u001b[0;31m                     \u001b[0mself\u001b[0m\u001b[0;34m.\u001b[0m\u001b[0m_output\u001b[0m\u001b[0;34m.\u001b[0m\u001b[0mextend\u001b[0m\u001b[0;34m(\u001b[0m\u001b[0mjob\u001b[0m\u001b[0;34m.\u001b[0m\u001b[0mget\u001b[0m\u001b[0;34m(\u001b[0m\u001b[0mtimeout\u001b[0m\u001b[0;34m=\u001b[0m\u001b[0mself\u001b[0m\u001b[0;34m.\u001b[0m\u001b[0mtimeout\u001b[0m\u001b[0;34m)\u001b[0m\u001b[0;34m)\u001b[0m\u001b[0;34m\u001b[0m\u001b[0;34m\u001b[0m\u001b[0m\n\u001b[0m\u001b[1;32m    910\u001b[0m                 \u001b[0;32melse\u001b[0m\u001b[0;34m:\u001b[0m\u001b[0;34m\u001b[0m\u001b[0;34m\u001b[0m\u001b[0m\n\u001b[1;32m    911\u001b[0m                     \u001b[0mself\u001b[0m\u001b[0;34m.\u001b[0m\u001b[0m_output\u001b[0m\u001b[0;34m.\u001b[0m\u001b[0mextend\u001b[0m\u001b[0;34m(\u001b[0m\u001b[0mjob\u001b[0m\u001b[0;34m.\u001b[0m\u001b[0mget\u001b[0m\u001b[0;34m(\u001b[0m\u001b[0;34m)\u001b[0m\u001b[0;34m)\u001b[0m\u001b[0;34m\u001b[0m\u001b[0;34m\u001b[0m\u001b[0m\n",
      "\u001b[0;32m//anaconda3/lib/python3.7/site-packages/joblib/_parallel_backends.py\u001b[0m in \u001b[0;36mwrap_future_result\u001b[0;34m(future, timeout)\u001b[0m\n\u001b[1;32m    560\u001b[0m         AsyncResults.get from multiprocessing.\"\"\"\n\u001b[1;32m    561\u001b[0m         \u001b[0;32mtry\u001b[0m\u001b[0;34m:\u001b[0m\u001b[0;34m\u001b[0m\u001b[0;34m\u001b[0m\u001b[0m\n\u001b[0;32m--> 562\u001b[0;31m             \u001b[0;32mreturn\u001b[0m \u001b[0mfuture\u001b[0m\u001b[0;34m.\u001b[0m\u001b[0mresult\u001b[0m\u001b[0;34m(\u001b[0m\u001b[0mtimeout\u001b[0m\u001b[0;34m=\u001b[0m\u001b[0mtimeout\u001b[0m\u001b[0;34m)\u001b[0m\u001b[0;34m\u001b[0m\u001b[0;34m\u001b[0m\u001b[0m\n\u001b[0m\u001b[1;32m    563\u001b[0m         \u001b[0;32mexcept\u001b[0m \u001b[0mLokyTimeoutError\u001b[0m\u001b[0;34m:\u001b[0m\u001b[0;34m\u001b[0m\u001b[0;34m\u001b[0m\u001b[0m\n\u001b[1;32m    564\u001b[0m             \u001b[0;32mraise\u001b[0m \u001b[0mTimeoutError\u001b[0m\u001b[0;34m(\u001b[0m\u001b[0;34m)\u001b[0m\u001b[0;34m\u001b[0m\u001b[0;34m\u001b[0m\u001b[0m\n",
      "\u001b[0;32m//anaconda3/lib/python3.7/concurrent/futures/_base.py\u001b[0m in \u001b[0;36mresult\u001b[0;34m(self, timeout)\u001b[0m\n\u001b[1;32m    428\u001b[0m                 \u001b[0;32mreturn\u001b[0m \u001b[0mself\u001b[0m\u001b[0;34m.\u001b[0m\u001b[0m__get_result\u001b[0m\u001b[0;34m(\u001b[0m\u001b[0;34m)\u001b[0m\u001b[0;34m\u001b[0m\u001b[0;34m\u001b[0m\u001b[0m\n\u001b[1;32m    429\u001b[0m \u001b[0;34m\u001b[0m\u001b[0m\n\u001b[0;32m--> 430\u001b[0;31m             \u001b[0mself\u001b[0m\u001b[0;34m.\u001b[0m\u001b[0m_condition\u001b[0m\u001b[0;34m.\u001b[0m\u001b[0mwait\u001b[0m\u001b[0;34m(\u001b[0m\u001b[0mtimeout\u001b[0m\u001b[0;34m)\u001b[0m\u001b[0;34m\u001b[0m\u001b[0;34m\u001b[0m\u001b[0m\n\u001b[0m\u001b[1;32m    431\u001b[0m \u001b[0;34m\u001b[0m\u001b[0m\n\u001b[1;32m    432\u001b[0m             \u001b[0;32mif\u001b[0m \u001b[0mself\u001b[0m\u001b[0;34m.\u001b[0m\u001b[0m_state\u001b[0m \u001b[0;32min\u001b[0m \u001b[0;34m[\u001b[0m\u001b[0mCANCELLED\u001b[0m\u001b[0;34m,\u001b[0m \u001b[0mCANCELLED_AND_NOTIFIED\u001b[0m\u001b[0;34m]\u001b[0m\u001b[0;34m:\u001b[0m\u001b[0;34m\u001b[0m\u001b[0;34m\u001b[0m\u001b[0m\n",
      "\u001b[0;32m//anaconda3/lib/python3.7/threading.py\u001b[0m in \u001b[0;36mwait\u001b[0;34m(self, timeout)\u001b[0m\n\u001b[1;32m    294\u001b[0m         \u001b[0;32mtry\u001b[0m\u001b[0;34m:\u001b[0m    \u001b[0;31m# restore state no matter what (e.g., KeyboardInterrupt)\u001b[0m\u001b[0;34m\u001b[0m\u001b[0;34m\u001b[0m\u001b[0m\n\u001b[1;32m    295\u001b[0m             \u001b[0;32mif\u001b[0m \u001b[0mtimeout\u001b[0m \u001b[0;32mis\u001b[0m \u001b[0;32mNone\u001b[0m\u001b[0;34m:\u001b[0m\u001b[0;34m\u001b[0m\u001b[0;34m\u001b[0m\u001b[0m\n\u001b[0;32m--> 296\u001b[0;31m                 \u001b[0mwaiter\u001b[0m\u001b[0;34m.\u001b[0m\u001b[0macquire\u001b[0m\u001b[0;34m(\u001b[0m\u001b[0;34m)\u001b[0m\u001b[0;34m\u001b[0m\u001b[0;34m\u001b[0m\u001b[0m\n\u001b[0m\u001b[1;32m    297\u001b[0m                 \u001b[0mgotit\u001b[0m \u001b[0;34m=\u001b[0m \u001b[0;32mTrue\u001b[0m\u001b[0;34m\u001b[0m\u001b[0;34m\u001b[0m\u001b[0m\n\u001b[1;32m    298\u001b[0m             \u001b[0;32melse\u001b[0m\u001b[0;34m:\u001b[0m\u001b[0;34m\u001b[0m\u001b[0;34m\u001b[0m\u001b[0m\n",
      "\u001b[0;31mKeyboardInterrupt\u001b[0m: "
     ]
    }
   ],
   "source": [
    "mod_A = mod_A_clf.fit(X, y)"
   ]
  },
  {
   "cell_type": "code",
   "execution_count": null,
   "metadata": {},
   "outputs": [],
   "source": [
    "mod_A.best_params_"
   ]
  },
  {
   "cell_type": "code",
   "execution_count": null,
   "metadata": {},
   "outputs": [],
   "source": [
    "print('Mean: ', mod_A.cv_results_['mean_test_score'][mod_A.best_index_])\n",
    "print('Split 1: ', mod_A.cv_results_['split0_test_score'][mod_A.best_index_])\n",
    "print('Split 2: ', mod_A.cv_results_['split1_test_score'][mod_A.best_index_])\n",
    "print('Split 3: ', mod_A.cv_results_['split2_test_score'][mod_A.best_index_])\n",
    "print('Split 4: ', mod_A.cv_results_['split3_test_score'][mod_A.best_index_])\n",
    "print('Split 5: ', mod_A.cv_results_['split4_test_score'][mod_A.best_index_])"
   ]
  },
  {
   "cell_type": "markdown",
   "metadata": {},
   "source": [
    "**Prediction**"
   ]
  },
  {
   "cell_type": "code",
   "execution_count": null,
   "metadata": {},
   "outputs": [],
   "source": [
    "mod_A_labels_predict = mod_A.predict(df_test_copy)"
   ]
  },
  {
   "cell_type": "code",
   "execution_count": null,
   "metadata": {},
   "outputs": [],
   "source": [
    "labels_df_A = pd.DataFrame(data = mod_A_labels_predict)"
   ]
  },
  {
   "cell_type": "code",
   "execution_count": null,
   "metadata": {},
   "outputs": [],
   "source": [
    "df_test['Deceased'] = labels_df_A"
   ]
  },
  {
   "cell_type": "code",
   "execution_count": null,
   "metadata": {},
   "outputs": [],
   "source": [
    "#export to csv according to sample\n",
    "df_test.to_csv('m20190876_v1.csv',columns=['Patient_ID','Deceased'],index=False)"
   ]
  },
  {
   "cell_type": "markdown",
   "metadata": {},
   "source": [
    "### Model B.1 - Decision Tree"
   ]
  },
  {
   "cell_type": "code",
   "execution_count": 204,
   "metadata": {},
   "outputs": [
    {
     "ename": "AttributeError",
     "evalue": "'DecisionTreeClassifier' object has no attribute 'cost_complexity_pruning_path'",
     "output_type": "error",
     "traceback": [
      "\u001b[1;31m---------------------------------------------------------------------------\u001b[0m",
      "\u001b[1;31mAttributeError\u001b[0m                            Traceback (most recent call last)",
      "\u001b[1;32m<ipython-input-204-8166cd506efb>\u001b[0m in \u001b[0;36m<module>\u001b[1;34m\u001b[0m\n\u001b[0;32m      1\u001b[0m \u001b[0mmod_B_clf\u001b[0m \u001b[1;33m=\u001b[0m \u001b[0mDecisionTreeClassifier\u001b[0m\u001b[1;33m(\u001b[0m\u001b[0mrandom_state\u001b[0m\u001b[1;33m=\u001b[0m\u001b[1;36m15\u001b[0m\u001b[1;33m)\u001b[0m\u001b[1;33m\u001b[0m\u001b[1;33m\u001b[0m\u001b[0m\n\u001b[1;32m----> 2\u001b[1;33m \u001b[0mpath\u001b[0m \u001b[1;33m=\u001b[0m \u001b[0mmod_B_clf\u001b[0m\u001b[1;33m.\u001b[0m\u001b[0mcost_complexity_pruning_path\u001b[0m\u001b[1;33m(\u001b[0m\u001b[0mX_train_F\u001b[0m\u001b[1;33m,\u001b[0m \u001b[0my_train\u001b[0m\u001b[1;33m)\u001b[0m\u001b[1;33m\u001b[0m\u001b[1;33m\u001b[0m\u001b[0m\n\u001b[0m\u001b[0;32m      3\u001b[0m \u001b[0mccp_alphas\u001b[0m\u001b[1;33m,\u001b[0m \u001b[0mimpurities\u001b[0m \u001b[1;33m=\u001b[0m \u001b[0mpath\u001b[0m\u001b[1;33m.\u001b[0m\u001b[0mccp_alphas\u001b[0m\u001b[1;33m,\u001b[0m \u001b[0mpath\u001b[0m\u001b[1;33m.\u001b[0m\u001b[0mimpurities\u001b[0m\u001b[1;33m\u001b[0m\u001b[1;33m\u001b[0m\u001b[0m\n\u001b[0;32m      4\u001b[0m \u001b[0mclfs\u001b[0m \u001b[1;33m=\u001b[0m \u001b[1;33m[\u001b[0m\u001b[1;33m]\u001b[0m\u001b[1;33m\u001b[0m\u001b[1;33m\u001b[0m\u001b[0m\n\u001b[0;32m      5\u001b[0m \u001b[1;32mfor\u001b[0m \u001b[0mccp_alpha\u001b[0m \u001b[1;32min\u001b[0m \u001b[0mccp_alphas\u001b[0m\u001b[1;33m:\u001b[0m\u001b[1;33m\u001b[0m\u001b[1;33m\u001b[0m\u001b[0m\n",
      "\u001b[1;31mAttributeError\u001b[0m: 'DecisionTreeClassifier' object has no attribute 'cost_complexity_pruning_path'"
     ]
    }
   ],
   "source": [
    "mod_B_clf = DecisionTreeClassifier(random_state=15)\n",
    "path = mod_B_clf.cost_complexity_pruning_path(X_train, y_train)\n",
    "ccp_alphas, impurities = path.ccp_alphas, path.impurities\n",
    "clfs = []\n",
    "for ccp_alpha in ccp_alphas:\n",
    "    mod_B_clf = DecisionTreeClassifier(random_state=15, ccp_alpha=ccp_alpha)\n",
    "    mod_B_clf.fit(X_train, y_train)\n",
    "    clfs.append(clf)"
   ]
  },
  {
   "cell_type": "code",
   "execution_count": 102,
   "metadata": {},
   "outputs": [],
   "source": [
    "scaler=MinMaxScaler()\n",
    "columns=X.columns\n",
    "X=pd.DataFrame(scaler.fit_transform(X))\n",
    "X.columns=columns\n",
    "df_test_copy=pd.DataFrame(scaler.transform(df_test_copy))\n",
    "df_test_copy.columns=columns"
   ]
  },
  {
   "cell_type": "markdown",
   "metadata": {},
   "source": [
    "### Model B.2 - Ada Boost"
   ]
  },
  {
   "cell_type": "code",
   "execution_count": 214,
   "metadata": {},
   "outputs": [
    {
     "name": "stdout",
     "output_type": "stream",
     "text": [
      "Fitting 5 folds for each of 12 candidates, totalling 60 fits\n"
     ]
    },
    {
     "name": "stderr",
     "output_type": "stream",
     "text": [
      "[Parallel(n_jobs=-1)]: Using backend LokyBackend with 4 concurrent workers.\n",
      "[Parallel(n_jobs=-1)]: Done  10 tasks      | elapsed:    0.9s\n",
      "[Parallel(n_jobs=-1)]: Done  60 out of  60 | elapsed:    7.1s finished\n"
     ]
    },
    {
     "data": {
      "text/plain": [
       "GridSearchCV(cv=5, error_score='raise-deprecating',\n",
       "             estimator=AdaBoostClassifier(algorithm='SAMME.R',\n",
       "                                          base_estimator=None,\n",
       "                                          learning_rate=1.0, n_estimators=50,\n",
       "                                          random_state=None),\n",
       "             iid='warn', n_jobs=-1,\n",
       "             param_grid={'algorithm': ['SAMME.R'],\n",
       "                         'learning_rate': [1.0, 0.9, 0.8],\n",
       "                         'n_estimators': [100, 150, 200, 250]},\n",
       "             pre_dispatch='2*n_jobs', refit=True, return_train_score=False,\n",
       "             scoring=None, verbose=5)"
      ]
     },
     "execution_count": 214,
     "metadata": {},
     "output_type": "execute_result"
    }
   ],
   "source": [
    "parameter_space = {\n",
    "    'n_estimators':[100,150,200,250],\n",
    "    'learning_rate':[1.0,0.9,0.8],\n",
    "    'algorithm':['SAMME.R']\n",
    "}\n",
    "model=AdaBoostClassifier()\n",
    "clf_adaboost = GridSearchCV(model, parameter_space,n_jobs=-1,verbose=5,cv=5)\n",
    "clf_adaboost.fit(X_train,y_train)"
   ]
  },
  {
   "cell_type": "code",
   "execution_count": 215,
   "metadata": {},
   "outputs": [
    {
     "name": "stdout",
     "output_type": "stream",
     "text": [
      "------------------------------------------------------------------------------------------------------------------------\n",
      "Best parameters found:\n",
      " {'algorithm': 'SAMME.R', 'learning_rate': 0.8, 'n_estimators': 150}\n",
      "------------------------------------------------------------------------------------------------------------------------\n"
     ]
    }
   ],
   "source": [
    "# Best parameter set\n",
    "print('------------------------------------------------------------------------------------------------------------------------')\n",
    "print('Best parameters found:\\n', clf_adaboost.best_params_)\n",
    "print('------------------------------------------------------------------------------------------------------------------------')\n",
    "\n",
    "# All results\n",
    "means = clf_adaboost.cv_results_['mean_test_score']\n",
    "stds = clf_adaboost.cv_results_['std_test_score']\n",
    "for mean, std, params in zip(means, stds, clf_adaboost.cv_results_['params']):\n",
    "    if mean>.98:\n",
    "        print(\"%0.3f (+/-%0.03f) for %r\" % (mean, std , params))"
   ]
  },
  {
   "cell_type": "code",
   "execution_count": 216,
   "metadata": {},
   "outputs": [
    {
     "data": {
      "text/plain": [
       "0.7944444444444444"
      ]
     },
     "execution_count": 216,
     "metadata": {},
     "output_type": "execute_result"
    }
   ],
   "source": [
    "clf_adaboost.score(X_val,y_val)"
   ]
  },
  {
   "cell_type": "markdown",
   "metadata": {},
   "source": [
    "### Model B.3 - Gradient Boost"
   ]
  },
  {
   "cell_type": "code",
   "execution_count": 223,
   "metadata": {},
   "outputs": [
    {
     "name": "stdout",
     "output_type": "stream",
     "text": [
      "Fitting 5 folds for each of 16 candidates, totalling 80 fits\n"
     ]
    },
    {
     "name": "stderr",
     "output_type": "stream",
     "text": [
      "[Parallel(n_jobs=-1)]: Using backend LokyBackend with 4 concurrent workers.\n",
      "[Parallel(n_jobs=-1)]: Done  10 tasks      | elapsed:    0.4s\n",
      "[Parallel(n_jobs=-1)]: Done  64 tasks      | elapsed:    2.5s\n",
      "[Parallel(n_jobs=-1)]: Done  80 out of  80 | elapsed:    3.0s finished\n"
     ]
    },
    {
     "data": {
      "text/plain": [
       "GridSearchCV(cv=5, error_score='raise-deprecating',\n",
       "             estimator=GradientBoostingClassifier(criterion='friedman_mse',\n",
       "                                                  init=None, learning_rate=0.1,\n",
       "                                                  loss='deviance', max_depth=3,\n",
       "                                                  max_features=None,\n",
       "                                                  max_leaf_nodes=None,\n",
       "                                                  min_impurity_decrease=0.0,\n",
       "                                                  min_impurity_split=None,\n",
       "                                                  min_samples_leaf=1,\n",
       "                                                  min_samples_split=2,\n",
       "                                                  min_weight_fraction_leaf=0.0,\n",
       "                                                  n_estimators=100,\n",
       "                                                  n_iter_no...\n",
       "                                                  presort='auto',\n",
       "                                                  random_state=None,\n",
       "                                                  subsample=1.0, tol=0.0001,\n",
       "                                                  validation_fraction=0.1,\n",
       "                                                  verbose=0, warm_start=False),\n",
       "             iid='warn', n_jobs=-1,\n",
       "             param_grid={'loss': ['exponential'], 'max_depth': [7, 9, 11, 13],\n",
       "                         'max_features': [None],\n",
       "                         'min_samples_leaf': [10, 20, 50, 100],\n",
       "                         'n_estimators': [60]},\n",
       "             pre_dispatch='2*n_jobs', refit=True, return_train_score=False,\n",
       "             scoring=None, verbose=5)"
      ]
     },
     "execution_count": 223,
     "metadata": {},
     "output_type": "execute_result"
    }
   ],
   "source": [
    "parameter_space = {\n",
    "    'loss':[ 'exponential'],\n",
    "    'n_estimators':[60],\n",
    "    'max_depth':[7,9,11,13],\n",
    "    'min_samples_leaf':[10,20,50,100],\n",
    "    'max_features':[None]\n",
    "    \n",
    "    \n",
    "    \n",
    "}\n",
    "model=GradientBoostingClassifier()\n",
    "clf_gradboost = GridSearchCV(model, parameter_space,n_jobs=-1,verbose=5,cv=5)\n",
    "clf_gradboost.fit(X_train,y_train)"
   ]
  },
  {
   "cell_type": "code",
   "execution_count": 224,
   "metadata": {},
   "outputs": [
    {
     "name": "stdout",
     "output_type": "stream",
     "text": [
      "------------------------------------------------------------------------------------------------------------------------\n",
      "Best parameters found:\n",
      " {'loss': 'exponential', 'max_depth': 13, 'max_features': None, 'min_samples_leaf': 20, 'n_estimators': 60}\n",
      "------------------------------------------------------------------------------------------------------------------------\n"
     ]
    }
   ],
   "source": [
    "# Best parameter set\n",
    "print('------------------------------------------------------------------------------------------------------------------------')\n",
    "print('Best parameters found:\\n', clf_gradboost.best_params_)\n",
    "print('------------------------------------------------------------------------------------------------------------------------')\n",
    "\n",
    "# All results\n",
    "means = clf_gradboost.cv_results_['mean_test_score']\n",
    "stds = clf_gradboost.cv_results_['std_test_score']\n",
    "for mean, std, params in zip(means, stds, clf_gradboost.cv_results_['params']):\n",
    "    if mean>.98:\n",
    "        print(\"%0.3f (+/-%0.03f) for %r\" % (mean, std , params))"
   ]
  },
  {
   "cell_type": "code",
   "execution_count": 225,
   "metadata": {},
   "outputs": [
    {
     "data": {
      "text/plain": [
       "0.8"
      ]
     },
     "execution_count": 225,
     "metadata": {},
     "output_type": "execute_result"
    }
   ],
   "source": [
    "clf_gradboost.score(X_val,y_val)"
   ]
  },
  {
   "cell_type": "markdown",
   "metadata": {},
   "source": [
    "### Model B.4 - Random Forest"
   ]
  },
  {
   "cell_type": "code",
   "execution_count": 229,
   "metadata": {},
   "outputs": [
    {
     "name": "stdout",
     "output_type": "stream",
     "text": [
      "Fitting 5 folds for each of 196 candidates, totalling 980 fits\n"
     ]
    },
    {
     "name": "stderr",
     "output_type": "stream",
     "text": [
      "[Parallel(n_jobs=-1)]: Using backend LokyBackend with 4 concurrent workers.\n",
      "[Parallel(n_jobs=-1)]: Done  12 tasks      | elapsed:    0.7s\n",
      "[Parallel(n_jobs=-1)]: Done 120 tasks      | elapsed:    7.4s\n",
      "[Parallel(n_jobs=-1)]: Done 300 tasks      | elapsed:   16.8s\n",
      "[Parallel(n_jobs=-1)]: Done 552 tasks      | elapsed:   29.4s\n",
      "[Parallel(n_jobs=-1)]: Done 876 tasks      | elapsed:   46.1s\n",
      "[Parallel(n_jobs=-1)]: Done 980 out of 980 | elapsed:   51.0s finished\n"
     ]
    },
    {
     "data": {
      "text/plain": [
       "GridSearchCV(cv=5, error_score='raise-deprecating',\n",
       "             estimator=RandomForestClassifier(bootstrap=True, class_weight=None,\n",
       "                                              criterion='gini', max_depth=None,\n",
       "                                              max_features='auto',\n",
       "                                              max_leaf_nodes=None,\n",
       "                                              min_impurity_decrease=0.0,\n",
       "                                              min_impurity_split=None,\n",
       "                                              min_samples_leaf=1,\n",
       "                                              min_samples_split=2,\n",
       "                                              min_weight_fraction_leaf=0.0,\n",
       "                                              n_estimators='warn', n_jobs=None,\n",
       "                                              oob_score=False,\n",
       "                                              random_state=None, verbose=0,\n",
       "                                              warm_start=False),\n",
       "             iid='warn', n_jobs=-1,\n",
       "             param_grid={'bootstrap': [True], 'criterion': ['entropy'],\n",
       "                         'max_depth': [7, 8, 9, 10, 11, 12, 13],\n",
       "                         'max_features': [None],\n",
       "                         'min_samples_leaf': [1, 2, 3, 4, 5, 10, 20],\n",
       "                         'n_estimators': [60, 80, 100, 120],\n",
       "                         'oob_score': [True]},\n",
       "             pre_dispatch='2*n_jobs', refit=True, return_train_score=False,\n",
       "             scoring=None, verbose=5)"
      ]
     },
     "execution_count": 229,
     "metadata": {},
     "output_type": "execute_result"
    }
   ],
   "source": [
    "parameter_space = {\n",
    "    'n_estimators':[60,80,100,120],\n",
    "    'criterion':['entropy'],\n",
    "    'max_depth':[7,8,9,10,11,12,13],\n",
    "    'oob_score':[True],\n",
    "    'bootstrap':[True],\n",
    "    'min_samples_leaf':[1,2,3,4,5,10,20],\n",
    "    'max_features':[None]\n",
    "    \n",
    "}\n",
    "model=RandomForestClassifier()\n",
    "clf_randforest = GridSearchCV(model, parameter_space,n_jobs=-1,verbose=5,cv=5)\n",
    "clf_randforest.fit(X_train,y_train)"
   ]
  },
  {
   "cell_type": "code",
   "execution_count": 230,
   "metadata": {},
   "outputs": [
    {
     "name": "stdout",
     "output_type": "stream",
     "text": [
      "------------------------------------------------------------------------------------------------------------------------\n",
      "Best parameters found:\n",
      " {'bootstrap': True, 'criterion': 'entropy', 'max_depth': 7, 'max_features': None, 'min_samples_leaf': 2, 'n_estimators': 120, 'oob_score': True}\n",
      "------------------------------------------------------------------------------------------------------------------------\n"
     ]
    }
   ],
   "source": [
    "# Best parameter set\n",
    "print('------------------------------------------------------------------------------------------------------------------------')\n",
    "print('Best parameters found:\\n', clf_randforest.best_params_)\n",
    "print('------------------------------------------------------------------------------------------------------------------------')\n",
    "\n",
    "# All results\n",
    "means = clf_randforest.cv_results_['mean_test_score']\n",
    "stds = clf_randforest.cv_results_['std_test_score']\n",
    "for mean, std, params in zip(means, stds, clf_randforest.cv_results_['params']):\n",
    "    if mean>.984:\n",
    "        print(\"%0.3f (+/-%0.03f) for %r\" % (mean, std , params))"
   ]
  },
  {
   "cell_type": "code",
   "execution_count": 231,
   "metadata": {},
   "outputs": [
    {
     "data": {
      "text/plain": [
       "0.7833333333333333"
      ]
     },
     "execution_count": 231,
     "metadata": {},
     "output_type": "execute_result"
    }
   ],
   "source": [
    "clf_randforest.score(X_val,y_val)"
   ]
  },
  {
   "cell_type": "markdown",
   "metadata": {},
   "source": [
    "### Model C - Neural Network"
   ]
  },
  {
   "cell_type": "code",
   "execution_count": 113,
   "metadata": {},
   "outputs": [
    {
     "name": "stderr",
     "output_type": "stream",
     "text": [
      "[Parallel(n_jobs=-1)]: Using backend LokyBackend with 16 concurrent workers.\n"
     ]
    },
    {
     "name": "stdout",
     "output_type": "stream",
     "text": [
      "Fitting 5 folds for each of 28 candidates, totalling 140 fits\n"
     ]
    },
    {
     "name": "stderr",
     "output_type": "stream",
     "text": [
      "[Parallel(n_jobs=-1)]: Done  48 tasks      | elapsed:    0.7s\n",
      "[Parallel(n_jobs=-1)]: Done 138 out of 140 | elapsed:    1.7s remaining:    0.0s\n",
      "[Parallel(n_jobs=-1)]: Done 140 out of 140 | elapsed:    1.7s finished\n"
     ]
    },
    {
     "data": {
      "text/plain": [
       "GridSearchCV(cv=5, error_score=nan,\n",
       "             estimator=MLPClassifier(activation='relu', alpha=0.0001,\n",
       "                                     batch_size='auto', beta_1=0.9,\n",
       "                                     beta_2=0.999, early_stopping=False,\n",
       "                                     epsilon=1e-08, hidden_layer_sizes=(100,),\n",
       "                                     learning_rate='constant',\n",
       "                                     learning_rate_init=0.001, max_fun=15000,\n",
       "                                     max_iter=200, momentum=0.9,\n",
       "                                     n_iter_no_change=10,\n",
       "                                     nesterovs_momentum=True, power_t=0.5,\n",
       "                                     random_state...\n",
       "                                     solver='adam', tol=0.0001,\n",
       "                                     validation_fraction=0.1, verbose=False,\n",
       "                                     warm_start=False),\n",
       "             iid='deprecated', n_jobs=-1,\n",
       "             param_grid={'activation': ['relu'],\n",
       "                         'hidden_layer_sizes': [(16, 16), (8, 8), (12, 12),\n",
       "                                                (16, 8)],\n",
       "                         'learning_rate': ['constant'],\n",
       "                         'max_iter': [50, 75, 100, 125, 150, 175, 200],\n",
       "                         'solver': ['lbfgs']},\n",
       "             pre_dispatch='2*n_jobs', refit=True, return_train_score=False,\n",
       "             scoring=None, verbose=5)"
      ]
     },
     "execution_count": 113,
     "metadata": {},
     "output_type": "execute_result"
    }
   ],
   "source": [
    "parameter_space = {\n",
    "    'hidden_layer_sizes':[(16,16),(8,8),(12,12),(16,8)],\n",
    "    'activation':[ 'relu'],\n",
    "    'solver':['lbfgs'],\n",
    "    'max_iter':[50,75,100,125,150,175,200],\n",
    "    'learning_rate':['constant'],\n",
    "    \n",
    "\n",
    "}\n",
    "model=MLPClassifier()\n",
    "clf_NN = GridSearchCV(model, parameter_space,n_jobs=-1,verbose=5,cv=5)\n",
    "clf_NN.fit(X_train,y_train)"
   ]
  },
  {
   "cell_type": "code",
   "execution_count": 114,
   "metadata": {},
   "outputs": [
    {
     "name": "stdout",
     "output_type": "stream",
     "text": [
      "------------------------------------------------------------------------------------------------------------------------\n",
      "Best parameters found:\n",
      " {'activation': 'relu', 'hidden_layer_sizes': (8, 8), 'learning_rate': 'constant', 'max_iter': 75, 'solver': 'lbfgs'}\n",
      "------------------------------------------------------------------------------------------------------------------------\n",
      "0.810 (+/-0.046) for {'activation': 'relu', 'hidden_layer_sizes': (16, 16), 'learning_rate': 'constant', 'max_iter': 50, 'solver': 'lbfgs'}\n",
      "0.803 (+/-0.041) for {'activation': 'relu', 'hidden_layer_sizes': (16, 16), 'learning_rate': 'constant', 'max_iter': 75, 'solver': 'lbfgs'}\n",
      "0.807 (+/-0.037) for {'activation': 'relu', 'hidden_layer_sizes': (16, 16), 'learning_rate': 'constant', 'max_iter': 100, 'solver': 'lbfgs'}\n",
      "0.808 (+/-0.047) for {'activation': 'relu', 'hidden_layer_sizes': (16, 16), 'learning_rate': 'constant', 'max_iter': 125, 'solver': 'lbfgs'}\n",
      "0.794 (+/-0.035) for {'activation': 'relu', 'hidden_layer_sizes': (16, 16), 'learning_rate': 'constant', 'max_iter': 150, 'solver': 'lbfgs'}\n",
      "0.806 (+/-0.043) for {'activation': 'relu', 'hidden_layer_sizes': (16, 16), 'learning_rate': 'constant', 'max_iter': 175, 'solver': 'lbfgs'}\n",
      "0.785 (+/-0.045) for {'activation': 'relu', 'hidden_layer_sizes': (16, 16), 'learning_rate': 'constant', 'max_iter': 200, 'solver': 'lbfgs'}\n",
      "0.806 (+/-0.040) for {'activation': 'relu', 'hidden_layer_sizes': (8, 8), 'learning_rate': 'constant', 'max_iter': 50, 'solver': 'lbfgs'}\n",
      "0.818 (+/-0.031) for {'activation': 'relu', 'hidden_layer_sizes': (8, 8), 'learning_rate': 'constant', 'max_iter': 75, 'solver': 'lbfgs'}\n",
      "0.808 (+/-0.050) for {'activation': 'relu', 'hidden_layer_sizes': (8, 8), 'learning_rate': 'constant', 'max_iter': 100, 'solver': 'lbfgs'}\n",
      "0.800 (+/-0.040) for {'activation': 'relu', 'hidden_layer_sizes': (8, 8), 'learning_rate': 'constant', 'max_iter': 125, 'solver': 'lbfgs'}\n",
      "0.792 (+/-0.038) for {'activation': 'relu', 'hidden_layer_sizes': (8, 8), 'learning_rate': 'constant', 'max_iter': 150, 'solver': 'lbfgs'}\n",
      "0.799 (+/-0.038) for {'activation': 'relu', 'hidden_layer_sizes': (8, 8), 'learning_rate': 'constant', 'max_iter': 175, 'solver': 'lbfgs'}\n",
      "0.794 (+/-0.046) for {'activation': 'relu', 'hidden_layer_sizes': (8, 8), 'learning_rate': 'constant', 'max_iter': 200, 'solver': 'lbfgs'}\n",
      "0.810 (+/-0.052) for {'activation': 'relu', 'hidden_layer_sizes': (12, 12), 'learning_rate': 'constant', 'max_iter': 50, 'solver': 'lbfgs'}\n",
      "0.797 (+/-0.041) for {'activation': 'relu', 'hidden_layer_sizes': (12, 12), 'learning_rate': 'constant', 'max_iter': 75, 'solver': 'lbfgs'}\n",
      "0.796 (+/-0.039) for {'activation': 'relu', 'hidden_layer_sizes': (12, 12), 'learning_rate': 'constant', 'max_iter': 100, 'solver': 'lbfgs'}\n",
      "0.793 (+/-0.040) for {'activation': 'relu', 'hidden_layer_sizes': (12, 12), 'learning_rate': 'constant', 'max_iter': 125, 'solver': 'lbfgs'}\n",
      "0.807 (+/-0.028) for {'activation': 'relu', 'hidden_layer_sizes': (12, 12), 'learning_rate': 'constant', 'max_iter': 150, 'solver': 'lbfgs'}\n",
      "0.792 (+/-0.045) for {'activation': 'relu', 'hidden_layer_sizes': (12, 12), 'learning_rate': 'constant', 'max_iter': 175, 'solver': 'lbfgs'}\n",
      "0.779 (+/-0.047) for {'activation': 'relu', 'hidden_layer_sizes': (12, 12), 'learning_rate': 'constant', 'max_iter': 200, 'solver': 'lbfgs'}\n",
      "0.817 (+/-0.029) for {'activation': 'relu', 'hidden_layer_sizes': (16, 8), 'learning_rate': 'constant', 'max_iter': 50, 'solver': 'lbfgs'}\n",
      "0.810 (+/-0.037) for {'activation': 'relu', 'hidden_layer_sizes': (16, 8), 'learning_rate': 'constant', 'max_iter': 75, 'solver': 'lbfgs'}\n",
      "0.806 (+/-0.043) for {'activation': 'relu', 'hidden_layer_sizes': (16, 8), 'learning_rate': 'constant', 'max_iter': 100, 'solver': 'lbfgs'}\n",
      "0.810 (+/-0.038) for {'activation': 'relu', 'hidden_layer_sizes': (16, 8), 'learning_rate': 'constant', 'max_iter': 125, 'solver': 'lbfgs'}\n",
      "0.793 (+/-0.044) for {'activation': 'relu', 'hidden_layer_sizes': (16, 8), 'learning_rate': 'constant', 'max_iter': 150, 'solver': 'lbfgs'}\n",
      "0.790 (+/-0.037) for {'activation': 'relu', 'hidden_layer_sizes': (16, 8), 'learning_rate': 'constant', 'max_iter': 175, 'solver': 'lbfgs'}\n",
      "0.792 (+/-0.040) for {'activation': 'relu', 'hidden_layer_sizes': (16, 8), 'learning_rate': 'constant', 'max_iter': 200, 'solver': 'lbfgs'}\n"
     ]
    }
   ],
   "source": [
    "# Best parameter set\n",
    "print('------------------------------------------------------------------------------------------------------------------------')\n",
    "print('Best parameters found:\\n', clf_NN.best_params_)\n",
    "print('------------------------------------------------------------------------------------------------------------------------')\n",
    "\n",
    "# All results\n",
    "means = clf_NN.cv_results_['mean_test_score']\n",
    "stds = clf_NN.cv_results_['std_test_score']\n",
    "for mean, std, params in zip(means, stds, clf_NN.cv_results_['params']):\n",
    "    if mean>.1:\n",
    "        print(\"%0.3f (+/-%0.03f) for %r\" % (mean, std , params))"
   ]
  },
  {
   "cell_type": "code",
   "execution_count": 115,
   "metadata": {},
   "outputs": [
    {
     "data": {
      "text/plain": [
       "0.7888888888888889"
      ]
     },
     "execution_count": 115,
     "metadata": {},
     "output_type": "execute_result"
    }
   ],
   "source": [
    "clf_NN.score(X_val,y_val)"
   ]
  },
  {
   "cell_type": "markdown",
   "metadata": {},
   "source": [
    "### Model D - KNN"
   ]
  },
  {
   "cell_type": "code",
   "execution_count": 116,
   "metadata": {},
   "outputs": [
    {
     "name": "stderr",
     "output_type": "stream",
     "text": [
      "[Parallel(n_jobs=-1)]: Using backend LokyBackend with 16 concurrent workers.\n"
     ]
    },
    {
     "name": "stdout",
     "output_type": "stream",
     "text": [
      "Fitting 5 folds for each of 240 candidates, totalling 1200 fits\n"
     ]
    },
    {
     "name": "stderr",
     "output_type": "stream",
     "text": [
      "[Parallel(n_jobs=-1)]: Done  48 tasks      | elapsed:    0.2s\n",
      "[Parallel(n_jobs=-1)]: Done 496 tasks      | elapsed:    1.6s\n",
      "[Parallel(n_jobs=-1)]: Done 1168 tasks      | elapsed:    2.9s\n",
      "[Parallel(n_jobs=-1)]: Done 1200 out of 1200 | elapsed:    3.0s finished\n"
     ]
    },
    {
     "data": {
      "text/plain": [
       "GridSearchCV(cv=5, error_score=nan,\n",
       "             estimator=KNeighborsClassifier(algorithm='auto', leaf_size=30,\n",
       "                                            metric='minkowski',\n",
       "                                            metric_params=None, n_jobs=None,\n",
       "                                            n_neighbors=5, p=2,\n",
       "                                            weights='uniform'),\n",
       "             iid='deprecated', n_jobs=-1,\n",
       "             param_grid={'algorithm': ['auto', 'ball_tree', 'kd_tree', 'brute'],\n",
       "                         'leaf_size': [10, 20, 30, 40, 50, 60, 70, 80, 90, 100],\n",
       "                         'n_neighbors': [21, 23, 25, 27, 29, 31], 'p': [1],\n",
       "                         'weights': ['uniform']},\n",
       "             pre_dispatch='2*n_jobs', refit=True, return_train_score=False,\n",
       "             scoring=None, verbose=5)"
      ]
     },
     "execution_count": 116,
     "metadata": {},
     "output_type": "execute_result"
    }
   ],
   "source": [
    "parameter_space = {\n",
    "    'n_neighbors':[21,23,25,27,29,31],\n",
    "    'weights':['uniform'],\n",
    "    'algorithm':['auto', 'ball_tree', 'kd_tree', 'brute'],\n",
    "    'leaf_size':[10,20,30,40,50,60,70,80,90,100],\n",
    "    'p':[1]\n",
    "    \n",
    "\n",
    "}\n",
    "model=KNeighborsClassifier()\n",
    "clf_KNN = GridSearchCV(model, parameter_space,n_jobs=-1,verbose=5,cv=5)\n",
    "clf_KNN.fit(X_train,y_train)"
   ]
  },
  {
   "cell_type": "code",
   "execution_count": 117,
   "metadata": {},
   "outputs": [
    {
     "name": "stdout",
     "output_type": "stream",
     "text": [
      "------------------------------------------------------------------------------------------------------------------------\n",
      "Best parameters found:\n",
      " {'algorithm': 'auto', 'leaf_size': 10, 'n_neighbors': 23, 'p': 1, 'weights': 'uniform'}\n",
      "------------------------------------------------------------------------------------------------------------------------\n"
     ]
    }
   ],
   "source": [
    "# Best parameter set\n",
    "print('------------------------------------------------------------------------------------------------------------------------')\n",
    "print('Best parameters found:\\n', clf_KNN.best_params_)\n",
    "print('------------------------------------------------------------------------------------------------------------------------')\n",
    "\n",
    "# All results\n",
    "means = clf_KNN.cv_results_['mean_test_score']\n",
    "stds = clf_KNN.cv_results_['std_test_score']\n",
    "for mean, std, params in zip(means, stds, clf_KNN.cv_results_['params']):\n",
    "    if mean>.818:\n",
    "        print(\"%0.3f (+/-%0.03f) for %r\" % (mean, std , params))"
   ]
  },
  {
   "cell_type": "code",
   "execution_count": 118,
   "metadata": {},
   "outputs": [
    {
     "data": {
      "text/plain": [
       "0.8055555555555556"
      ]
     },
     "execution_count": 118,
     "metadata": {},
     "output_type": "execute_result"
    }
   ],
   "source": [
    "clf_KNN.score(X_val,y_val)"
   ]
  },
  {
   "cell_type": "markdown",
   "metadata": {},
   "source": [
    "### Model E - SVM"
   ]
  },
  {
   "cell_type": "markdown",
   "metadata": {},
   "source": [
    "### Model F - Logistic Regression"
   ]
  },
  {
   "cell_type": "code",
   "execution_count": 119,
   "metadata": {},
   "outputs": [
    {
     "name": "stderr",
     "output_type": "stream",
     "text": [
      "[Parallel(n_jobs=-1)]: Using backend LokyBackend with 16 concurrent workers.\n"
     ]
    },
    {
     "name": "stdout",
     "output_type": "stream",
     "text": [
      "Fitting 5 folds for each of 40 candidates, totalling 200 fits\n"
     ]
    },
    {
     "name": "stderr",
     "output_type": "stream",
     "text": [
      "[Parallel(n_jobs=-1)]: Done  48 tasks      | elapsed:    0.1s\n",
      "[Parallel(n_jobs=-1)]: Done 200 out of 200 | elapsed:    0.4s finished\n"
     ]
    },
    {
     "data": {
      "text/plain": [
       "GridSearchCV(cv=5, error_score=nan,\n",
       "             estimator=LogisticRegression(C=1.0, class_weight=None, dual=False,\n",
       "                                          fit_intercept=True,\n",
       "                                          intercept_scaling=1, l1_ratio=None,\n",
       "                                          max_iter=100, multi_class='auto',\n",
       "                                          n_jobs=None, penalty='l2',\n",
       "                                          random_state=None, solver='lbfgs',\n",
       "                                          tol=0.0001, verbose=0,\n",
       "                                          warm_start=False),\n",
       "             iid='deprecated', n_jobs=-1,\n",
       "             param_grid={'fit_intercept': [True, False],\n",
       "                         'multi_class': ['ovr', 'multinomial'],\n",
       "                         'penalty': ['l1', 'l2'],\n",
       "                         'solver': ['newton-cg', 'lbfgs', 'liblinear', 'sag',\n",
       "                                    'saga']},\n",
       "             pre_dispatch='2*n_jobs', refit=True, return_train_score=False,\n",
       "             scoring=None, verbose=5)"
      ]
     },
     "execution_count": 119,
     "metadata": {},
     "output_type": "execute_result"
    }
   ],
   "source": [
    "parameter_space = {\n",
    "    'penalty':['l1', 'l2'],\n",
    "    #'dual': [False],\n",
    "    #'tol':[1e-4,],\n",
    "   # 'C':[1.0],\n",
    "    'fit_intercept':[True,False],\n",
    "    'solver':['newton-cg', 'lbfgs', 'liblinear', 'sag', 'saga'],\n",
    "    'multi_class':['ovr', 'multinomial']\n",
    "}\n",
    "model=LogisticRegression()\n",
    "clf_logreg = GridSearchCV(model, parameter_space,n_jobs=-1,verbose=5,cv=5)\n",
    "clf_logreg.fit(X_train,y_train)"
   ]
  },
  {
   "cell_type": "code",
   "execution_count": 120,
   "metadata": {},
   "outputs": [
    {
     "name": "stdout",
     "output_type": "stream",
     "text": [
      "------------------------------------------------------------------------------------------------------------------------\n",
      "Best parameters found:\n",
      " {'fit_intercept': True, 'multi_class': 'ovr', 'penalty': 'l2', 'solver': 'newton-cg'}\n",
      "------------------------------------------------------------------------------------------------------------------------\n"
     ]
    }
   ],
   "source": [
    "# Best parameter set\n",
    "print('------------------------------------------------------------------------------------------------------------------------')\n",
    "print('Best parameters found:\\n', clf_logreg.best_params_)\n",
    "print('------------------------------------------------------------------------------------------------------------------------')\n",
    "\n",
    "# All results\n",
    "means = clf_logreg.cv_results_['mean_test_score']\n",
    "stds = clf_logreg.cv_results_['std_test_score']\n",
    "for mean, std, params in zip(means, stds, clf_logreg.cv_results_['params']):\n",
    "    if mean>.818:\n",
    "        print(\"%0.3f (+/-%0.03f) for %r\" % (mean, std , params))"
   ]
  },
  {
   "cell_type": "code",
   "execution_count": 121,
   "metadata": {},
   "outputs": [
    {
     "data": {
      "text/plain": [
       "0.8222222222222222"
      ]
     },
     "execution_count": 121,
     "metadata": {},
     "output_type": "execute_result"
    }
   ],
   "source": [
    "clf_logreg.score(X_val,y_val)"
   ]
  },
  {
   "cell_type": "markdown",
   "metadata": {},
   "source": [
    "## 5. Bagging / Stacking / Voting Classifier"
   ]
  },
  {
   "cell_type": "markdown",
   "metadata": {},
   "source": [
    "### Bagging"
   ]
  },
  {
   "cell_type": "code",
   "execution_count": null,
   "metadata": {},
   "outputs": [],
   "source": [
    "modelKNN = KNeighborsClassifier()\n",
    "bagging_KNN = BaggingClassifier(base_estimator = modelKNN, random_state = 5)\n"
   ]
  },
  {
   "cell_type": "code",
   "execution_count": null,
   "metadata": {},
   "outputs": [],
   "source": []
  },
  {
   "cell_type": "code",
   "execution_count": null,
   "metadata": {},
   "outputs": [],
   "source": [
    "NN=MLPClassifier(hidden_layer_sizes=(16,16))\n",
    "bagging_NN = BaggingClassifier(base_estimator = NN, random_state = 5)"
   ]
  },
  {
   "cell_type": "markdown",
   "metadata": {},
   "source": [
    "### Stacking"
   ]
  },
  {
   "cell_type": "code",
   "execution_count": null,
   "metadata": {},
   "outputs": [],
   "source": [
    "estimators = [#('rf', RandomForestClassifier(random_state=5)),\n",
    "    ('ab',AdaBoostClassifier(algorithm= 'SAMME.R', learning_rate= 1.0, n_estimators= 100,random_state = 5)),\n",
    "    ('xgb',XGBClassifier(\n",
    "                    colsample_bytree = 1.0, \n",
    "                    eta = 0.63, \n",
    "                    max_depth = 2\n",
    "                )),\n",
    "    ('knn',KNeighborsClassifier()),\n",
    "    ('nn',MLPClassifier(hidden_layer_sizes=(16,16))),\n",
    "              ]"
   ]
  },
  {
   "cell_type": "code",
   "execution_count": null,
   "metadata": {},
   "outputs": [],
   "source": [
    "SC = StackingClassifier(estimators=estimators, final_estimator=LogisticRegression())"
   ]
  },
  {
   "cell_type": "markdown",
   "metadata": {},
   "source": [
    "### Voting Classifier"
   ]
  },
  {
   "cell_type": "code",
   "execution_count": 122,
   "metadata": {},
   "outputs": [],
   "source": [
    "VC = VotingClassifier(estimators=[('lr', clf_logreg), ('rf', clf_randforest), ('gb',clf_gradboost), \n",
    "                                  ('ab',clf_adaboost), ('mlp',clf_NN), ('knn',clf_KNN)], voting='soft')"
   ]
  },
  {
   "cell_type": "code",
   "execution_count": 123,
   "metadata": {},
   "outputs": [
    {
     "name": "stdout",
     "output_type": "stream",
     "text": [
      "Fitting 5 folds for each of 40 candidates, totalling 200 fits\n"
     ]
    },
    {
     "name": "stderr",
     "output_type": "stream",
     "text": [
      "[Parallel(n_jobs=-1)]: Using backend LokyBackend with 16 concurrent workers.\n",
      "[Parallel(n_jobs=-1)]: Done  48 tasks      | elapsed:    0.1s\n",
      "[Parallel(n_jobs=-1)]: Done 200 out of 200 | elapsed:    0.3s finished\n",
      "[Parallel(n_jobs=-1)]: Using backend LokyBackend with 16 concurrent workers.\n"
     ]
    },
    {
     "name": "stdout",
     "output_type": "stream",
     "text": [
      "Fitting 5 folds for each of 196 candidates, totalling 980 fits\n"
     ]
    },
    {
     "name": "stderr",
     "output_type": "stream",
     "text": [
      "[Parallel(n_jobs=-1)]: Done  48 tasks      | elapsed:    1.2s\n",
      "[Parallel(n_jobs=-1)]: Done 228 tasks      | elapsed:    5.1s\n",
      "[Parallel(n_jobs=-1)]: Done 480 tasks      | elapsed:   11.5s\n",
      "[Parallel(n_jobs=-1)]: Done 738 tasks      | elapsed:   18.5s\n",
      "[Parallel(n_jobs=-1)]: Done 936 tasks      | elapsed:   23.7s\n",
      "[Parallel(n_jobs=-1)]: Done 980 out of 980 | elapsed:   24.7s finished\n",
      "[Parallel(n_jobs=-1)]: Using backend LokyBackend with 16 concurrent workers.\n"
     ]
    },
    {
     "name": "stdout",
     "output_type": "stream",
     "text": [
      "Fitting 5 folds for each of 16 candidates, totalling 80 fits\n"
     ]
    },
    {
     "name": "stderr",
     "output_type": "stream",
     "text": [
      "[Parallel(n_jobs=-1)]: Done  66 out of  80 | elapsed:    0.7s remaining:    0.2s\n",
      "[Parallel(n_jobs=-1)]: Done  80 out of  80 | elapsed:    0.8s finished\n"
     ]
    },
    {
     "name": "stdout",
     "output_type": "stream",
     "text": [
      "Fitting 5 folds for each of 12 candidates, totalling 60 fits\n"
     ]
    },
    {
     "name": "stderr",
     "output_type": "stream",
     "text": [
      "[Parallel(n_jobs=-1)]: Using backend LokyBackend with 16 concurrent workers.\n",
      "[Parallel(n_jobs=-1)]: Done  42 out of  60 | elapsed:    1.5s remaining:    0.6s\n",
      "[Parallel(n_jobs=-1)]: Done  55 out of  60 | elapsed:    1.9s remaining:    0.2s\n",
      "[Parallel(n_jobs=-1)]: Done  60 out of  60 | elapsed:    2.1s finished\n",
      "[Parallel(n_jobs=-1)]: Using backend LokyBackend with 16 concurrent workers.\n"
     ]
    },
    {
     "name": "stdout",
     "output_type": "stream",
     "text": [
      "Fitting 5 folds for each of 28 candidates, totalling 140 fits\n"
     ]
    },
    {
     "name": "stderr",
     "output_type": "stream",
     "text": [
      "[Parallel(n_jobs=-1)]: Done  48 tasks      | elapsed:    0.7s\n",
      "[Parallel(n_jobs=-1)]: Done 138 out of 140 | elapsed:    1.6s remaining:    0.0s\n",
      "[Parallel(n_jobs=-1)]: Done 140 out of 140 | elapsed:    1.7s finished\n",
      "[Parallel(n_jobs=-1)]: Using backend LokyBackend with 16 concurrent workers.\n"
     ]
    },
    {
     "name": "stdout",
     "output_type": "stream",
     "text": [
      "Fitting 5 folds for each of 240 candidates, totalling 1200 fits\n"
     ]
    },
    {
     "name": "stderr",
     "output_type": "stream",
     "text": [
      "[Parallel(n_jobs=-1)]: Done  48 tasks      | elapsed:    0.2s\n",
      "[Parallel(n_jobs=-1)]: Done 496 tasks      | elapsed:    1.5s\n",
      "[Parallel(n_jobs=-1)]: Done 1168 tasks      | elapsed:    3.1s\n",
      "[Parallel(n_jobs=-1)]: Done 1200 out of 1200 | elapsed:    3.2s finished\n"
     ]
    },
    {
     "data": {
      "text/plain": [
       "VotingClassifier(estimators=[('lr',\n",
       "                              GridSearchCV(cv=5, error_score=nan,\n",
       "                                           estimator=LogisticRegression(C=1.0,\n",
       "                                                                        class_weight=None,\n",
       "                                                                        dual=False,\n",
       "                                                                        fit_intercept=True,\n",
       "                                                                        intercept_scaling=1,\n",
       "                                                                        l1_ratio=None,\n",
       "                                                                        max_iter=100,\n",
       "                                                                        multi_class='auto',\n",
       "                                                                        n_jobs=None,\n",
       "                                                                        penalty='l2',\n",
       "                                                                        random_state=None,\n",
       "                                                                        solver='lbfgs',\n",
       "                                                                        tol=0.0001,\n",
       "                                                                        verbose=0,\n",
       "                                                                        warm_start=False),\n",
       "                                           iid='deprecated', n_jobs=-1,\n",
       "                                           param_gr...\n",
       "                                                                          weights='uniform'),\n",
       "                                           iid='deprecated', n_jobs=-1,\n",
       "                                           param_grid={'algorithm': ['auto',\n",
       "                                                                     'ball_tree',\n",
       "                                                                     'kd_tree',\n",
       "                                                                     'brute'],\n",
       "                                                       'leaf_size': [10, 20, 30,\n",
       "                                                                     40, 50, 60,\n",
       "                                                                     70, 80, 90,\n",
       "                                                                     100],\n",
       "                                                       'n_neighbors': [21, 23,\n",
       "                                                                       25, 27,\n",
       "                                                                       29, 31],\n",
       "                                                       'p': [1],\n",
       "                                                       'weights': ['uniform']},\n",
       "                                           pre_dispatch='2*n_jobs', refit=True,\n",
       "                                           return_train_score=False,\n",
       "                                           scoring=None, verbose=5))],\n",
       "                 flatten_transform=True, n_jobs=None, voting='soft',\n",
       "                 weights=None)"
      ]
     },
     "execution_count": 123,
     "metadata": {},
     "output_type": "execute_result"
    }
   ],
   "source": [
    "VC.fit(X_train,y_train)"
   ]
  },
  {
   "cell_type": "code",
   "execution_count": 124,
   "metadata": {},
   "outputs": [
    {
     "data": {
      "text/plain": [
       "0.8333333333333334"
      ]
     },
     "execution_count": 124,
     "metadata": {},
     "output_type": "execute_result"
    }
   ],
   "source": [
    "VC.score(X_val,y_val)"
   ]
  },
  {
   "cell_type": "code",
   "execution_count": null,
   "metadata": {},
   "outputs": [],
   "source": []
  },
  {
   "cell_type": "code",
   "execution_count": 90,
   "metadata": {},
   "outputs": [
    {
     "name": "stdout",
     "output_type": "stream",
     "text": [
      "Fitting 5 folds for each of 40 candidates, totalling 200 fits\n"
     ]
    },
    {
     "name": "stderr",
     "output_type": "stream",
     "text": [
      "[Parallel(n_jobs=-1)]: Using backend LokyBackend with 16 concurrent workers.\n",
      "[Parallel(n_jobs=-1)]: Done  48 tasks      | elapsed:    0.1s\n",
      "[Parallel(n_jobs=-1)]: Done 200 out of 200 | elapsed:    0.3s finished\n",
      "[Parallel(n_jobs=-1)]: Using backend LokyBackend with 16 concurrent workers.\n"
     ]
    },
    {
     "name": "stdout",
     "output_type": "stream",
     "text": [
      "Fitting 5 folds for each of 196 candidates, totalling 980 fits\n"
     ]
    },
    {
     "name": "stderr",
     "output_type": "stream",
     "text": [
      "[Parallel(n_jobs=-1)]: Done  48 tasks      | elapsed:    1.1s\n",
      "[Parallel(n_jobs=-1)]: Done 228 tasks      | elapsed:    4.3s\n",
      "[Parallel(n_jobs=-1)]: Done 480 tasks      | elapsed:   10.4s\n",
      "[Parallel(n_jobs=-1)]: Done 804 tasks      | elapsed:   18.9s\n",
      "[Parallel(n_jobs=-1)]: Done 949 out of 980 | elapsed:   22.6s remaining:    0.7s\n",
      "[Parallel(n_jobs=-1)]: Done 980 out of 980 | elapsed:   23.4s finished\n",
      "[Parallel(n_jobs=-1)]: Using backend LokyBackend with 16 concurrent workers.\n"
     ]
    },
    {
     "name": "stdout",
     "output_type": "stream",
     "text": [
      "Fitting 5 folds for each of 16 candidates, totalling 80 fits\n"
     ]
    },
    {
     "name": "stderr",
     "output_type": "stream",
     "text": [
      "[Parallel(n_jobs=-1)]: Done  66 out of  80 | elapsed:    0.9s remaining:    0.2s\n",
      "[Parallel(n_jobs=-1)]: Done  80 out of  80 | elapsed:    0.9s finished\n",
      "[Parallel(n_jobs=-1)]: Using backend LokyBackend with 16 concurrent workers.\n"
     ]
    },
    {
     "name": "stdout",
     "output_type": "stream",
     "text": [
      "Fitting 5 folds for each of 12 candidates, totalling 60 fits\n"
     ]
    },
    {
     "name": "stderr",
     "output_type": "stream",
     "text": [
      "[Parallel(n_jobs=-1)]: Done  42 out of  60 | elapsed:    1.9s remaining:    0.8s\n",
      "[Parallel(n_jobs=-1)]: Done  55 out of  60 | elapsed:    2.4s remaining:    0.2s\n",
      "[Parallel(n_jobs=-1)]: Done  60 out of  60 | elapsed:    2.6s finished\n",
      "[Parallel(n_jobs=-1)]: Using backend LokyBackend with 16 concurrent workers.\n"
     ]
    },
    {
     "name": "stdout",
     "output_type": "stream",
     "text": [
      "Fitting 5 folds for each of 28 candidates, totalling 140 fits\n"
     ]
    },
    {
     "name": "stderr",
     "output_type": "stream",
     "text": [
      "[Parallel(n_jobs=-1)]: Done  48 tasks      | elapsed:    0.9s\n",
      "[Parallel(n_jobs=-1)]: Done 138 out of 140 | elapsed:    2.1s remaining:    0.0s\n",
      "[Parallel(n_jobs=-1)]: Done 140 out of 140 | elapsed:    2.1s finished\n",
      "[Parallel(n_jobs=-1)]: Using backend LokyBackend with 16 concurrent workers.\n"
     ]
    },
    {
     "name": "stdout",
     "output_type": "stream",
     "text": [
      "Fitting 5 folds for each of 240 candidates, totalling 1200 fits\n"
     ]
    },
    {
     "name": "stderr",
     "output_type": "stream",
     "text": [
      "[Parallel(n_jobs=-1)]: Done  48 tasks      | elapsed:    0.2s\n",
      "[Parallel(n_jobs=-1)]: Done 496 tasks      | elapsed:    1.0s\n",
      "[Parallel(n_jobs=-1)]: Done 1168 tasks      | elapsed:    2.0s\n",
      "[Parallel(n_jobs=-1)]: Done 1200 out of 1200 | elapsed:    2.0s finished\n"
     ]
    },
    {
     "data": {
      "text/plain": [
       "VotingClassifier(estimators=[('lr',\n",
       "                              GridSearchCV(cv=5, error_score=nan,\n",
       "                                           estimator=LogisticRegression(C=1.0,\n",
       "                                                                        class_weight=None,\n",
       "                                                                        dual=False,\n",
       "                                                                        fit_intercept=True,\n",
       "                                                                        intercept_scaling=1,\n",
       "                                                                        l1_ratio=None,\n",
       "                                                                        max_iter=100,\n",
       "                                                                        multi_class='auto',\n",
       "                                                                        n_jobs=None,\n",
       "                                                                        penalty='l2',\n",
       "                                                                        random_state=None,\n",
       "                                                                        solver='lbfgs',\n",
       "                                                                        tol=0.0001,\n",
       "                                                                        verbose=0,\n",
       "                                                                        warm_start=False),\n",
       "                                           iid='deprecated', n_jobs=-1,\n",
       "                                           param_gr...\n",
       "                                                                          weights='uniform'),\n",
       "                                           iid='deprecated', n_jobs=-1,\n",
       "                                           param_grid={'algorithm': ['auto',\n",
       "                                                                     'ball_tree',\n",
       "                                                                     'kd_tree',\n",
       "                                                                     'brute'],\n",
       "                                                       'leaf_size': [10, 20, 30,\n",
       "                                                                     40, 50, 60,\n",
       "                                                                     70, 80, 90,\n",
       "                                                                     100],\n",
       "                                                       'n_neighbors': [21, 23,\n",
       "                                                                       25, 27,\n",
       "                                                                       29, 31],\n",
       "                                                       'p': [1],\n",
       "                                                       'weights': ['uniform']},\n",
       "                                           pre_dispatch='2*n_jobs', refit=True,\n",
       "                                           return_train_score=False,\n",
       "                                           scoring=None, verbose=5))],\n",
       "                 flatten_transform=True, n_jobs=None, voting='soft',\n",
       "                 weights=None)"
      ]
     },
     "execution_count": 90,
     "metadata": {},
     "output_type": "execute_result"
    }
   ],
   "source": [
    "VC.fit(X,y)"
   ]
  },
  {
   "cell_type": "code",
   "execution_count": 95,
   "metadata": {},
   "outputs": [
    {
     "data": {
      "text/html": [
       "<div>\n",
       "<style scoped>\n",
       "    .dataframe tbody tr th:only-of-type {\n",
       "        vertical-align: middle;\n",
       "    }\n",
       "\n",
       "    .dataframe tbody tr th {\n",
       "        vertical-align: top;\n",
       "    }\n",
       "\n",
       "    .dataframe thead th {\n",
       "        text-align: right;\n",
       "    }\n",
       "</style>\n",
       "<table border=\"1\" class=\"dataframe\">\n",
       "  <thead>\n",
       "    <tr style=\"text-align: right;\">\n",
       "      <th></th>\n",
       "      <th>Severity</th>\n",
       "      <th>Birthday_year</th>\n",
       "      <th>Parents or siblings infected</th>\n",
       "      <th>Wife/Husband or children infected</th>\n",
       "      <th>Medical_Tent_No_tent</th>\n",
       "      <th>Medical_Tent_F</th>\n",
       "      <th>Medical_Tent_B</th>\n",
       "      <th>Medical_Tent_A</th>\n",
       "      <th>Medical_Tent_E</th>\n",
       "      <th>Medical_Tent_C</th>\n",
       "      <th>Medical_Tent_D</th>\n",
       "      <th>Medical_Tent_T</th>\n",
       "      <th>City_Santa Fe</th>\n",
       "      <th>City_Albuquerque</th>\n",
       "      <th>Gender_F</th>\n",
       "      <th>family_death_ratio</th>\n",
       "      <th>Expenses_pp</th>\n",
       "    </tr>\n",
       "  </thead>\n",
       "  <tbody>\n",
       "    <tr>\n",
       "      <th>0</th>\n",
       "      <td>1.0</td>\n",
       "      <td>0.632911</td>\n",
       "      <td>0.000000</td>\n",
       "      <td>0.000</td>\n",
       "      <td>1.0</td>\n",
       "      <td>0.0</td>\n",
       "      <td>0.0</td>\n",
       "      <td>0.0</td>\n",
       "      <td>0.0</td>\n",
       "      <td>0.0</td>\n",
       "      <td>0.0</td>\n",
       "      <td>1.0</td>\n",
       "      <td>0.0</td>\n",
       "      <td>0.0</td>\n",
       "      <td>0.0</td>\n",
       "      <td>0.0</td>\n",
       "      <td>0.014151</td>\n",
       "    </tr>\n",
       "    <tr>\n",
       "      <th>1</th>\n",
       "      <td>1.0</td>\n",
       "      <td>0.607595</td>\n",
       "      <td>0.000000</td>\n",
       "      <td>0.000</td>\n",
       "      <td>1.0</td>\n",
       "      <td>0.0</td>\n",
       "      <td>0.0</td>\n",
       "      <td>0.0</td>\n",
       "      <td>0.0</td>\n",
       "      <td>0.0</td>\n",
       "      <td>0.0</td>\n",
       "      <td>1.0</td>\n",
       "      <td>0.0</td>\n",
       "      <td>0.0</td>\n",
       "      <td>0.0</td>\n",
       "      <td>1.0</td>\n",
       "      <td>0.043987</td>\n",
       "    </tr>\n",
       "    <tr>\n",
       "      <th>2</th>\n",
       "      <td>1.0</td>\n",
       "      <td>0.518987</td>\n",
       "      <td>0.166667</td>\n",
       "      <td>0.000</td>\n",
       "      <td>1.0</td>\n",
       "      <td>0.0</td>\n",
       "      <td>0.0</td>\n",
       "      <td>0.0</td>\n",
       "      <td>0.0</td>\n",
       "      <td>0.0</td>\n",
       "      <td>0.0</td>\n",
       "      <td>0.0</td>\n",
       "      <td>1.0</td>\n",
       "      <td>0.0</td>\n",
       "      <td>0.0</td>\n",
       "      <td>0.0</td>\n",
       "      <td>0.013106</td>\n",
       "    </tr>\n",
       "    <tr>\n",
       "      <th>3</th>\n",
       "      <td>1.0</td>\n",
       "      <td>0.632911</td>\n",
       "      <td>0.000000</td>\n",
       "      <td>0.125</td>\n",
       "      <td>1.0</td>\n",
       "      <td>0.0</td>\n",
       "      <td>0.0</td>\n",
       "      <td>0.0</td>\n",
       "      <td>0.0</td>\n",
       "      <td>0.0</td>\n",
       "      <td>0.0</td>\n",
       "      <td>0.0</td>\n",
       "      <td>1.0</td>\n",
       "      <td>0.0</td>\n",
       "      <td>0.0</td>\n",
       "      <td>0.0</td>\n",
       "      <td>0.014116</td>\n",
       "    </tr>\n",
       "    <tr>\n",
       "      <th>4</th>\n",
       "      <td>0.5</td>\n",
       "      <td>0.708861</td>\n",
       "      <td>0.000000</td>\n",
       "      <td>0.000</td>\n",
       "      <td>1.0</td>\n",
       "      <td>0.0</td>\n",
       "      <td>0.0</td>\n",
       "      <td>0.0</td>\n",
       "      <td>0.0</td>\n",
       "      <td>0.0</td>\n",
       "      <td>0.0</td>\n",
       "      <td>1.0</td>\n",
       "      <td>0.0</td>\n",
       "      <td>0.0</td>\n",
       "      <td>0.0</td>\n",
       "      <td>0.0</td>\n",
       "      <td>0.026351</td>\n",
       "    </tr>\n",
       "    <tr>\n",
       "      <th>...</th>\n",
       "      <td>...</td>\n",
       "      <td>...</td>\n",
       "      <td>...</td>\n",
       "      <td>...</td>\n",
       "      <td>...</td>\n",
       "      <td>...</td>\n",
       "      <td>...</td>\n",
       "      <td>...</td>\n",
       "      <td>...</td>\n",
       "      <td>...</td>\n",
       "      <td>...</td>\n",
       "      <td>...</td>\n",
       "      <td>...</td>\n",
       "      <td>...</td>\n",
       "      <td>...</td>\n",
       "      <td>...</td>\n",
       "      <td>...</td>\n",
       "    </tr>\n",
       "    <tr>\n",
       "      <th>395</th>\n",
       "      <td>1.0</td>\n",
       "      <td>0.632911</td>\n",
       "      <td>0.000000</td>\n",
       "      <td>0.000</td>\n",
       "      <td>1.0</td>\n",
       "      <td>0.0</td>\n",
       "      <td>0.0</td>\n",
       "      <td>0.0</td>\n",
       "      <td>0.0</td>\n",
       "      <td>0.0</td>\n",
       "      <td>0.0</td>\n",
       "      <td>1.0</td>\n",
       "      <td>0.0</td>\n",
       "      <td>0.0</td>\n",
       "      <td>0.0</td>\n",
       "      <td>0.0</td>\n",
       "      <td>0.015406</td>\n",
       "    </tr>\n",
       "    <tr>\n",
       "      <th>396</th>\n",
       "      <td>1.0</td>\n",
       "      <td>0.632911</td>\n",
       "      <td>0.000000</td>\n",
       "      <td>0.000</td>\n",
       "      <td>1.0</td>\n",
       "      <td>0.0</td>\n",
       "      <td>0.0</td>\n",
       "      <td>0.0</td>\n",
       "      <td>0.0</td>\n",
       "      <td>0.0</td>\n",
       "      <td>0.0</td>\n",
       "      <td>0.0</td>\n",
       "      <td>1.0</td>\n",
       "      <td>0.0</td>\n",
       "      <td>0.0</td>\n",
       "      <td>0.0</td>\n",
       "      <td>0.014082</td>\n",
       "    </tr>\n",
       "    <tr>\n",
       "      <th>397</th>\n",
       "      <td>0.0</td>\n",
       "      <td>0.683544</td>\n",
       "      <td>0.000000</td>\n",
       "      <td>0.125</td>\n",
       "      <td>0.0</td>\n",
       "      <td>0.0</td>\n",
       "      <td>1.0</td>\n",
       "      <td>0.0</td>\n",
       "      <td>0.0</td>\n",
       "      <td>0.0</td>\n",
       "      <td>0.0</td>\n",
       "      <td>0.0</td>\n",
       "      <td>1.0</td>\n",
       "      <td>1.0</td>\n",
       "      <td>0.0</td>\n",
       "      <td>0.0</td>\n",
       "      <td>0.133496</td>\n",
       "    </tr>\n",
       "    <tr>\n",
       "      <th>398</th>\n",
       "      <td>1.0</td>\n",
       "      <td>0.848101</td>\n",
       "      <td>0.333333</td>\n",
       "      <td>0.000</td>\n",
       "      <td>1.0</td>\n",
       "      <td>0.0</td>\n",
       "      <td>0.0</td>\n",
       "      <td>0.0</td>\n",
       "      <td>0.0</td>\n",
       "      <td>0.0</td>\n",
       "      <td>0.0</td>\n",
       "      <td>1.0</td>\n",
       "      <td>0.0</td>\n",
       "      <td>0.0</td>\n",
       "      <td>0.0</td>\n",
       "      <td>0.5</td>\n",
       "      <td>0.013175</td>\n",
       "    </tr>\n",
       "    <tr>\n",
       "      <th>399</th>\n",
       "      <td>0.0</td>\n",
       "      <td>0.443038</td>\n",
       "      <td>0.166667</td>\n",
       "      <td>0.000</td>\n",
       "      <td>0.0</td>\n",
       "      <td>0.0</td>\n",
       "      <td>0.0</td>\n",
       "      <td>0.0</td>\n",
       "      <td>0.0</td>\n",
       "      <td>0.0</td>\n",
       "      <td>1.0</td>\n",
       "      <td>0.0</td>\n",
       "      <td>1.0</td>\n",
       "      <td>1.0</td>\n",
       "      <td>0.0</td>\n",
       "      <td>0.0</td>\n",
       "      <td>0.061833</td>\n",
       "    </tr>\n",
       "  </tbody>\n",
       "</table>\n",
       "<p>400 rows × 17 columns</p>\n",
       "</div>"
      ],
      "text/plain": [
       "     Severity  Birthday_year  Parents or siblings infected  \\\n",
       "0         1.0       0.632911                      0.000000   \n",
       "1         1.0       0.607595                      0.000000   \n",
       "2         1.0       0.518987                      0.166667   \n",
       "3         1.0       0.632911                      0.000000   \n",
       "4         0.5       0.708861                      0.000000   \n",
       "..        ...            ...                           ...   \n",
       "395       1.0       0.632911                      0.000000   \n",
       "396       1.0       0.632911                      0.000000   \n",
       "397       0.0       0.683544                      0.000000   \n",
       "398       1.0       0.848101                      0.333333   \n",
       "399       0.0       0.443038                      0.166667   \n",
       "\n",
       "     Wife/Husband or children infected  Medical_Tent_No_tent  Medical_Tent_F  \\\n",
       "0                                0.000                   1.0             0.0   \n",
       "1                                0.000                   1.0             0.0   \n",
       "2                                0.000                   1.0             0.0   \n",
       "3                                0.125                   1.0             0.0   \n",
       "4                                0.000                   1.0             0.0   \n",
       "..                                 ...                   ...             ...   \n",
       "395                              0.000                   1.0             0.0   \n",
       "396                              0.000                   1.0             0.0   \n",
       "397                              0.125                   0.0             0.0   \n",
       "398                              0.000                   1.0             0.0   \n",
       "399                              0.000                   0.0             0.0   \n",
       "\n",
       "     Medical_Tent_B  Medical_Tent_A  Medical_Tent_E  Medical_Tent_C  \\\n",
       "0               0.0             0.0             0.0             0.0   \n",
       "1               0.0             0.0             0.0             0.0   \n",
       "2               0.0             0.0             0.0             0.0   \n",
       "3               0.0             0.0             0.0             0.0   \n",
       "4               0.0             0.0             0.0             0.0   \n",
       "..              ...             ...             ...             ...   \n",
       "395             0.0             0.0             0.0             0.0   \n",
       "396             0.0             0.0             0.0             0.0   \n",
       "397             1.0             0.0             0.0             0.0   \n",
       "398             0.0             0.0             0.0             0.0   \n",
       "399             0.0             0.0             0.0             0.0   \n",
       "\n",
       "     Medical_Tent_D  Medical_Tent_T  City_Santa Fe  City_Albuquerque  \\\n",
       "0               0.0             1.0            0.0               0.0   \n",
       "1               0.0             1.0            0.0               0.0   \n",
       "2               0.0             0.0            1.0               0.0   \n",
       "3               0.0             0.0            1.0               0.0   \n",
       "4               0.0             1.0            0.0               0.0   \n",
       "..              ...             ...            ...               ...   \n",
       "395             0.0             1.0            0.0               0.0   \n",
       "396             0.0             0.0            1.0               0.0   \n",
       "397             0.0             0.0            1.0               1.0   \n",
       "398             0.0             1.0            0.0               0.0   \n",
       "399             1.0             0.0            1.0               1.0   \n",
       "\n",
       "     Gender_F  family_death_ratio  Expenses_pp  \n",
       "0         0.0                 0.0     0.014151  \n",
       "1         0.0                 1.0     0.043987  \n",
       "2         0.0                 0.0     0.013106  \n",
       "3         0.0                 0.0     0.014116  \n",
       "4         0.0                 0.0     0.026351  \n",
       "..        ...                 ...          ...  \n",
       "395       0.0                 0.0     0.015406  \n",
       "396       0.0                 0.0     0.014082  \n",
       "397       0.0                 0.0     0.133496  \n",
       "398       0.0                 0.5     0.013175  \n",
       "399       0.0                 0.0     0.061833  \n",
       "\n",
       "[400 rows x 17 columns]"
      ]
     },
     "execution_count": 95,
     "metadata": {},
     "output_type": "execute_result"
    }
   ],
   "source": [
    "df_test_copy"
   ]
  },
  {
   "cell_type": "code",
   "execution_count": 91,
   "metadata": {},
   "outputs": [],
   "source": [
    "vc=VC.predict(df_test_copy)"
   ]
  },
  {
   "cell_type": "code",
   "execution_count": 92,
   "metadata": {},
   "outputs": [],
   "source": [
    "vers = pd.DataFrame( vc,df_test.Patient_ID.values )\n",
    "vers.rename(columns={0: \"Deceased\"},inplace=True)\n",
    "vers.rename_axis(\"Patient_ID\",inplace=True)\n"
   ]
  },
  {
   "cell_type": "code",
   "execution_count": 93,
   "metadata": {},
   "outputs": [
    {
     "data": {
      "text/html": [
       "<div>\n",
       "<style scoped>\n",
       "    .dataframe tbody tr th:only-of-type {\n",
       "        vertical-align: middle;\n",
       "    }\n",
       "\n",
       "    .dataframe tbody tr th {\n",
       "        vertical-align: top;\n",
       "    }\n",
       "\n",
       "    .dataframe thead th {\n",
       "        text-align: right;\n",
       "    }\n",
       "</style>\n",
       "<table border=\"1\" class=\"dataframe\">\n",
       "  <thead>\n",
       "    <tr style=\"text-align: right;\">\n",
       "      <th></th>\n",
       "      <th>Deceased</th>\n",
       "    </tr>\n",
       "    <tr>\n",
       "      <th>Patient_ID</th>\n",
       "      <th></th>\n",
       "    </tr>\n",
       "  </thead>\n",
       "  <tbody>\n",
       "    <tr>\n",
       "      <th>901</th>\n",
       "      <td>0</td>\n",
       "    </tr>\n",
       "    <tr>\n",
       "      <th>902</th>\n",
       "      <td>1</td>\n",
       "    </tr>\n",
       "    <tr>\n",
       "      <th>903</th>\n",
       "      <td>0</td>\n",
       "    </tr>\n",
       "    <tr>\n",
       "      <th>904</th>\n",
       "      <td>0</td>\n",
       "    </tr>\n",
       "    <tr>\n",
       "      <th>905</th>\n",
       "      <td>0</td>\n",
       "    </tr>\n",
       "    <tr>\n",
       "      <th>...</th>\n",
       "      <td>...</td>\n",
       "    </tr>\n",
       "    <tr>\n",
       "      <th>1296</th>\n",
       "      <td>0</td>\n",
       "    </tr>\n",
       "    <tr>\n",
       "      <th>1297</th>\n",
       "      <td>0</td>\n",
       "    </tr>\n",
       "    <tr>\n",
       "      <th>1298</th>\n",
       "      <td>0</td>\n",
       "    </tr>\n",
       "    <tr>\n",
       "      <th>1299</th>\n",
       "      <td>1</td>\n",
       "    </tr>\n",
       "    <tr>\n",
       "      <th>1300</th>\n",
       "      <td>0</td>\n",
       "    </tr>\n",
       "  </tbody>\n",
       "</table>\n",
       "<p>400 rows × 1 columns</p>\n",
       "</div>"
      ],
      "text/plain": [
       "            Deceased\n",
       "Patient_ID          \n",
       "901                0\n",
       "902                1\n",
       "903                0\n",
       "904                0\n",
       "905                0\n",
       "...              ...\n",
       "1296               0\n",
       "1297               0\n",
       "1298               0\n",
       "1299               1\n",
       "1300               0\n",
       "\n",
       "[400 rows x 1 columns]"
      ]
     },
     "execution_count": 93,
     "metadata": {},
     "output_type": "execute_result"
    }
   ],
   "source": [
    "vers"
   ]
  },
  {
   "cell_type": "code",
   "execution_count": 94,
   "metadata": {},
   "outputs": [],
   "source": [
    "vers.to_csv(f'versions/Group6_version__alex.csv', index=True)"
   ]
  },
  {
   "cell_type": "markdown",
   "metadata": {},
   "source": [
    "## 6. Performance Comparison and Final Thoughts"
   ]
  },
  {
   "cell_type": "code",
   "execution_count": null,
   "metadata": {},
   "outputs": [],
   "source": []
  }
 ],
 "metadata": {
  "kernelspec": {
   "display_name": "Python 3",
   "language": "python",
   "name": "python3"
  },
  "language_info": {
   "codemirror_mode": {
    "name": "ipython",
    "version": 3
   },
   "file_extension": ".py",
   "mimetype": "text/x-python",
   "name": "python",
   "nbconvert_exporter": "python",
   "pygments_lexer": "ipython3",
   "version": "3.7.3"
  },
  "toc": {
   "base_numbering": 1,
   "nav_menu": {},
   "number_sections": true,
   "sideBar": true,
   "skip_h1_title": false,
   "title_cell": "Table of Contents",
   "title_sidebar": "Contents",
   "toc_cell": false,
   "toc_position": {
    "height": "calc(100% - 180px)",
    "left": "10px",
    "top": "150px",
    "width": "273.188px"
   },
   "toc_section_display": true,
   "toc_window_display": true
  },
  "varInspector": {
   "cols": {
    "lenName": 16,
    "lenType": 16,
    "lenVar": 40
   },
   "kernels_config": {
    "python": {
     "delete_cmd_postfix": "",
     "delete_cmd_prefix": "del ",
     "library": "var_list.py",
     "varRefreshCmd": "print(var_dic_list())"
    },
    "r": {
     "delete_cmd_postfix": ") ",
     "delete_cmd_prefix": "rm(",
     "library": "var_list.r",
     "varRefreshCmd": "cat(var_dic_list()) "
    }
   },
   "types_to_exclude": [
    "module",
    "function",
    "builtin_function_or_method",
    "instance",
    "_Feature"
   ],
   "window_display": false
  }
 },
 "nbformat": 4,
 "nbformat_minor": 2
}
