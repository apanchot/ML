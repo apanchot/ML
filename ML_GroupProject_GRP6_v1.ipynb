{
 "cells": [
  {
   "cell_type": "markdown",
   "metadata": {},
   "source": [
    "# The Boolean pandemic"
   ]
  },
  {
   "cell_type": "markdown",
   "metadata": {},
   "source": [
    "__Master Program DSAA    \n",
    "Machine Learning 2020 - Group Project__\n",
    "\n",
    "Group:"
   ]
  },
  {
   "cell_type": "markdown",
   "metadata": {},
   "source": [
    "__Project Description__  \n",
    "\n",
    "On January 1st, 2020, an epidemy was originated in Albuquerque, in New Mexico state, and spread on the following days to Santa Fe and Taos. It is estimated that the epidemy has already affected more than 1000 people at the end of February, with a mortality rate of more than 50%.  \n",
    "While the conditions of the transmission of the virus is still unknown and there are no certainties of what leads a patient to survive or not to the virus, it seems there are some groups of people more prone to survive than others.\n",
    "In this challenge, your goal is to build a predictive model that answers the question “What are the people more likely to survive to the boolean pandemic?” using the small quantity of data accessible of the patients – name, birthday date, severity of the disease, money of expenses associated to the treatment of each family, city and others.\n",
    "As data scientists, your team is asked to analyze and transform as needed the data available and apply different models in order to answer in the more accurate way the defined question. Are you able to design a model that can predict if a patient will survive, or not, to the boolean pandemic?"
   ]
  },
  {
   "cell_type": "markdown",
   "metadata": {},
   "source": [
    "__`Data fields`__\n",
    "\n",
    "- **Patient_ID** - The unique identifier of the patient  \n",
    "- **Family_Case_ID** - The family identification  \n",
    "- **Severity** - The severity of the disease, where 1 is the lowest and 3 the highest severity  \n",
    "- **Name** - The name of the patient  \n",
    "- **Birthday_year** - The year of birthday of the patient  \n",
    "- **Parents_Siblings_Infected** - The number of parents and/or siblings infected  \n",
    "- **Partner_Children_Infected** - The number of partner and/or children infected  \n",
    "- **Medical_Expenses_Family** - The medical expenses associated to try to contain the epidemy on the family  \n",
    "- **Medical_Tent** - The medical tent where the patient is / was lodged  \n",
    "- **City** - The original city of the patient  \n",
    "  \n",
    "\n",
    "__`Target`__\n",
    "- **Deceased** - Flag if the patient deceased or not with the virus (0 = No, 1 = Yes)  "
   ]
  },
  {
   "cell_type": "markdown",
   "metadata": {},
   "source": [
    "## 1. Import libraries"
   ]
  },
  {
   "cell_type": "code",
   "execution_count": 66,
   "metadata": {},
   "outputs": [],
   "source": [
    "import warnings\n",
    "warnings.filterwarnings('ignore')\n",
    "import pandas as pd\n",
    "import numpy as np\n",
    "import matplotlib.pyplot as plt\n",
    "import seaborn as sns\n",
    "sns.set(style=\"white\", color_codes=True)\n",
    "import re\n",
    "from collections import Counter\n",
    "\n",
    "from sklearn.model_selection import GridSearchCV, RandomizedSearchCV, train_test_split, cross_val_score, KFold\n",
    "from sklearn.feature_selection import RFECV, SelectKBest, chi2, f_classif\n",
    "from sklearn.neural_network import MLPClassifier\n",
    "from sklearn.metrics import confusion_matrix, classification_report, accuracy_score, f1_score\n",
    "from sklearn.ensemble import RandomForestClassifier, AdaBoostClassifier, VotingClassifier, BaggingClassifier\n",
    "from sklearn.preprocessing import MinMaxScaler, StandardScaler, RobustScaler, PowerTransformer, LabelEncoder\n",
    "from sklearn.linear_model import LogisticRegression\n",
    "from sklearn.pipeline import Pipeline, FeatureUnion\n",
    "from sklearn.neighbors import KNeighborsClassifier\n",
    "from sklearn.impute import KNNImputer, SimpleImputer, MissingIndicator\n",
    "from sklearn.naive_bayes import GaussianNB\n",
    "from sklearn.discriminant_analysis import LinearDiscriminantAnalysis\n",
    "from sklearn.linear_model import LassoCV\n",
    "from sklearn.linear_model import RidgeCV\n",
    "\n",
    "from tqdm import tqdm\n",
    "\n",
    "from imblearn.over_sampling import SMOTE, RandomOverSampler\n",
    "from imblearn.under_sampling import RandomUnderSampler\n",
    "from imblearn.pipeline import Pipeline\n",
    "\n",
    "from xgboost import XGBClassifier\n",
    "\n",
    "from pandas_profiling import ProfileReport\n",
    "import category_encoders as ce"
   ]
  },
  {
   "cell_type": "markdown",
   "metadata": {},
   "source": [
    "## 2. Import data"
   ]
  },
  {
   "cell_type": "code",
   "execution_count": 2,
   "metadata": {},
   "outputs": [],
   "source": [
    "#read train data from csv file\n",
    "df_train = pd.read_csv(r'train.csv')"
   ]
  },
  {
   "cell_type": "code",
   "execution_count": 3,
   "metadata": {},
   "outputs": [
    {
     "data": {
      "text/html": [
       "<div>\n",
       "<style scoped>\n",
       "    .dataframe tbody tr th:only-of-type {\n",
       "        vertical-align: middle;\n",
       "    }\n",
       "\n",
       "    .dataframe tbody tr th {\n",
       "        vertical-align: top;\n",
       "    }\n",
       "\n",
       "    .dataframe thead th {\n",
       "        text-align: right;\n",
       "    }\n",
       "</style>\n",
       "<table border=\"1\" class=\"dataframe\">\n",
       "  <thead>\n",
       "    <tr style=\"text-align: right;\">\n",
       "      <th></th>\n",
       "      <th>0</th>\n",
       "      <th>1</th>\n",
       "      <th>2</th>\n",
       "      <th>3</th>\n",
       "      <th>4</th>\n",
       "    </tr>\n",
       "  </thead>\n",
       "  <tbody>\n",
       "    <tr>\n",
       "      <th>Patient_ID</th>\n",
       "      <td>1</td>\n",
       "      <td>2</td>\n",
       "      <td>3</td>\n",
       "      <td>4</td>\n",
       "      <td>5</td>\n",
       "    </tr>\n",
       "    <tr>\n",
       "      <th>Family_Case_ID</th>\n",
       "      <td>4696</td>\n",
       "      <td>21436</td>\n",
       "      <td>7273</td>\n",
       "      <td>8226</td>\n",
       "      <td>19689</td>\n",
       "    </tr>\n",
       "    <tr>\n",
       "      <th>Severity</th>\n",
       "      <td>3</td>\n",
       "      <td>1</td>\n",
       "      <td>3</td>\n",
       "      <td>3</td>\n",
       "      <td>3</td>\n",
       "    </tr>\n",
       "    <tr>\n",
       "      <th>Name</th>\n",
       "      <td>Miss Linda Betty</td>\n",
       "      <td>Ms. Ramona Elvira</td>\n",
       "      <td>Mr. Mario Vernon</td>\n",
       "      <td>Mr. Hector Joe</td>\n",
       "      <td>Ms. Jennie Debra</td>\n",
       "    </tr>\n",
       "    <tr>\n",
       "      <th>Birthday_year</th>\n",
       "      <td>NaN</td>\n",
       "      <td>1966</td>\n",
       "      <td>1982</td>\n",
       "      <td>1997</td>\n",
       "      <td>1994</td>\n",
       "    </tr>\n",
       "    <tr>\n",
       "      <th>Parents or siblings infected</th>\n",
       "      <td>0</td>\n",
       "      <td>0</td>\n",
       "      <td>0</td>\n",
       "      <td>0</td>\n",
       "      <td>0</td>\n",
       "    </tr>\n",
       "    <tr>\n",
       "      <th>Wife/Husband or children infected</th>\n",
       "      <td>0</td>\n",
       "      <td>1</td>\n",
       "      <td>0</td>\n",
       "      <td>0</td>\n",
       "      <td>0</td>\n",
       "    </tr>\n",
       "    <tr>\n",
       "      <th>Medical_Expenses_Family</th>\n",
       "      <td>225</td>\n",
       "      <td>1663</td>\n",
       "      <td>221</td>\n",
       "      <td>220</td>\n",
       "      <td>222</td>\n",
       "    </tr>\n",
       "    <tr>\n",
       "      <th>Medical_Tent</th>\n",
       "      <td>NaN</td>\n",
       "      <td>NaN</td>\n",
       "      <td>NaN</td>\n",
       "      <td>NaN</td>\n",
       "      <td>NaN</td>\n",
       "    </tr>\n",
       "    <tr>\n",
       "      <th>City</th>\n",
       "      <td>Santa Fe</td>\n",
       "      <td>Albuquerque</td>\n",
       "      <td>Santa Fe</td>\n",
       "      <td>Santa Fe</td>\n",
       "      <td>Santa Fe</td>\n",
       "    </tr>\n",
       "    <tr>\n",
       "      <th>Deceased</th>\n",
       "      <td>1</td>\n",
       "      <td>0</td>\n",
       "      <td>1</td>\n",
       "      <td>1</td>\n",
       "      <td>0</td>\n",
       "    </tr>\n",
       "  </tbody>\n",
       "</table>\n",
       "</div>"
      ],
      "text/plain": [
       "                                                  0                  1  \\\n",
       "Patient_ID                                        1                  2   \n",
       "Family_Case_ID                                 4696              21436   \n",
       "Severity                                          3                  1   \n",
       "Name                               Miss Linda Betty  Ms. Ramona Elvira   \n",
       "Birthday_year                                   NaN               1966   \n",
       "Parents or siblings infected                      0                  0   \n",
       "Wife/Husband or children infected                 0                  1   \n",
       "Medical_Expenses_Family                         225               1663   \n",
       "Medical_Tent                                    NaN                NaN   \n",
       "City                                       Santa Fe        Albuquerque   \n",
       "Deceased                                          1                  0   \n",
       "\n",
       "                                                  2               3  \\\n",
       "Patient_ID                                        3               4   \n",
       "Family_Case_ID                                 7273            8226   \n",
       "Severity                                          3               3   \n",
       "Name                               Mr. Mario Vernon  Mr. Hector Joe   \n",
       "Birthday_year                                  1982            1997   \n",
       "Parents or siblings infected                      0               0   \n",
       "Wife/Husband or children infected                 0               0   \n",
       "Medical_Expenses_Family                         221             220   \n",
       "Medical_Tent                                    NaN             NaN   \n",
       "City                                       Santa Fe        Santa Fe   \n",
       "Deceased                                          1               1   \n",
       "\n",
       "                                                  4  \n",
       "Patient_ID                                        5  \n",
       "Family_Case_ID                                19689  \n",
       "Severity                                          3  \n",
       "Name                               Ms. Jennie Debra  \n",
       "Birthday_year                                  1994  \n",
       "Parents or siblings infected                      0  \n",
       "Wife/Husband or children infected                 0  \n",
       "Medical_Expenses_Family                         222  \n",
       "Medical_Tent                                    NaN  \n",
       "City                                       Santa Fe  \n",
       "Deceased                                          0  "
      ]
     },
     "execution_count": 3,
     "metadata": {},
     "output_type": "execute_result"
    }
   ],
   "source": [
    "#let's have a look at first 5 records\n",
    "df_train.head().transpose()"
   ]
  },
  {
   "cell_type": "code",
   "execution_count": 4,
   "metadata": {},
   "outputs": [],
   "source": [
    "#read test data from csv file\n",
    "df_test = pd.read_csv(r'test.csv')"
   ]
  },
  {
   "cell_type": "code",
   "execution_count": 5,
   "metadata": {},
   "outputs": [
    {
     "data": {
      "text/html": [
       "<div>\n",
       "<style scoped>\n",
       "    .dataframe tbody tr th:only-of-type {\n",
       "        vertical-align: middle;\n",
       "    }\n",
       "\n",
       "    .dataframe tbody tr th {\n",
       "        vertical-align: top;\n",
       "    }\n",
       "\n",
       "    .dataframe thead th {\n",
       "        text-align: right;\n",
       "    }\n",
       "</style>\n",
       "<table border=\"1\" class=\"dataframe\">\n",
       "  <thead>\n",
       "    <tr style=\"text-align: right;\">\n",
       "      <th></th>\n",
       "      <th>0</th>\n",
       "      <th>1</th>\n",
       "      <th>2</th>\n",
       "      <th>3</th>\n",
       "      <th>4</th>\n",
       "    </tr>\n",
       "  </thead>\n",
       "  <tbody>\n",
       "    <tr>\n",
       "      <th>Patient_ID</th>\n",
       "      <td>901</td>\n",
       "      <td>902</td>\n",
       "      <td>903</td>\n",
       "      <td>904</td>\n",
       "      <td>905</td>\n",
       "    </tr>\n",
       "    <tr>\n",
       "      <th>Family_Case_ID</th>\n",
       "      <td>49242</td>\n",
       "      <td>10400</td>\n",
       "      <td>10795</td>\n",
       "      <td>62440</td>\n",
       "      <td>81311</td>\n",
       "    </tr>\n",
       "    <tr>\n",
       "      <th>Severity</th>\n",
       "      <td>3</td>\n",
       "      <td>3</td>\n",
       "      <td>3</td>\n",
       "      <td>3</td>\n",
       "      <td>2</td>\n",
       "    </tr>\n",
       "    <tr>\n",
       "      <th>Name</th>\n",
       "      <td>Mr. Jody Pedro</td>\n",
       "      <td>Mr. Kevin Brent</td>\n",
       "      <td>Mr. Frankie Cary</td>\n",
       "      <td>Mr. Rick Pete</td>\n",
       "      <td>Mr. Matthew Erick</td>\n",
       "    </tr>\n",
       "    <tr>\n",
       "      <th>Birthday_year</th>\n",
       "      <td>NaN</td>\n",
       "      <td>1988</td>\n",
       "      <td>1981</td>\n",
       "      <td>NaN</td>\n",
       "      <td>1996</td>\n",
       "    </tr>\n",
       "    <tr>\n",
       "      <th>Parents or siblings infected</th>\n",
       "      <td>0</td>\n",
       "      <td>0</td>\n",
       "      <td>1</td>\n",
       "      <td>0</td>\n",
       "      <td>0</td>\n",
       "    </tr>\n",
       "    <tr>\n",
       "      <th>Wife/Husband or children infected</th>\n",
       "      <td>0</td>\n",
       "      <td>0</td>\n",
       "      <td>0</td>\n",
       "      <td>1</td>\n",
       "      <td>0</td>\n",
       "    </tr>\n",
       "    <tr>\n",
       "      <th>Medical_Expenses_Family</th>\n",
       "      <td>203</td>\n",
       "      <td>631</td>\n",
       "      <td>376</td>\n",
       "      <td>405</td>\n",
       "      <td>378</td>\n",
       "    </tr>\n",
       "    <tr>\n",
       "      <th>Medical_Tent</th>\n",
       "      <td>NaN</td>\n",
       "      <td>NaN</td>\n",
       "      <td>NaN</td>\n",
       "      <td>NaN</td>\n",
       "      <td>NaN</td>\n",
       "    </tr>\n",
       "    <tr>\n",
       "      <th>City</th>\n",
       "      <td>Santa Fe</td>\n",
       "      <td>Santa Fe</td>\n",
       "      <td>Albuquerque</td>\n",
       "      <td>Albuquerque</td>\n",
       "      <td>Santa Fe</td>\n",
       "    </tr>\n",
       "  </tbody>\n",
       "</table>\n",
       "</div>"
      ],
      "text/plain": [
       "                                                0                1  \\\n",
       "Patient_ID                                    901              902   \n",
       "Family_Case_ID                              49242            10400   \n",
       "Severity                                        3                3   \n",
       "Name                               Mr. Jody Pedro  Mr. Kevin Brent   \n",
       "Birthday_year                                 NaN             1988   \n",
       "Parents or siblings infected                    0                0   \n",
       "Wife/Husband or children infected               0                0   \n",
       "Medical_Expenses_Family                       203              631   \n",
       "Medical_Tent                                  NaN              NaN   \n",
       "City                                     Santa Fe         Santa Fe   \n",
       "\n",
       "                                                  2              3  \\\n",
       "Patient_ID                                      903            904   \n",
       "Family_Case_ID                                10795          62440   \n",
       "Severity                                          3              3   \n",
       "Name                               Mr. Frankie Cary  Mr. Rick Pete   \n",
       "Birthday_year                                  1981            NaN   \n",
       "Parents or siblings infected                      1              0   \n",
       "Wife/Husband or children infected                 0              1   \n",
       "Medical_Expenses_Family                         376            405   \n",
       "Medical_Tent                                    NaN            NaN   \n",
       "City                                    Albuquerque    Albuquerque   \n",
       "\n",
       "                                                   4  \n",
       "Patient_ID                                       905  \n",
       "Family_Case_ID                                 81311  \n",
       "Severity                                           2  \n",
       "Name                               Mr. Matthew Erick  \n",
       "Birthday_year                                   1996  \n",
       "Parents or siblings infected                       0  \n",
       "Wife/Husband or children infected                  0  \n",
       "Medical_Expenses_Family                          378  \n",
       "Medical_Tent                                     NaN  \n",
       "City                                        Santa Fe  "
      ]
     },
     "execution_count": 5,
     "metadata": {},
     "output_type": "execute_result"
    }
   ],
   "source": [
    "#let's have a look at first 5 records\n",
    "df_test.head().transpose()"
   ]
  },
  {
   "cell_type": "markdown",
   "metadata": {},
   "source": [
    "## 3. Data pre-processing"
   ]
  },
  {
   "cell_type": "markdown",
   "metadata": {},
   "source": [
    "### 3.1. Data Analysis"
   ]
  },
  {
   "cell_type": "code",
   "execution_count": 6,
   "metadata": {},
   "outputs": [],
   "source": [
    "# Summary statistics for all variables \n",
    "def summary(dataframe):\n",
    "    summary=dataframe.describe(include='all') \n",
    "    summary=summary.transpose()\n",
    "    return summary.head(len(summary))"
   ]
  },
  {
   "cell_type": "code",
   "execution_count": 7,
   "metadata": {},
   "outputs": [
    {
     "data": {
      "text/html": [
       "<div>\n",
       "<style scoped>\n",
       "    .dataframe tbody tr th:only-of-type {\n",
       "        vertical-align: middle;\n",
       "    }\n",
       "\n",
       "    .dataframe tbody tr th {\n",
       "        vertical-align: top;\n",
       "    }\n",
       "\n",
       "    .dataframe thead th {\n",
       "        text-align: right;\n",
       "    }\n",
       "</style>\n",
       "<table border=\"1\" class=\"dataframe\">\n",
       "  <thead>\n",
       "    <tr style=\"text-align: right;\">\n",
       "      <th></th>\n",
       "      <th>count</th>\n",
       "      <th>unique</th>\n",
       "      <th>top</th>\n",
       "      <th>freq</th>\n",
       "      <th>mean</th>\n",
       "      <th>std</th>\n",
       "      <th>min</th>\n",
       "      <th>25%</th>\n",
       "      <th>50%</th>\n",
       "      <th>75%</th>\n",
       "      <th>max</th>\n",
       "    </tr>\n",
       "  </thead>\n",
       "  <tbody>\n",
       "    <tr>\n",
       "      <th>Patient_ID</th>\n",
       "      <td>900</td>\n",
       "      <td>NaN</td>\n",
       "      <td>NaN</td>\n",
       "      <td>NaN</td>\n",
       "      <td>450.5</td>\n",
       "      <td>259.952</td>\n",
       "      <td>1</td>\n",
       "      <td>225.75</td>\n",
       "      <td>450.5</td>\n",
       "      <td>675.25</td>\n",
       "      <td>900</td>\n",
       "    </tr>\n",
       "    <tr>\n",
       "      <th>Family_Case_ID</th>\n",
       "      <td>900</td>\n",
       "      <td>NaN</td>\n",
       "      <td>NaN</td>\n",
       "      <td>NaN</td>\n",
       "      <td>14305.8</td>\n",
       "      <td>25418.2</td>\n",
       "      <td>345</td>\n",
       "      <td>8203</td>\n",
       "      <td>13593.5</td>\n",
       "      <td>18906.5</td>\n",
       "      <td>742836</td>\n",
       "    </tr>\n",
       "    <tr>\n",
       "      <th>Severity</th>\n",
       "      <td>900</td>\n",
       "      <td>NaN</td>\n",
       "      <td>NaN</td>\n",
       "      <td>NaN</td>\n",
       "      <td>2.31333</td>\n",
       "      <td>0.834223</td>\n",
       "      <td>1</td>\n",
       "      <td>2</td>\n",
       "      <td>3</td>\n",
       "      <td>3</td>\n",
       "      <td>3</td>\n",
       "    </tr>\n",
       "    <tr>\n",
       "      <th>Name</th>\n",
       "      <td>900</td>\n",
       "      <td>899</td>\n",
       "      <td>Mr. Samuel Darnell</td>\n",
       "      <td>2</td>\n",
       "      <td>NaN</td>\n",
       "      <td>NaN</td>\n",
       "      <td>NaN</td>\n",
       "      <td>NaN</td>\n",
       "      <td>NaN</td>\n",
       "      <td>NaN</td>\n",
       "      <td>NaN</td>\n",
       "    </tr>\n",
       "    <tr>\n",
       "      <th>Birthday_year</th>\n",
       "      <td>723</td>\n",
       "      <td>NaN</td>\n",
       "      <td>NaN</td>\n",
       "      <td>NaN</td>\n",
       "      <td>1990.27</td>\n",
       "      <td>14.5233</td>\n",
       "      <td>1940</td>\n",
       "      <td>1982</td>\n",
       "      <td>1992</td>\n",
       "      <td>1999.5</td>\n",
       "      <td>2019</td>\n",
       "    </tr>\n",
       "    <tr>\n",
       "      <th>Parents or siblings infected</th>\n",
       "      <td>900</td>\n",
       "      <td>NaN</td>\n",
       "      <td>NaN</td>\n",
       "      <td>NaN</td>\n",
       "      <td>0.38</td>\n",
       "      <td>0.803247</td>\n",
       "      <td>0</td>\n",
       "      <td>0</td>\n",
       "      <td>0</td>\n",
       "      <td>0</td>\n",
       "      <td>6</td>\n",
       "    </tr>\n",
       "    <tr>\n",
       "      <th>Wife/Husband or children infected</th>\n",
       "      <td>900</td>\n",
       "      <td>NaN</td>\n",
       "      <td>NaN</td>\n",
       "      <td>NaN</td>\n",
       "      <td>0.521111</td>\n",
       "      <td>1.09839</td>\n",
       "      <td>0</td>\n",
       "      <td>0</td>\n",
       "      <td>0</td>\n",
       "      <td>1</td>\n",
       "      <td>8</td>\n",
       "    </tr>\n",
       "    <tr>\n",
       "      <th>Medical_Expenses_Family</th>\n",
       "      <td>900</td>\n",
       "      <td>NaN</td>\n",
       "      <td>NaN</td>\n",
       "      <td>NaN</td>\n",
       "      <td>895.743</td>\n",
       "      <td>1385.83</td>\n",
       "      <td>0</td>\n",
       "      <td>221</td>\n",
       "      <td>405</td>\n",
       "      <td>861.25</td>\n",
       "      <td>14345</td>\n",
       "    </tr>\n",
       "    <tr>\n",
       "      <th>Medical_Tent</th>\n",
       "      <td>198</td>\n",
       "      <td>8</td>\n",
       "      <td>C</td>\n",
       "      <td>57</td>\n",
       "      <td>NaN</td>\n",
       "      <td>NaN</td>\n",
       "      <td>NaN</td>\n",
       "      <td>NaN</td>\n",
       "      <td>NaN</td>\n",
       "      <td>NaN</td>\n",
       "      <td>NaN</td>\n",
       "    </tr>\n",
       "    <tr>\n",
       "      <th>City</th>\n",
       "      <td>898</td>\n",
       "      <td>3</td>\n",
       "      <td>Santa Fe</td>\n",
       "      <td>649</td>\n",
       "      <td>NaN</td>\n",
       "      <td>NaN</td>\n",
       "      <td>NaN</td>\n",
       "      <td>NaN</td>\n",
       "      <td>NaN</td>\n",
       "      <td>NaN</td>\n",
       "      <td>NaN</td>\n",
       "    </tr>\n",
       "    <tr>\n",
       "      <th>Deceased</th>\n",
       "      <td>900</td>\n",
       "      <td>NaN</td>\n",
       "      <td>NaN</td>\n",
       "      <td>NaN</td>\n",
       "      <td>0.614444</td>\n",
       "      <td>0.486997</td>\n",
       "      <td>0</td>\n",
       "      <td>0</td>\n",
       "      <td>1</td>\n",
       "      <td>1</td>\n",
       "      <td>1</td>\n",
       "    </tr>\n",
       "  </tbody>\n",
       "</table>\n",
       "</div>"
      ],
      "text/plain": [
       "                                  count unique                 top freq  \\\n",
       "Patient_ID                          900    NaN                 NaN  NaN   \n",
       "Family_Case_ID                      900    NaN                 NaN  NaN   \n",
       "Severity                            900    NaN                 NaN  NaN   \n",
       "Name                                900    899  Mr. Samuel Darnell    2   \n",
       "Birthday_year                       723    NaN                 NaN  NaN   \n",
       "Parents or siblings infected        900    NaN                 NaN  NaN   \n",
       "Wife/Husband or children infected   900    NaN                 NaN  NaN   \n",
       "Medical_Expenses_Family             900    NaN                 NaN  NaN   \n",
       "Medical_Tent                        198      8                   C   57   \n",
       "City                                898      3            Santa Fe  649   \n",
       "Deceased                            900    NaN                 NaN  NaN   \n",
       "\n",
       "                                       mean       std   min     25%      50%  \\\n",
       "Patient_ID                            450.5   259.952     1  225.75    450.5   \n",
       "Family_Case_ID                      14305.8   25418.2   345    8203  13593.5   \n",
       "Severity                            2.31333  0.834223     1       2        3   \n",
       "Name                                    NaN       NaN   NaN     NaN      NaN   \n",
       "Birthday_year                       1990.27   14.5233  1940    1982     1992   \n",
       "Parents or siblings infected           0.38  0.803247     0       0        0   \n",
       "Wife/Husband or children infected  0.521111   1.09839     0       0        0   \n",
       "Medical_Expenses_Family             895.743   1385.83     0     221      405   \n",
       "Medical_Tent                            NaN       NaN   NaN     NaN      NaN   \n",
       "City                                    NaN       NaN   NaN     NaN      NaN   \n",
       "Deceased                           0.614444  0.486997     0       0        1   \n",
       "\n",
       "                                       75%     max  \n",
       "Patient_ID                          675.25     900  \n",
       "Family_Case_ID                     18906.5  742836  \n",
       "Severity                                 3       3  \n",
       "Name                                   NaN     NaN  \n",
       "Birthday_year                       1999.5    2019  \n",
       "Parents or siblings infected             0       6  \n",
       "Wife/Husband or children infected        1       8  \n",
       "Medical_Expenses_Family             861.25   14345  \n",
       "Medical_Tent                           NaN     NaN  \n",
       "City                                   NaN     NaN  \n",
       "Deceased                                 1       1  "
      ]
     },
     "execution_count": 7,
     "metadata": {},
     "output_type": "execute_result"
    }
   ],
   "source": [
    "summary(df_train)"
   ]
  },
  {
   "cell_type": "code",
   "execution_count": 8,
   "metadata": {},
   "outputs": [
    {
     "name": "stdout",
     "output_type": "stream",
     "text": [
      "<class 'pandas.core.frame.DataFrame'>\n",
      "RangeIndex: 400 entries, 0 to 399\n",
      "Data columns (total 10 columns):\n",
      " #   Column                             Non-Null Count  Dtype  \n",
      "---  ------                             --------------  -----  \n",
      " 0   Patient_ID                         400 non-null    int64  \n",
      " 1   Family_Case_ID                     400 non-null    int64  \n",
      " 2   Severity                           400 non-null    int64  \n",
      " 3   Name                               400 non-null    object \n",
      " 4   Birthday_year                      318 non-null    float64\n",
      " 5   Parents or siblings infected       400 non-null    int64  \n",
      " 6   Wife/Husband or children infected  400 non-null    int64  \n",
      " 7   Medical_Expenses_Family            400 non-null    int64  \n",
      " 8   Medical_Tent                       89 non-null     object \n",
      " 9   City                               400 non-null    object \n",
      "dtypes: float64(1), int64(6), object(3)\n",
      "memory usage: 31.4+ KB\n"
     ]
    }
   ],
   "source": [
    "df_test.info()"
   ]
  },
  {
   "cell_type": "code",
   "execution_count": 9,
   "metadata": {},
   "outputs": [
    {
     "data": {
      "text/plain": [
       "Patient_ID                             0\n",
       "Family_Case_ID                         0\n",
       "Severity                               0\n",
       "Name                                   0\n",
       "Birthday_year                        177\n",
       "Parents or siblings infected           0\n",
       "Wife/Husband or children infected      0\n",
       "Medical_Expenses_Family                0\n",
       "Medical_Tent                         702\n",
       "City                                   2\n",
       "Deceased                               0\n",
       "dtype: int64"
      ]
     },
     "execution_count": 9,
     "metadata": {},
     "output_type": "execute_result"
    }
   ],
   "source": [
    "#variables with null vallues\n",
    "df_train.isna().sum()"
   ]
  },
  {
   "cell_type": "code",
   "execution_count": 10,
   "metadata": {},
   "outputs": [
    {
     "data": {
      "text/plain": [
       "Patient_ID                             0\n",
       "Family_Case_ID                         0\n",
       "Severity                               0\n",
       "Name                                   0\n",
       "Birthday_year                         82\n",
       "Parents or siblings infected           0\n",
       "Wife/Husband or children infected      0\n",
       "Medical_Expenses_Family                0\n",
       "Medical_Tent                         311\n",
       "City                                   0\n",
       "dtype: int64"
      ]
     },
     "execution_count": 10,
     "metadata": {},
     "output_type": "execute_result"
    }
   ],
   "source": [
    "#variables with null vallues\n",
    "df_test.isna().sum()"
   ]
  },
  {
   "cell_type": "markdown",
   "metadata": {},
   "source": [
    "#### Comments:\n",
    "- We have 900 records in train dataset and 400 records on test dataset.  \n",
    "- Both datasets have the same information, with the exception of target value that is missing on test dataset.  \n",
    "- There some null values:\n",
    "    - Train: Birthday_year, Medical_tent and City\n",
    "    - Test: Birthday_year and Medical_tent"
   ]
  },
  {
   "cell_type": "code",
   "execution_count": 11,
   "metadata": {},
   "outputs": [
    {
     "data": {
      "application/vnd.jupyter.widget-view+json": {
       "model_id": "04557e7f1e4a4811bf92548a3a03936e",
       "version_major": 2,
       "version_minor": 0
      },
      "text/plain": [
       "Tab(children=(HTML(value='<div id=\"overview-content\" class=\"row variable spacing\">\\n    <div class=\"row\">\\n   …"
      ]
     },
     "metadata": {},
     "output_type": "display_data"
    },
    {
     "data": {
      "text/html": [
       "Report generated with <a href=\"https://github.com/pandas-profiling/pandas-profiling\">pandas-profiling</a>."
      ],
      "text/plain": [
       "<IPython.core.display.HTML object>"
      ]
     },
     "metadata": {},
     "output_type": "display_data"
    }
   ],
   "source": [
    "# pandas profiling is a cool feature for exploratory data analysis. More information here: https://github.com/pandas-profiling/pandas-profiling\n",
    "\n",
    "profile = ProfileReport(df_train, title='Pandas Profiling Report', html={'style':{'full_width':True}})\n",
    "profile.to_widgets()"
   ]
  },
  {
   "cell_type": "markdown",
   "metadata": {},
   "source": [
    "#### Comments:\n",
    "\n",
    "- Birthday_year and Medical_Tent have the highest number of missing values (19.7% and 76.1% respectively)  \n",
    "- We have 900 records and 0 duplicate rows  \n",
    "- Variables Patient_ID, Family_Case_ID and Name are likely to be dropped or used for feature engineering  \n",
    "- There are two records without City information, since Santa Fe is largely the most frequent city it seems reasonable to assume those two records as from Santa Fe."
   ]
  },
  {
   "cell_type": "markdown",
   "metadata": {},
   "source": [
    "__`Target variable - 'Deceased'`__"
   ]
  },
  {
   "cell_type": "markdown",
   "metadata": {},
   "source": [
    "Let's have a look at the distribution of variables among deceased and survivors."
   ]
  },
  {
   "cell_type": "code",
   "execution_count": 12,
   "metadata": {},
   "outputs": [
    {
     "data": {
      "text/html": [
       "<div>\n",
       "<style scoped>\n",
       "    .dataframe tbody tr th:only-of-type {\n",
       "        vertical-align: middle;\n",
       "    }\n",
       "\n",
       "    .dataframe tbody tr th {\n",
       "        vertical-align: top;\n",
       "    }\n",
       "\n",
       "    .dataframe thead th {\n",
       "        text-align: right;\n",
       "    }\n",
       "</style>\n",
       "<table border=\"1\" class=\"dataframe\">\n",
       "  <thead>\n",
       "    <tr style=\"text-align: right;\">\n",
       "      <th>Deceased</th>\n",
       "      <th>0</th>\n",
       "      <th>1</th>\n",
       "    </tr>\n",
       "  </thead>\n",
       "  <tbody>\n",
       "    <tr>\n",
       "      <th>Patient_ID</th>\n",
       "      <td>449.423631</td>\n",
       "      <td>451.175407</td>\n",
       "    </tr>\n",
       "    <tr>\n",
       "      <th>Family_Case_ID</th>\n",
       "      <td>13619.536023</td>\n",
       "      <td>14736.466546</td>\n",
       "    </tr>\n",
       "    <tr>\n",
       "      <th>Severity</th>\n",
       "      <td>1.962536</td>\n",
       "      <td>2.533454</td>\n",
       "    </tr>\n",
       "    <tr>\n",
       "      <th>Birthday_year</th>\n",
       "      <td>1991.698305</td>\n",
       "      <td>1989.280374</td>\n",
       "    </tr>\n",
       "    <tr>\n",
       "      <th>Parents_or_siblings_infected</th>\n",
       "      <td>0.463977</td>\n",
       "      <td>0.327306</td>\n",
       "    </tr>\n",
       "    <tr>\n",
       "      <th>Wife/Husband_or_children_infected</th>\n",
       "      <td>0.475504</td>\n",
       "      <td>0.549729</td>\n",
       "    </tr>\n",
       "    <tr>\n",
       "      <th>Medical_Expenses_Family</th>\n",
       "      <td>1340.755043</td>\n",
       "      <td>616.504521</td>\n",
       "    </tr>\n",
       "  </tbody>\n",
       "</table>\n",
       "</div>"
      ],
      "text/plain": [
       "Deceased                                      0             1\n",
       "Patient_ID                           449.423631    451.175407\n",
       "Family_Case_ID                     13619.536023  14736.466546\n",
       "Severity                               1.962536      2.533454\n",
       "Birthday_year                       1991.698305   1989.280374\n",
       "Parents_or_siblings_infected           0.463977      0.327306\n",
       "Wife/Husband_or_children_infected      0.475504      0.549729\n",
       "Medical_Expenses_Family             1340.755043    616.504521"
      ]
     },
     "execution_count": 12,
     "metadata": {},
     "output_type": "execute_result"
    }
   ],
   "source": [
    "df_train.groupby(by=\"Deceased\").mean().transpose()"
   ]
  },
  {
   "cell_type": "code",
   "execution_count": 13,
   "metadata": {},
   "outputs": [],
   "source": [
    "deceased_temp = df_train[df_train.Deceased == 1]\n",
    "survived_temp = df_train[df_train.Deceased == 0]"
   ]
  },
  {
   "cell_type": "code",
   "execution_count": 14,
   "metadata": {},
   "outputs": [
    {
     "data": {
      "text/plain": [
       "Text(0, 0.5, 'Frequency')"
      ]
     },
     "execution_count": 14,
     "metadata": {},
     "output_type": "execute_result"
    },
    {
     "data": {
      "image/png": "[encoded data removed]",
      "text/plain": [
       "<Figure size 576x396 with 1 Axes>"
      ]
     },
     "metadata": {},
     "output_type": "display_data"
    }
   ],
   "source": [
    "sns.distplot(deceased_temp['Birthday_year'], kde = False, label='Deceased')\n",
    "sns.distplot(survived_temp['Birthday_year'], kde = False, label='Survived')\n",
    "\n",
    "plt.legend(prop={'size': 12})\n",
    "plt.xlabel('year of birth')\n",
    "plt.ylabel('Frequency')"
   ]
  },
  {
   "cell_type": "code",
   "execution_count": 15,
   "metadata": {},
   "outputs": [
    {
     "data": {
      "image/png": "[encoded data removed]",
      "text/plain": [
       "<Figure size 720x360 with 1 Axes>"
      ]
     },
     "metadata": {},
     "output_type": "display_data"
    },
    {
     "data": {
      "image/png": "[encoded data removed]",
      "text/plain": [
       "<Figure size 720x360 with 1 Axes>"
      ]
     },
     "metadata": {},
     "output_type": "display_data"
    },
    {
     "data": {
      "image/png": "[encoded data removed]",
      "text/plain": [
       "<Figure size 720x360 with 1 Axes>"
      ]
     },
     "metadata": {},
     "output_type": "display_data"
    }
   ],
   "source": [
    "#let's have a look at some variables distribution per deceased\n",
    "columns = ['Severity', 'Parents_or_siblings_infected', 'Wife/Husband_or_children_infected']\n",
    "\n",
    "for col in columns:\n",
    "    pd.crosstab(df_train[col],df_train.Deceased).plot(kind='bar',\n",
    "                                          figsize=(10,5))"
   ]
  },
  {
   "cell_type": "markdown",
   "metadata": {},
   "source": [
    "__`Medical Tent`__"
   ]
  },
  {
   "cell_type": "code",
   "execution_count": 16,
   "metadata": {},
   "outputs": [],
   "source": [
    "def perc_table(index, columns, values):\n",
    "    perc_table = pd.crosstab(index = index, \n",
    "                     columns = columns, \n",
    "                     values = values, \n",
    "                     aggfunc='count', margins = True,\n",
    "                     normalize='columns').applymap('{:.3%}'.format)\n",
    "    return perc_table"
   ]
  },
  {
   "cell_type": "code",
   "execution_count": 17,
   "metadata": {},
   "outputs": [
    {
     "data": {
      "text/html": [
       "<div>\n",
       "<style scoped>\n",
       "    .dataframe tbody tr th:only-of-type {\n",
       "        vertical-align: middle;\n",
       "    }\n",
       "\n",
       "    .dataframe tbody tr th {\n",
       "        vertical-align: top;\n",
       "    }\n",
       "\n",
       "    .dataframe thead th {\n",
       "        text-align: right;\n",
       "    }\n",
       "</style>\n",
       "<table border=\"1\" class=\"dataframe\">\n",
       "  <thead>\n",
       "    <tr style=\"text-align: right;\">\n",
       "      <th>City</th>\n",
       "      <th>Albuquerque</th>\n",
       "      <th>Santa Fe</th>\n",
       "      <th>Taos</th>\n",
       "      <th>All</th>\n",
       "    </tr>\n",
       "    <tr>\n",
       "      <th>Medical_Tent</th>\n",
       "      <th></th>\n",
       "      <th></th>\n",
       "      <th></th>\n",
       "      <th></th>\n",
       "    </tr>\n",
       "  </thead>\n",
       "  <tbody>\n",
       "    <tr>\n",
       "      <th>A</th>\n",
       "      <td>10.145%</td>\n",
       "      <td>6.504%</td>\n",
       "      <td>0.000%</td>\n",
       "      <td>7.653%</td>\n",
       "    </tr>\n",
       "    <tr>\n",
       "      <th>B</th>\n",
       "      <td>31.884%</td>\n",
       "      <td>17.886%</td>\n",
       "      <td>0.000%</td>\n",
       "      <td>22.449%</td>\n",
       "    </tr>\n",
       "    <tr>\n",
       "      <th>C</th>\n",
       "      <td>30.435%</td>\n",
       "      <td>27.642%</td>\n",
       "      <td>50.000%</td>\n",
       "      <td>29.082%</td>\n",
       "    </tr>\n",
       "    <tr>\n",
       "      <th>D</th>\n",
       "      <td>18.841%</td>\n",
       "      <td>14.634%</td>\n",
       "      <td>0.000%</td>\n",
       "      <td>15.816%</td>\n",
       "    </tr>\n",
       "    <tr>\n",
       "      <th>E</th>\n",
       "      <td>7.246%</td>\n",
       "      <td>20.325%</td>\n",
       "      <td>25.000%</td>\n",
       "      <td>15.816%</td>\n",
       "    </tr>\n",
       "    <tr>\n",
       "      <th>F</th>\n",
       "      <td>1.449%</td>\n",
       "      <td>8.943%</td>\n",
       "      <td>25.000%</td>\n",
       "      <td>6.633%</td>\n",
       "    </tr>\n",
       "    <tr>\n",
       "      <th>G</th>\n",
       "      <td>0.000%</td>\n",
       "      <td>3.252%</td>\n",
       "      <td>0.000%</td>\n",
       "      <td>2.041%</td>\n",
       "    </tr>\n",
       "    <tr>\n",
       "      <th>T</th>\n",
       "      <td>0.000%</td>\n",
       "      <td>0.813%</td>\n",
       "      <td>0.000%</td>\n",
       "      <td>0.510%</td>\n",
       "    </tr>\n",
       "  </tbody>\n",
       "</table>\n",
       "</div>"
      ],
      "text/plain": [
       "City         Albuquerque Santa Fe     Taos      All\n",
       "Medical_Tent                                       \n",
       "A                10.145%   6.504%   0.000%   7.653%\n",
       "B                31.884%  17.886%   0.000%  22.449%\n",
       "C                30.435%  27.642%  50.000%  29.082%\n",
       "D                18.841%  14.634%   0.000%  15.816%\n",
       "E                 7.246%  20.325%  25.000%  15.816%\n",
       "F                 1.449%   8.943%  25.000%   6.633%\n",
       "G                 0.000%   3.252%   0.000%   2.041%\n",
       "T                 0.000%   0.813%   0.000%   0.510%"
      ]
     },
     "execution_count": 17,
     "metadata": {},
     "output_type": "execute_result"
    }
   ],
   "source": [
    "perc_table(df_train.Medical_Tent, df_train.City, df_train.index)"
   ]
  },
  {
   "cell_type": "markdown",
   "metadata": {},
   "source": [
    "#### Comments:\n",
    "From the table above we can observe that there are no rules we can establish for the Medical tents locations that could help us populate the missing values.  \n",
    "Since we don't have enough information we have two possibilities:\n",
    "- drop the column,\n",
    "- fill missing values with No_tent."
   ]
  },
  {
   "cell_type": "markdown",
   "metadata": {},
   "source": [
    "__`Name`__"
   ]
  },
  {
   "cell_type": "code",
   "execution_count": 18,
   "metadata": {},
   "outputs": [
    {
     "name": "stdout",
     "output_type": "stream",
     "text": [
      "['Miss' 'Ms.' 'Mr.' 'Master']\n"
     ]
    }
   ],
   "source": [
    "print(df_train.Name.str.split(' ').str[0].unique())"
   ]
  },
  {
   "cell_type": "markdown",
   "metadata": {},
   "source": [
    "#### Comments:\n",
    "All records have name filled in and all start by either 'Miss', 'Ms.', 'Mr.' or 'Master. This information is quite useful to generate a new field Gender!"
   ]
  },
  {
   "cell_type": "markdown",
   "metadata": {},
   "source": [
    "### 3.2. Data Manipulation"
   ]
  },
  {
   "cell_type": "code",
   "execution_count": 19,
   "metadata": {},
   "outputs": [],
   "source": [
    "X = df_train.drop('Deceased', axis = 1)\n",
    "y = df_train['Deceased']"
   ]
  },
  {
   "cell_type": "code",
   "execution_count": 20,
   "metadata": {},
   "outputs": [],
   "source": [
    "df_test_copy = df_test.copy(deep=True)"
   ]
  },
  {
   "cell_type": "markdown",
   "metadata": {},
   "source": [
    "### 3.2.1. Missing values"
   ]
  },
  {
   "cell_type": "code",
   "execution_count": 21,
   "metadata": {},
   "outputs": [],
   "source": [
    "# fill in medical tent \n",
    "X['Medical_Tent'].fillna('No_tent', inplace = True)"
   ]
  },
  {
   "cell_type": "code",
   "execution_count": 22,
   "metadata": {},
   "outputs": [],
   "source": [
    "df_test_copy['Medical_Tent'].fillna('No_tent', inplace = True)"
   ]
  },
  {
   "cell_type": "code",
   "execution_count": 23,
   "metadata": {},
   "outputs": [],
   "source": [
    "#Fill in birthday year\n",
    "\n",
    "imputer = SimpleImputer(strategy='mean').fit(X.loc[:,['Birthday_year']])\n",
    "\n",
    "X.loc[:,'Birthday_year'] = imputer.transform(X.loc[:,['Birthday_year']]).astype(int)"
   ]
  },
  {
   "cell_type": "code",
   "execution_count": 24,
   "metadata": {},
   "outputs": [],
   "source": [
    "df_test_copy.loc[:,'Birthday_year'] = imputer.transform(df_test_copy.loc[:,['Birthday_year']]).astype(int)"
   ]
  },
  {
   "cell_type": "code",
   "execution_count": 25,
   "metadata": {},
   "outputs": [],
   "source": [
    "#Fill in city\n",
    "\n",
    "X['City'].fillna('Santa Fe', inplace = True)"
   ]
  },
  {
   "cell_type": "markdown",
   "metadata": {},
   "source": [
    "### 3.2.2. Feature Engineering"
   ]
  },
  {
   "cell_type": "markdown",
   "metadata": {},
   "source": [
    "__`Gender`__"
   ]
  },
  {
   "cell_type": "code",
   "execution_count": 26,
   "metadata": {},
   "outputs": [],
   "source": [
    "gender_dict ={'Miss' : 'F', 'Ms.' : 'F', \n",
    "                    'Mr.' : 'M', 'Master' : 'M'} \n",
    "\n",
    "X['Gender'] = X.Name.str.split(' ').str[0].map(gender_dict) "
   ]
  },
  {
   "cell_type": "code",
   "execution_count": 27,
   "metadata": {},
   "outputs": [],
   "source": [
    "df_test_copy['Gender'] = df_test_copy.Name.str.split(' ').str[0].map(gender_dict) "
   ]
  },
  {
   "cell_type": "markdown",
   "metadata": {},
   "source": [
    "__`Family Death ratio`__"
   ]
  },
  {
   "cell_type": "code",
   "execution_count": 28,
   "metadata": {},
   "outputs": [],
   "source": [
    "temp_group = df_train.groupby('Family_Case_ID')\n",
    "X['number_family_cases'] = temp_group['Patient_ID'].transform('count')\n",
    "X['number_family_deaths'] = temp_group['Deceased'].transform(sum)\n",
    "X['family_death_ratio'] = X['number_family_deaths']/ X['number_family_cases']\n",
    "\n",
    "X.drop(['number_family_cases', 'number_family_deaths'], axis = 1, inplace=True)"
   ]
  },
  {
   "cell_type": "code",
   "execution_count": 29,
   "metadata": {},
   "outputs": [],
   "source": [
    "df_test_copy = df_test_copy.merge(X[['family_death_ratio', 'Family_Case_ID']], how = 'left',\n",
    "                left_on = 'Family_Case_ID', right_on = 'Family_Case_ID')"
   ]
  },
  {
   "cell_type": "code",
   "execution_count": 30,
   "metadata": {},
   "outputs": [],
   "source": [
    "df_test_copy['family_death_ratio'].fillna(0, inplace = True)"
   ]
  },
  {
   "cell_type": "markdown",
   "metadata": {},
   "source": [
    "__`Expenses per person (pp)`__"
   ]
  },
  {
   "cell_type": "code",
   "execution_count": 31,
   "metadata": {},
   "outputs": [],
   "source": [
    "X['Expenses_pp'] = X['Medical_Expenses_Family'] / (X['Parents_or_siblings_infected'] + X['Wife/Husband_or_children_infected'] + 1)"
   ]
  },
  {
   "cell_type": "code",
   "execution_count": 32,
   "metadata": {},
   "outputs": [],
   "source": [
    "df_test_copy['Expenses_pp'] = df_test_copy['Medical_Expenses_Family'] / (df_test_copy['Parents or siblings infected'] + df_test_copy['Wife/Husband or children infected'] + 1)"
   ]
  },
  {
   "cell_type": "code",
   "execution_count": 33,
   "metadata": {},
   "outputs": [],
   "source": [
    "X.drop('Medical_Expenses_Family', axis = 1, inplace=True)"
   ]
  },
  {
   "cell_type": "code",
   "execution_count": 34,
   "metadata": {},
   "outputs": [],
   "source": [
    "df_test_copy.drop('Medical_Expenses_Family', axis = 1, inplace=True)"
   ]
  },
  {
   "cell_type": "markdown",
   "metadata": {},
   "source": [
    "__`Encoding`__"
   ]
  },
  {
   "cell_type": "code",
   "execution_count": 35,
   "metadata": {},
   "outputs": [],
   "source": [
    "# Encode categorical variables to dummy variables\n",
    "cat_features=['Medical_Tent', 'City', 'Gender']\n",
    "\n",
    "ce_one_hot = ce.OneHotEncoder(cols = cat_features, use_cat_names=True)\n",
    "X = ce_one_hot.fit_transform(X)"
   ]
  },
  {
   "cell_type": "code",
   "execution_count": 36,
   "metadata": {},
   "outputs": [],
   "source": [
    "df_test_copy = ce_one_hot.fit_transform(df_test_copy)"
   ]
  },
  {
   "cell_type": "markdown",
   "metadata": {},
   "source": [
    "__`Drop Columns`__"
   ]
  },
  {
   "cell_type": "code",
   "execution_count": 45,
   "metadata": {},
   "outputs": [],
   "source": [
    "cols_drop = ['Patient_ID','Family_Case_ID','Name', \n",
    "             'Medical_Tent_G', 'City_Taos','Gender_M']"
   ]
  },
  {
   "cell_type": "code",
   "execution_count": 46,
   "metadata": {},
   "outputs": [],
   "source": [
    "X.drop(columns = cols_drop, inplace = True)\n",
    "df_test_copy.drop(columns = cols_drop, inplace = True)"
   ]
  },
  {
   "cell_type": "markdown",
   "metadata": {},
   "source": [
    "### 3.3. Train test split"
   ]
  },
  {
   "cell_type": "code",
   "execution_count": 47,
   "metadata": {},
   "outputs": [],
   "source": [
    "X_train, X_val, y_train, y_val = train_test_split(X, y,\n",
    "                                                  test_size=0.2, \n",
    "                                                  stratify = y,\n",
    "                                                  random_state = 15)"
   ]
  },
  {
   "cell_type": "markdown",
   "metadata": {},
   "source": [
    "### 3.4 Feature Selection"
   ]
  },
  {
   "cell_type": "markdown",
   "metadata": {},
   "source": [
    "### 3.4.1. Correlation"
   ]
  },
  {
   "cell_type": "code",
   "execution_count": 48,
   "metadata": {},
   "outputs": [],
   "source": [
    "def cor_heatmap(cor):\n",
    "    mask = np.triu(np.ones_like(cor, dtype=bool))\n",
    "    plt.figure(figsize=(14,12))\n",
    "    sns.set(font_scale=1.4, style = 'white')\n",
    "    sns.heatmap(data = cor, annot = True, annot_kws={\"size\": 10},\n",
    "                mask = mask, cmap = plt.cm.Reds, fmt='.1f')\n",
    "    plt.show()"
   ]
  },
  {
   "cell_type": "code",
   "execution_count": 49,
   "metadata": {},
   "outputs": [],
   "source": [
    "temp_X = X_train.copy(deep=True)\n",
    "temp_X['target'] = y_train"
   ]
  },
  {
   "cell_type": "code",
   "execution_count": 50,
   "metadata": {},
   "outputs": [],
   "source": [
    "corr_spearman = temp_X.corr('spearman')"
   ]
  },
  {
   "cell_type": "code",
   "execution_count": 51,
   "metadata": {},
   "outputs": [
    {
     "data": {
      "image/png": "[encoded data removed]",
      "text/plain": [
       "<Figure size 1008x864 with 2 Axes>"
      ]
     },
     "metadata": {},
     "output_type": "display_data"
    }
   ],
   "source": [
    "cor_heatmap(corr_spearman)"
   ]
  },
  {
   "cell_type": "markdown",
   "metadata": {},
   "source": [
    "### 3.4.2. Lasso"
   ]
  },
  {
   "cell_type": "code",
   "execution_count": 52,
   "metadata": {},
   "outputs": [
    {
     "name": "stdout",
     "output_type": "stream",
     "text": [
      "Best alpha using built-in LassoCV: 0.102916\n"
     ]
    }
   ],
   "source": [
    "lasso = LassoCV()\n",
    "lasso.fit(X = X_train, y = y_train)\n",
    "print(\"Best alpha using built-in LassoCV: %f\" % lasso.alpha_)"
   ]
  },
  {
   "cell_type": "code",
   "execution_count": 53,
   "metadata": {},
   "outputs": [
    {
     "data": {
      "text/plain": [
       "Severity                             0.000000\n",
       "Birthday_year                       -0.002631\n",
       "Parents_or_siblings_infected        -0.000000\n",
       "Wife/Husband_or_children_infected    0.000000\n",
       "Medical_Tent_No_tent                 0.000000\n",
       "Medical_Tent_F                      -0.000000\n",
       "Medical_Tent_B                      -0.000000\n",
       "Medical_Tent_A                      -0.000000\n",
       "Medical_Tent_E                      -0.000000\n",
       "Medical_Tent_C                      -0.000000\n",
       "Medical_Tent_D                      -0.000000\n",
       "Medical_Tent_T                       0.000000\n",
       "City_Santa Fe                        0.000000\n",
       "City_Albuquerque                    -0.000000\n",
       "Gender_F                            -0.000000\n",
       "family_death_ratio                   0.451905\n",
       "Expenses_pp                         -0.000073\n",
       "dtype: float64"
      ]
     },
     "execution_count": 53,
     "metadata": {},
     "output_type": "execute_result"
    }
   ],
   "source": [
    "coef_lasso = pd.Series(lasso.coef_,index=X.columns)\n",
    "coef_lasso"
   ]
  },
  {
   "cell_type": "code",
   "execution_count": 54,
   "metadata": {},
   "outputs": [
    {
     "name": "stdout",
     "output_type": "stream",
     "text": [
      "Lasso picked 3 variables and eliminated the other 14 variables\n"
     ]
    }
   ],
   "source": [
    "print(\"Lasso picked \" + str(sum(coef_lasso != 0)) + \" variables and eliminated the other \" +  str(sum(coef_lasso == 0)) + \" variables\")"
   ]
  },
  {
   "cell_type": "code",
   "execution_count": 55,
   "metadata": {},
   "outputs": [],
   "source": [
    "# plot the scores\n",
    "def plot_importance(coef,name):\n",
    "    imp_coef = coef.sort_values()\n",
    "    plt.figure(figsize=(8,10))\n",
    "    imp_coef.plot(kind = \"barh\")\n",
    "    plt.title(\"Feature importance using \" + name + \" Model\")\n",
    "    plt.show()"
   ]
  },
  {
   "cell_type": "code",
   "execution_count": 56,
   "metadata": {},
   "outputs": [
    {
     "data": {
      "image/png": "[encoded data removed]",
      "text/plain": [
       "<Figure size 576x720 with 1 Axes>"
      ]
     },
     "metadata": {},
     "output_type": "display_data"
    }
   ],
   "source": [
    "plot_importance(coef_lasso,'Lasso')"
   ]
  },
  {
   "cell_type": "code",
   "execution_count": 57,
   "metadata": {},
   "outputs": [
    {
     "data": {
      "text/plain": [
       "array(['family_death_ratio'], dtype=object)"
      ]
     },
     "execution_count": 57,
     "metadata": {},
     "output_type": "execute_result"
    }
   ],
   "source": [
    "# Extracting important features according to Lasso Regression\n",
    "\n",
    "lasso_features = coef_lasso.sort_values().abs() > lasso.alpha_\n",
    "lasso_features = lasso_features[lasso_features].index.values\n",
    "lasso_features"
   ]
  },
  {
   "cell_type": "markdown",
   "metadata": {},
   "source": [
    "### 3.4.3. RFE_CV"
   ]
  },
  {
   "cell_type": "code",
   "execution_count": 58,
   "metadata": {},
   "outputs": [
    {
     "name": "stdout",
     "output_type": "stream",
     "text": [
      "Optimal number of features : 4\n",
      "Best features : ['Birthday_year', 'Gender_F', 'family_death_ratio', 'Expenses_pp']\n"
     ]
    }
   ],
   "source": [
    "rf_clf = RandomForestClassifier(random_state = 15)\n",
    "rf_clf.fit(X_train, y_train)\n",
    "\n",
    "rfecv = RFECV(rf_clf, cv= 5, step=1)\n",
    "rfecv = rfecv.fit(X_train, y_train)\n",
    "\n",
    "rfecv_mask = rfecv.get_support() \n",
    "\n",
    "rfecv_features = [] \n",
    "\n",
    "for bool, feature in zip(rfecv_mask, X_train.columns):\n",
    "    if bool:\n",
    "        rfecv_features.append(feature)\n",
    "        \n",
    "print('Optimal number of features :', rfecv.n_features_)\n",
    "print('Best features :', rfecv_features)"
   ]
  },
  {
   "cell_type": "code",
   "execution_count": 59,
   "metadata": {},
   "outputs": [
    {
     "data": {
      "text/plain": [
       "Severity                             0.033070\n",
       "Birthday_year                        0.055183\n",
       "Parents_or_siblings_infected         0.012006\n",
       "Wife/Husband_or_children_infected    0.015507\n",
       "Medical_Tent_No_tent                 0.018747\n",
       "Medical_Tent_F                       0.001480\n",
       "Medical_Tent_B                       0.003410\n",
       "Medical_Tent_A                       0.001009\n",
       "Medical_Tent_E                       0.002228\n",
       "Medical_Tent_C                       0.002435\n",
       "Medical_Tent_D                       0.001996\n",
       "Medical_Tent_T                       0.000138\n",
       "City_Santa Fe                        0.006000\n",
       "City_Albuquerque                     0.004181\n",
       "Gender_F                             0.114537\n",
       "family_death_ratio                   0.684636\n",
       "Expenses_pp                          0.043437\n",
       "dtype: float64"
      ]
     },
     "execution_count": 59,
     "metadata": {},
     "output_type": "execute_result"
    }
   ],
   "source": [
    "coef_rfecv = pd.Series(rf_clf.feature_importances_,index=X.columns)\n",
    "coef_rfecv"
   ]
  },
  {
   "cell_type": "code",
   "execution_count": 60,
   "metadata": {},
   "outputs": [
    {
     "data": {
      "image/png": "[encoded data removed]",
      "text/plain": [
       "<Figure size 576x720 with 1 Axes>"
      ]
     },
     "metadata": {},
     "output_type": "display_data"
    }
   ],
   "source": [
    "plot_importance(coef_rfecv,'RFE with Random Forest')"
   ]
  },
  {
   "cell_type": "code",
   "execution_count": null,
   "metadata": {},
   "outputs": [],
   "source": []
  },
  {
   "cell_type": "markdown",
   "metadata": {},
   "source": [
    "__`Selected Features`__"
   ]
  },
  {
   "cell_type": "code",
   "execution_count": null,
   "metadata": {},
   "outputs": [],
   "source": [
    "#Set \n",
    "#cols_drop = ['Patient_ID','Family_Case_ID','Name',\n",
    "#             'Medical_Expenses_Family', 'Medical_Tent_G', 'City_Taos',\n",
    "#             'Gender_M']"
   ]
  },
  {
   "cell_type": "code",
   "execution_count": null,
   "metadata": {},
   "outputs": [],
   "source": [
    "#X_train.drop(columns = cols_drop, inplace = True)\n",
    "#X_val.drop(columns = cols_drop, inplace = True)"
   ]
  },
  {
   "cell_type": "code",
   "execution_count": null,
   "metadata": {},
   "outputs": [],
   "source": [
    "#df_test_copy.drop(columns = cols_drop, inplace = True)"
   ]
  },
  {
   "cell_type": "markdown",
   "metadata": {},
   "source": [
    "## 4. Model Implementation"
   ]
  },
  {
   "cell_type": "markdown",
   "metadata": {},
   "source": [
    "### Model A - XGBoost"
   ]
  },
  {
   "cell_type": "code",
   "execution_count": null,
   "metadata": {},
   "outputs": [],
   "source": []
  },
  {
   "cell_type": "code",
   "execution_count": 71,
   "metadata": {},
   "outputs": [],
   "source": [
    "mod_A_pipe = Pipeline(\n",
    "    [\n",
    "        ('scaler', MinMaxScaler()),\n",
    "        (\n",
    "            'classifier', BaggingClassifier(\n",
    "                base_estimator= XGBClassifier(\n",
    "                    colsample_bytree = 1.0, \n",
    "                    eta = 0.63, \n",
    "                    max_depth = 2),\n",
    "                n_estimators=10,\n",
    "                max_features=1.0,\n",
    "                bootstrap=True,\n",
    "                random_state = 15)\n",
    "        )\n",
    "    ]\n",
    ")"
   ]
  },
  {
   "cell_type": "code",
   "execution_count": 72,
   "metadata": {},
   "outputs": [],
   "source": [
    "mod_A_param_grid = {\n",
    "    'scaler': [\n",
    "        MinMaxScaler(), \n",
    "        MinMaxScaler(feature_range=(-1,1)),\n",
    "        RobustScaler(),\n",
    "        StandardScaler(),\n",
    "        PowerTransformer()\n",
    "    ],\n",
    "    'classifier__n_estimators': list(np.arange(5,50,1)),\n",
    "    'classifier__max_features': list(np.arange(2,9,1)),\n",
    "    'classifier__bootstrap': [True, False],\n",
    "    \n",
    "}"
   ]
  },
  {
   "cell_type": "code",
   "execution_count": 73,
   "metadata": {},
   "outputs": [],
   "source": [
    "#to be able to excatly reproduce the values we want to fix the seed, thus we initiate the Kfold for the GridSearch separetly and as follow:\n",
    "kfold = KFold(n_splits = 5, random_state = 15)"
   ]
  },
  {
   "cell_type": "code",
   "execution_count": 74,
   "metadata": {},
   "outputs": [],
   "source": [
    "mod_A_clf = GridSearchCV(\n",
    "    mod_A_pipe, \n",
    "    mod_A_param_grid, \n",
    "    cv = kfold, \n",
    "    verbose = 2,\n",
    "    n_jobs = -1,\n",
    "    return_train_score=True,\n",
    "    scoring='accuracy'\n",
    ")"
   ]
  },
  {
   "cell_type": "code",
   "execution_count": 75,
   "metadata": {},
   "outputs": [
    {
     "name": "stdout",
     "output_type": "stream",
     "text": [
      "Fitting 5 folds for each of 3150 candidates, totalling 15750 fits\n"
     ]
    },
    {
     "name": "stderr",
     "output_type": "stream",
     "text": [
      "[Parallel(n_jobs=-1)]: Using backend LokyBackend with 12 concurrent workers.\n",
      "[Parallel(n_jobs=-1)]: Done  17 tasks      | elapsed:    1.6s\n",
      "[Parallel(n_jobs=-1)]: Done 138 tasks      | elapsed:    4.5s\n",
      "[Parallel(n_jobs=-1)]: Done 341 tasks      | elapsed:   13.9s\n",
      "[Parallel(n_jobs=-1)]: Done 624 tasks      | elapsed:   37.4s\n",
      "[Parallel(n_jobs=-1)]: Done 989 tasks      | elapsed:  1.4min\n",
      "[Parallel(n_jobs=-1)]: Done 1434 tasks      | elapsed:  2.0min\n",
      "[Parallel(n_jobs=-1)]: Done 1961 tasks      | elapsed:  3.0min\n",
      "[Parallel(n_jobs=-1)]: Done 2568 tasks      | elapsed:  4.1min\n",
      "[Parallel(n_jobs=-1)]: Done 3257 tasks      | elapsed:  5.7min\n",
      "[Parallel(n_jobs=-1)]: Done 4026 tasks      | elapsed:  7.1min\n",
      "[Parallel(n_jobs=-1)]: Done 4877 tasks      | elapsed:  9.1min\n",
      "[Parallel(n_jobs=-1)]: Done 5808 tasks      | elapsed: 11.5min\n",
      "[Parallel(n_jobs=-1)]: Done 6821 tasks      | elapsed: 14.5min\n",
      "[Parallel(n_jobs=-1)]: Done 7914 tasks      | elapsed: 17.4min\n",
      "[Parallel(n_jobs=-1)]: Done 9089 tasks      | elapsed: 19.2min\n",
      "[Parallel(n_jobs=-1)]: Done 10344 tasks      | elapsed: 21.3min\n",
      "[Parallel(n_jobs=-1)]: Done 11681 tasks      | elapsed: 23.8min\n",
      "[Parallel(n_jobs=-1)]: Done 13098 tasks      | elapsed: 26.9min\n",
      "[Parallel(n_jobs=-1)]: Done 14597 tasks      | elapsed: 31.1min\n",
      "[Parallel(n_jobs=-1)]: Done 15750 out of 15750 | elapsed: 34.4min finished\n"
     ]
    }
   ],
   "source": [
    "mod_A = mod_A_clf.fit(X, y)"
   ]
  },
  {
   "cell_type": "code",
   "execution_count": 76,
   "metadata": {},
   "outputs": [
    {
     "data": {
      "text/plain": [
       "{'classifier__bootstrap': True,\n",
       " 'classifier__max_features': 8,\n",
       " 'classifier__n_estimators': 44,\n",
       " 'scaler': MinMaxScaler(copy=True, feature_range=(0, 1))}"
      ]
     },
     "execution_count": 76,
     "metadata": {},
     "output_type": "execute_result"
    }
   ],
   "source": [
    "mod_A.best_params_"
   ]
  },
  {
   "cell_type": "code",
   "execution_count": 77,
   "metadata": {},
   "outputs": [
    {
     "name": "stdout",
     "output_type": "stream",
     "text": [
      "Mean:  0.97\n",
      "Split 1:  0.9833333333333333\n",
      "Split 2:  0.9611111111111111\n",
      "Split 3:  0.9611111111111111\n",
      "Split 4:  0.9722222222222222\n",
      "Split 5:  0.9722222222222222\n"
     ]
    }
   ],
   "source": [
    "print('Mean: ', mod_A.cv_results_['mean_test_score'][mod_A.best_index_])\n",
    "print('Split 1: ', mod_A.cv_results_['split0_test_score'][mod_A.best_index_])\n",
    "print('Split 2: ', mod_A.cv_results_['split1_test_score'][mod_A.best_index_])\n",
    "print('Split 3: ', mod_A.cv_results_['split2_test_score'][mod_A.best_index_])\n",
    "print('Split 4: ', mod_A.cv_results_['split3_test_score'][mod_A.best_index_])\n",
    "print('Split 5: ', mod_A.cv_results_['split4_test_score'][mod_A.best_index_])"
   ]
  },
  {
   "cell_type": "markdown",
   "metadata": {},
   "source": [
    "**Prediction**"
   ]
  },
  {
   "cell_type": "code",
   "execution_count": 78,
   "metadata": {},
   "outputs": [],
   "source": [
    "mod_A_labels_predict = mod_A.predict(df_test_copy)"
   ]
  },
  {
   "cell_type": "code",
   "execution_count": 80,
   "metadata": {},
   "outputs": [],
   "source": [
    "labels_df_A = pd.DataFrame(data = mod_A_labels_predict)"
   ]
  },
  {
   "cell_type": "code",
   "execution_count": 81,
   "metadata": {},
   "outputs": [],
   "source": [
    "df_test['Deceased'] = labels_df_A"
   ]
  },
  {
   "cell_type": "code",
   "execution_count": 83,
   "metadata": {},
   "outputs": [],
   "source": [
    "#export to csv according to sample\n",
    "df_test.to_csv('m20190876_v1.csv',columns=['Patient_ID','Deceased'],index=False)"
   ]
  },
  {
   "cell_type": "markdown",
   "metadata": {},
   "source": [
    "### Model B - Decision Tree"
   ]
  },
  {
   "cell_type": "code",
   "execution_count": null,
   "metadata": {},
   "outputs": [],
   "source": [
    "mod_B_clf = DecisionTreeClassifier(random_state=15)\n",
    "path = mod_B_clf.cost_complexity_pruning_path(X_train, y_train)\n",
    "ccp_alphas, impurities = path.ccp_alphas, path.impurities\n",
    "clfs = []\n",
    "for ccp_alpha in ccp_alphas:\n",
    "    mod_B_clf = DecisionTreeClassifier(random_state=15, ccp_alpha=ccp_alpha)\n",
    "    mod_B_clf.fit(X_train, y_train)\n",
    "    clfs.append(clf)"
   ]
  },
  {
   "cell_type": "code",
   "execution_count": null,
   "metadata": {},
   "outputs": [],
   "source": []
  },
  {
   "cell_type": "code",
   "execution_count": null,
   "metadata": {},
   "outputs": [],
   "source": []
  },
  {
   "cell_type": "code",
   "execution_count": null,
   "metadata": {},
   "outputs": [],
   "source": []
  },
  {
   "cell_type": "code",
   "execution_count": null,
   "metadata": {},
   "outputs": [],
   "source": []
  },
  {
   "cell_type": "markdown",
   "metadata": {},
   "source": [
    "### Model C - Neural Network"
   ]
  },
  {
   "cell_type": "markdown",
   "metadata": {},
   "source": [
    "### Model D - KNN"
   ]
  },
  {
   "cell_type": "markdown",
   "metadata": {},
   "source": [
    "### Model E - SVM"
   ]
  },
  {
   "cell_type": "markdown",
   "metadata": {},
   "source": [
    "## 5. Performance Comparison and Final Thoughts"
   ]
  },
  {
   "cell_type": "code",
   "execution_count": null,
   "metadata": {},
   "outputs": [],
   "source": []
  }
 ],
 "metadata": {
  "kernelspec": {
   "display_name": "Python 3",
   "language": "python",
   "name": "python3"
  },
  "language_info": {
   "codemirror_mode": {
    "name": "ipython",
    "version": 3
   },
   "file_extension": ".py",
   "mimetype": "text/x-python",
   "name": "python",
   "nbconvert_exporter": "python",
   "pygments_lexer": "ipython3",
   "version": "3.7.6"
  },
  "varInspector": {
   "cols": {
    "lenName": 16,
    "lenType": 16,
    "lenVar": 40
   },
   "kernels_config": {
    "python": {
     "delete_cmd_postfix": "",
     "delete_cmd_prefix": "del ",
     "library": "var_list.py",
     "varRefreshCmd": "print(var_dic_list())"
    },
    "r": {
     "delete_cmd_postfix": ") ",
     "delete_cmd_prefix": "rm(",
     "library": "var_list.r",
     "varRefreshCmd": "cat(var_dic_list()) "
    }
   },
   "types_to_exclude": [
    "module",
    "function",
    "builtin_function_or_method",
    "instance",
    "_Feature"
   ],
   "window_display": false
  }
 },
 "nbformat": 4,
 "nbformat_minor": 2
}
